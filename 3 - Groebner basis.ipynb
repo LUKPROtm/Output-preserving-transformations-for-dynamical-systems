{
 "cells": [
  {
   "cell_type": "markdown",
   "id": "66f6f8fc",
   "metadata": {},
   "source": [
    "# Groebner basis"
   ]
  },
  {
   "cell_type": "markdown",
   "id": "9ccbaf1f",
   "metadata": {},
   "source": [
    "## Some tests \n"
   ]
  },
  {
   "cell_type": "code",
   "execution_count": 1,
   "id": "f71b33a7",
   "metadata": {},
   "outputs": [],
   "source": [
    "using StructuralIdentifiability"
   ]
  },
  {
   "cell_type": "code",
   "execution_count": 2,
   "id": "8648af31",
   "metadata": {},
   "outputs": [],
   "source": [
    "using DifferentialEquations"
   ]
  },
  {
   "cell_type": "code",
   "execution_count": 3,
   "id": "6acc6528",
   "metadata": {},
   "outputs": [],
   "source": [
    "using AbstractAlgebra\n",
    "using Groebner"
   ]
  },
  {
   "cell_type": "code",
   "execution_count": 4,
   "id": "727c8c1d",
   "metadata": {},
   "outputs": [
    {
     "data": {
      "text/plain": [
       "2-element Vector{AbstractAlgebra.Generic.MPoly{Rational{BigInt}}}:\n",
       " x^3 + y^2\n",
       " x^2 + x*y"
      ]
     },
     "execution_count": 4,
     "metadata": {},
     "output_type": "execute_result"
    }
   ],
   "source": [
    "_, (x, y) = QQ[\"x\", \"y\"]\n",
    "F = [x^3 + y^2, x*y + x^2]"
   ]
  },
  {
   "cell_type": "code",
   "execution_count": 5,
   "id": "781369a5",
   "metadata": {
    "scrolled": true
   },
   "outputs": [
    {
     "data": {
      "text/plain": [
       "3-element Vector{AbstractAlgebra.Generic.MPoly{Rational{BigInt}}}:\n",
       " y^3 - y^2\n",
       " x*y^2 + y^2\n",
       " x^2 + x*y"
      ]
     },
     "execution_count": 5,
     "metadata": {},
     "output_type": "execute_result"
    }
   ],
   "source": [
    "groebner(F)"
   ]
  },
  {
   "cell_type": "markdown",
   "id": "144d0ce2",
   "metadata": {},
   "source": [
    "linear system"
   ]
  },
  {
   "cell_type": "code",
   "execution_count": 6,
   "id": "afef1de2",
   "metadata": {},
   "outputs": [
    {
     "data": {
      "text/plain": [
       "3-element Vector{Polynomial{DynamicPolynomials.Commutative{DynamicPolynomials.CreationOrder}, Graded{LexOrder}, Int64}}:\n",
       " z\n",
       " 1 + y\n",
       " 2 + x"
      ]
     },
     "execution_count": 6,
     "metadata": {},
     "output_type": "execute_result"
    }
   ],
   "source": [
    "using DynamicPolynomials\n",
    "\n",
    "@polyvar x y z\n",
    "system = [\n",
    "  x - y + z + 1,\n",
    "  x + 2y + 3z + 4,\n",
    "  x + y + 5z + 3\n",
    "]\n",
    "\n",
    "groebner(system)  # rref"
   ]
  },
  {
   "cell_type": "markdown",
   "id": "60886453",
   "metadata": {},
   "source": [
    "univariate case "
   ]
  },
  {
   "cell_type": "code",
   "execution_count": 7,
   "id": "3aed65d5",
   "metadata": {},
   "outputs": [
    {
     "data": {
      "text/plain": [
       "1-element Vector{Polynomial{DynamicPolynomials.Commutative{DynamicPolynomials.CreationOrder}, Graded{LexOrder}, Int64}}:\n",
       " 3 + x"
      ]
     },
     "execution_count": 7,
     "metadata": {},
     "output_type": "execute_result"
    }
   ],
   "source": [
    "@polyvar x\n",
    "f = (x^2 - 1)^7*(x + 3)*(x - 7)^4\n",
    "g = (x + 3)*(x + 7)\n",
    "\n",
    "groebner([f, g])   # gcd by groebner"
   ]
  },
  {
   "cell_type": "markdown",
   "id": "f7a72c7f",
   "metadata": {},
   "source": [
    "etc"
   ]
  },
  {
   "cell_type": "markdown",
   "id": "b7e389d0",
   "metadata": {},
   "source": [
    "## Two compartments model\n"
   ]
  },
  {
   "cell_type": "code",
   "execution_count": 17,
   "id": "4706acef",
   "metadata": {},
   "outputs": [
    {
     "name": "stderr",
     "output_type": "stream",
     "text": [
      "\u001b[36m\u001b[1m[ \u001b[22m\u001b[39m\u001b[36m\u001b[1mInfo: \u001b[22m\u001b[39mSummary of the model:\n",
      "\u001b[36m\u001b[1m[ \u001b[22m\u001b[39m\u001b[36m\u001b[1mInfo: \u001b[22m\u001b[39mState variables: x1, x2\n",
      "\u001b[36m\u001b[1m[ \u001b[22m\u001b[39m\u001b[36m\u001b[1mInfo: \u001b[22m\u001b[39mParameters: a, b\n",
      "\u001b[36m\u001b[1m[ \u001b[22m\u001b[39m\u001b[36m\u001b[1mInfo: \u001b[22m\u001b[39mInputs: \n",
      "\u001b[36m\u001b[1m[ \u001b[22m\u001b[39m\u001b[36m\u001b[1mInfo: \u001b[22m\u001b[39mOutputs: y\n"
     ]
    },
    {
     "data": {
      "text/plain": [
       "1"
      ]
     },
     "execution_count": 17,
     "metadata": {},
     "output_type": "execute_result"
    }
   ],
   "source": [
    "two_compartment = @ODEmodel(\n",
    "    x1'(t) = -a * x1(t) + b * x2(t),\n",
    "    x2'(t) = -b * x2(t),\n",
    "    y(t) = x1(t)\n",
    ")\n",
    "1"
   ]
  },
  {
   "cell_type": "code",
   "execution_count": 18,
   "id": "f064c7de",
   "metadata": {
    "scrolled": true
   },
   "outputs": [
    {
     "name": "stderr",
     "output_type": "stream",
     "text": [
      "\u001b[36m\u001b[1m[ \u001b[22m\u001b[39m\u001b[36m\u001b[1mInfo: \u001b[22m\u001b[39mComputing IO-equations\n",
      "\u001b[36m\u001b[1m┌ \u001b[22m\u001b[39m\u001b[36m\u001b[1mInfo: \u001b[22m\u001b[39mComputed in 0.0416359 seconds\n",
      "\u001b[36m\u001b[1m│ \u001b[22m\u001b[39m  :ioeq_time = :ioeq_time\n",
      "\u001b[36m\u001b[1m└ \u001b[22m\u001b[39m  ioeq_time = 0.0416359\n",
      "\u001b[36m\u001b[1m[ \u001b[22m\u001b[39m\u001b[36m\u001b[1mInfo: \u001b[22m\u001b[39mComputing Wronskians\n",
      "\u001b[36m\u001b[1m┌ \u001b[22m\u001b[39m\u001b[36m\u001b[1mInfo: \u001b[22m\u001b[39mComputed in 0.2287869 seconds\n",
      "\u001b[36m\u001b[1m│ \u001b[22m\u001b[39m  :wrnsk_time = :wrnsk_time\n",
      "\u001b[36m\u001b[1m└ \u001b[22m\u001b[39m  wrnsk_time = 0.2287869\n",
      "\u001b[36m\u001b[1m[ \u001b[22m\u001b[39m\u001b[36m\u001b[1mInfo: \u001b[22m\u001b[39mDimensions of the Wronskians [3]\n",
      "\u001b[36m\u001b[1m┌ \u001b[22m\u001b[39m\u001b[36m\u001b[1mInfo: \u001b[22m\u001b[39mRanks of the Wronskians computed in 6.35e-5 seconds\n",
      "\u001b[36m\u001b[1m│ \u001b[22m\u001b[39m  :rank_time = :rank_time\n",
      "\u001b[36m\u001b[1m└ \u001b[22m\u001b[39m  rank_times = 6.35e-5\n",
      "\u001b[36m\u001b[1m[ \u001b[22m\u001b[39m\u001b[36m\u001b[1mInfo: \u001b[22m\u001b[39mSimplifying identifiable functions\n",
      "\u001b[36m✓ # Computing specializations..     Time: 0:00:01\u001b[39m\n",
      "\u001b[36m\u001b[1m┌ \u001b[22m\u001b[39m\u001b[36m\u001b[1mInfo: \u001b[22m\u001b[39mComputing normal forms (probabilistic)\n",
      "\u001b[36m\u001b[1m│ \u001b[22m\u001b[39mVariables (2 in total): Nemo.QQMPolyRingElem[a, b]\n",
      "\u001b[36m\u001b[1m│ \u001b[22m\u001b[39mUp to degree: 2\n",
      "\u001b[36m\u001b[1m└ \u001b[22m\u001b[39mModulo: Finite field of characteristic 1073741827\n",
      "\u001b[36m\u001b[1m[ \u001b[22m\u001b[39m\u001b[36m\u001b[1mInfo: \u001b[22m\u001b[39mUsed specialization points: 3\n",
      "\u001b[36m\u001b[1m[ \u001b[22m\u001b[39m\u001b[36m\u001b[1mInfo: \u001b[22m\u001b[39mComputing 3 Groebner bases for block orderings. Simplification code is 1\n",
      "\u001b[36m✓ # Computing specializations..     Time: 0:00:01\u001b[39m\n",
      "\u001b[36m\u001b[1m┌ \u001b[22m\u001b[39m\u001b[36m\u001b[1mInfo: \u001b[22m\u001b[39mFinal cleaning and simplification of generators. \n",
      "\u001b[36m\u001b[1m└ \u001b[22m\u001b[39mOut of 13 fractions 3 are syntactically unique.\n",
      "\u001b[36m\u001b[1m[ \u001b[22m\u001b[39m\u001b[36m\u001b[1mInfo: \u001b[22m\u001b[39mChecking inclusion with probability 0.995\n",
      "\u001b[36m\u001b[1m[ \u001b[22m\u001b[39m\u001b[36m\u001b[1mInfo: \u001b[22m\u001b[39mInclusion checked in 0.5906027 seconds. Result: true\n",
      "\u001b[36m\u001b[1m[ \u001b[22m\u001b[39m\u001b[36m\u001b[1mInfo: \u001b[22m\u001b[39mOut of 2 initial generators there are 2 indepdendent\n",
      "\u001b[36m\u001b[1m[ \u001b[22m\u001b[39m\u001b[36m\u001b[1mInfo: \u001b[22m\u001b[39mThe ranking of the new set of generators is 6\n",
      "\u001b[36m\u001b[1m[ \u001b[22m\u001b[39m\u001b[36m\u001b[1mInfo: \u001b[22m\u001b[39mSimplifying identifiable functions\n",
      "\u001b[36m\u001b[1m┌ \u001b[22m\u001b[39m\u001b[36m\u001b[1mInfo: \u001b[22m\u001b[39mComputing normal forms (probabilistic)\n",
      "\u001b[36m\u001b[1m│ \u001b[22m\u001b[39mVariables (4 in total): Nemo.QQMPolyRingElem[a, b, x1, x2]\n",
      "\u001b[36m\u001b[1m│ \u001b[22m\u001b[39mUp to degree: 2\n",
      "\u001b[36m\u001b[1m└ \u001b[22m\u001b[39mModulo: Finite field of characteristic 1073741827\n",
      "\u001b[36m\u001b[1m[ \u001b[22m\u001b[39m\u001b[36m\u001b[1mInfo: \u001b[22m\u001b[39mUsed specialization points: 8\n",
      "\u001b[36m\u001b[1m[ \u001b[22m\u001b[39m\u001b[36m\u001b[1mInfo: \u001b[22m\u001b[39mComputing 5 Groebner bases for block orderings. Simplification code is 1\n",
      "\u001b[36m\u001b[1m┌ \u001b[22m\u001b[39m\u001b[36m\u001b[1mInfo: \u001b[22m\u001b[39mFinal cleaning and simplification of generators. \n",
      "\u001b[36m\u001b[1m└ \u001b[22m\u001b[39mOut of 40 fractions 15 are syntactically unique.\n",
      "\u001b[36m\u001b[1m[ \u001b[22m\u001b[39m\u001b[36m\u001b[1mInfo: \u001b[22m\u001b[39mChecking inclusion with probability 0.995\n",
      "\u001b[36m\u001b[1m[ \u001b[22m\u001b[39m\u001b[36m\u001b[1mInfo: \u001b[22m\u001b[39mInclusion checked in 0.0014684 seconds. Result: true\n",
      "\u001b[36m\u001b[1m[ \u001b[22m\u001b[39m\u001b[36m\u001b[1mInfo: \u001b[22m\u001b[39mOut of 5 initial generators there are 4 indepdendent\n",
      "\u001b[36m\u001b[1m[ \u001b[22m\u001b[39m\u001b[36m\u001b[1mInfo: \u001b[22m\u001b[39mThe ranking of the new set of generators is 18\n",
      "\u001b[36m\u001b[1m[ \u001b[22m\u001b[39m\u001b[36m\u001b[1mInfo: \u001b[22m\u001b[39mThe search for identifiable functions concluded in 9.1438553 seconds\n"
     ]
    },
    {
     "data": {
      "text/plain": [
       "4-element Vector{AbstractAlgebra.Generic.Frac{Nemo.QQMPolyRingElem}}:\n",
       " x1\n",
       " a*b\n",
       " a + b\n",
       " b*x2 + b*x1"
      ]
     },
     "execution_count": 18,
     "metadata": {},
     "output_type": "execute_result"
    }
   ],
   "source": [
    "invariants = find_identifiable_functions(two_compartment, with_states = true)"
   ]
  },
  {
   "cell_type": "markdown",
   "id": "dca7e1ec",
   "metadata": {},
   "source": [
    "In this part I use the convention that the unkown are the upper case letters"
   ]
  },
  {
   "cell_type": "code",
   "execution_count": 8,
   "id": "a753f77b",
   "metadata": {},
   "outputs": [
    {
     "data": {
      "text/plain": [
       "(x1, x2, a, b, X1, X2, A, B)"
      ]
     },
     "execution_count": 8,
     "metadata": {},
     "output_type": "execute_result"
    }
   ],
   "source": [
    "@polyvar x1 x2 a b X1 X2 A B"
   ]
  },
  {
   "cell_type": "code",
   "execution_count": 9,
   "id": "5538c606",
   "metadata": {},
   "outputs": [
    {
     "data": {
      "text/plain": [
       "4-element Vector{Polynomial{DynamicPolynomials.Commutative{DynamicPolynomials.CreationOrder}, Graded{LexOrder}, Int64}}:\n",
       " -X1 + x1\n",
       " -AB + ab\n",
       " -B - A + b + a\n",
       " -X2B - X1B + x2b + x1b"
      ]
     },
     "execution_count": 9,
     "metadata": {},
     "output_type": "execute_result"
    }
   ],
   "source": [
    "F = [x1 - X1,\n",
    " a*b - A*B,\n",
    " a + b - A - B,\n",
    " b*x2 + b*x1 - B*X2 - B*X1\n",
    "]"
   ]
  },
  {
   "cell_type": "code",
   "execution_count": 10,
   "id": "2441ea99",
   "metadata": {
    "scrolled": true
   },
   "outputs": [
    {
     "data": {
      "text/plain": [
       "5-element Vector{Polynomial{DynamicPolynomials.Commutative{DynamicPolynomials.CreationOrder}, Graded{LexOrder}, Int64}}:\n",
       " -B - A + b + a\n",
       " -X1 + x1\n",
       " AB - bB - bA + b²\n",
       " -X2B - X1B + bX1 + x2b\n",
       " -X2B² - X2AB - X1B² + bX2B + bX1B + x2AB"
      ]
     },
     "execution_count": 10,
     "metadata": {},
     "output_type": "execute_result"
    }
   ],
   "source": [
    "reduced = groebner(F)"
   ]
  },
  {
   "cell_type": "markdown",
   "id": "9f9e165e",
   "metadata": {},
   "source": [
    "Now, those equations = 0 is equivalent to the original equations = 0.\n",
    "solving manually this system is easier since we can start with the first one and iteratively go down. We thus get:\n",
    "from the first 3 equations that either A = a, B = b or A = b, B = a and X1 = x1.\n",
    "In the first case, from the 4th eq we get X2 = x2 and the 5th equation becomes also true.\n",
    "In the second case, from the 4th eq we get X2 = ((b - a)/a) x1 - (b/a) x2 and also in this case the 5th equation becomes true."
   ]
  },
  {
   "cell_type": "markdown",
   "id": "7c0747a9",
   "metadata": {},
   "source": [
    "Another way: solve them automatically with SymPy"
   ]
  },
  {
   "cell_type": "code",
   "execution_count": 23,
   "id": "b17b16db",
   "metadata": {
    "scrolled": true
   },
   "outputs": [],
   "source": [
    "using SymPy\n"
   ]
  },
  {
   "cell_type": "code",
   "execution_count": 38,
   "id": "df3d68b7",
   "metadata": {},
   "outputs": [
    {
     "data": {
      "text/latex": [
       "$\\left[ \\begin{array}{r}x_{1} - y_{1}\\\\a b - c d\\\\a + b - c - d\\\\b x_{1} + b x_{2} - d y_{1} - d y_{2}\\end{array} \\right]$\n"
      ],
      "text/plain": [
       "4-element Vector{Sym}:\n",
       "                   x1 - y1\n",
       "                 a*b - c*d\n",
       "             a + b - c - d\n",
       " b*x1 + b*x2 - d*y1 - d*y2"
      ]
     },
     "execution_count": 38,
     "metadata": {},
     "output_type": "execute_result"
    }
   ],
   "source": [
    "F = [x1 - y1,\n",
    " a*b - c*d,\n",
    " a + b - c - d,\n",
    " b*x2 + b*x1 - d*y2 - d*y1\n",
    "]"
   ]
  },
  {
   "cell_type": "code",
   "execution_count": 40,
   "id": "789a047e",
   "metadata": {},
   "outputs": [
    {
     "name": "stdout",
     "output_type": "stream",
     "text": [
      "NTuple{4, Sym}[(x1, x2, a, b), (x1, -(a*x1 - b*x1 - b*x2)/a, b, a)]\n"
     ]
    }
   ],
   "source": [
    "# Define variables\n",
    "x1, x2, a, b, y1, y2, c, d = SymPy.symbols(\"x1 x2 a b y1 y2 c d\")\n",
    "\n",
    "# Define the equations\n",
    "eq1 = F[1]\n",
    "eq2 = F[2]\n",
    "eq3 = F[3]\n",
    "eq4 = F[4]\n",
    "\n",
    "# Solve the system of equations\n",
    "solution = SymPy.solve((eq1, eq2, eq3, eq4), (y1, y2, c, d))\n",
    "\n",
    "# Print the solution\n",
    "println(solution)"
   ]
  },
  {
   "cell_type": "markdown",
   "id": "30cb6074",
   "metadata": {},
   "source": [
    "result is clearer if I don't use the Groebner basis.\n",
    "In this case, since the system is easily solvable, there is no need to put in the the Groebner basis since we could have already a solution without making the shift."
   ]
  }
 ],
 "metadata": {
  "kernelspec": {
   "display_name": "Julia 1.9.3",
   "language": "julia",
   "name": "julia-1.9"
  },
  "language_info": {
   "file_extension": ".jl",
   "mimetype": "application/julia",
   "name": "julia",
   "version": "1.9.3"
  }
 },
 "nbformat": 4,
 "nbformat_minor": 5
}
