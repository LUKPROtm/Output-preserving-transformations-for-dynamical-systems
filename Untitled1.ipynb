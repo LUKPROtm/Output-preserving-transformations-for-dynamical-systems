{
 "cells": [
  {
   "cell_type": "code",
   "execution_count": 1,
   "id": "3c650d74",
   "metadata": {},
   "outputs": [],
   "source": [
    "using SymPy"
   ]
  },
  {
   "cell_type": "code",
   "execution_count": 2,
   "id": "df66d1e2",
   "metadata": {},
   "outputs": [
    {
     "data": {
      "text/plain": [
       "(k01, k03, k12, k21, k23, k31, k32, u, w01, w03, w12, w21, w23, w31, w32)"
      ]
     },
     "execution_count": 2,
     "metadata": {},
     "output_type": "execute_result"
    }
   ],
   "source": [
    "k01, k03, k12, k21, k23, k31, k32, u, w01, w03, w12, w21, w23, w31, w32 = SymPy.symbols(\"k01 k03 k12 k21 k23 k31 k32 u w01 w03 w12 w21 w23 w31 w32\")\n",
    "\n"
   ]
  },
  {
   "cell_type": "code",
   "execution_count": 4,
   "id": "2ca77133",
   "metadata": {},
   "outputs": [
    {
     "data": {
      "text/latex": [
       "$k_{03} k_{21} k_{31} - k_{12} k_{21} k_{31} - k_{21}^{2} k_{31} - k_{21}^{2} k_{32} + k_{21} k_{23} k_{31} - k_{21} k_{31}^{2} - k_{21} k_{31} k_{32} + k_{23} k_{31}^{2}$"
      ],
      "text/plain": [
       "                               2          2                            2      \n",
       "k03*k21*k31 - k12*k21*k31 - k21 *k31 - k21 *k32 + k21*k23*k31 - k21*k31  - k21\n",
       "\n",
       "                  2\n",
       "*k31*k32 + k23*k31 "
      ]
     },
     "execution_count": 4,
     "metadata": {},
     "output_type": "execute_result"
    }
   ],
   "source": [
    " el = sympify(\"k03*k21*k31 - k12*k21*k31 - k21^2*k31 - k21^2*k32 + k21*k23*k31 - k21*k31^2 - k21*k31*k32 + k23*k31^2\")\n"
   ]
  },
  {
   "cell_type": "code",
   "execution_count": 5,
   "id": "7b21452d",
   "metadata": {},
   "outputs": [
    {
     "data": {
      "text/latex": [
       "$k_{03} k_{21} k_{31} - k_{12} k_{21} k_{31} - k_{21}^{2} k_{31} - k_{21}^{2} k_{32} + k_{21} k_{23} k_{31} - k_{21} k_{31}^{2} - k_{21} k_{31} k_{32} + k_{23} k_{31}^{2}$"
      ],
      "text/plain": [
       "                               2          2                            2      \n",
       "k03*k21*k31 - k12*k21*k31 - k21 *k31 - k21 *k32 + k21*k23*k31 - k21*k31  - k21\n",
       "\n",
       "                  2\n",
       "*k31*k32 + k23*k31 "
      ]
     },
     "execution_count": 5,
     "metadata": {},
     "output_type": "execute_result"
    }
   ],
   "source": [
    "factor(el)"
   ]
  }
 ],
 "metadata": {
  "kernelspec": {
   "display_name": "Julia 1.9.3",
   "language": "julia",
   "name": "julia-1.9"
  },
  "language_info": {
   "file_extension": ".jl",
   "mimetype": "application/julia",
   "name": "julia",
   "version": "1.9.3"
  }
 },
 "nbformat": 4,
 "nbformat_minor": 5
}
