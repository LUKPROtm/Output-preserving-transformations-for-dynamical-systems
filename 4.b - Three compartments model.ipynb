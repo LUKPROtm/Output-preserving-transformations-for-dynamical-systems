{
 "cells": [
  {
   "cell_type": "code",
   "execution_count": 9,
   "id": "2068299b",
   "metadata": {},
   "outputs": [],
   "source": [
    "# import\n",
    "using StructuralIdentifiability\n",
    "using AbstractAlgebra\n",
    "using DifferentialEquations\n",
    "using SymPy\n",
    "using Groebner"
   ]
  },
  {
   "cell_type": "code",
   "execution_count": 2,
   "id": "ac18b7a4",
   "metadata": {},
   "outputs": [
    {
     "name": "stderr",
     "output_type": "stream",
     "text": [
      "\u001b[36m\u001b[1m[ \u001b[22m\u001b[39m\u001b[36m\u001b[1mInfo: \u001b[22m\u001b[39mSummary of the model:\n",
      "\u001b[36m\u001b[1m[ \u001b[22m\u001b[39m\u001b[36m\u001b[1mInfo: \u001b[22m\u001b[39mState variables: x1, x2, x3\n",
      "\u001b[36m\u001b[1m[ \u001b[22m\u001b[39m\u001b[36m\u001b[1mInfo: \u001b[22m\u001b[39mParameters: k01, k31, k21, k32, k12, k23, k03\n",
      "\u001b[36m\u001b[1m[ \u001b[22m\u001b[39m\u001b[36m\u001b[1mInfo: \u001b[22m\u001b[39mInputs: u\n",
      "\u001b[36m\u001b[1m[ \u001b[22m\u001b[39m\u001b[36m\u001b[1mInfo: \u001b[22m\u001b[39mOutputs: y1, y2\n"
     ]
    },
    {
     "data": {
      "text/plain": [
       "x1'(t) = -k01*x1(t) - k31*x1(t) - k21*x1(t) + k12*x2(t) + u(t)\n",
       "x2'(t) = k21*x1(t) - k32*x2(t) - k12*x2(t) + k23*x3(t)\n",
       "x3'(t) = k31*x1(t) + k32*x2(t) - k23*x3(t) - x3(t)*k03\n",
       "y1(t) = x2(t)\n",
       "y2(t) = x3(t)\n"
      ]
     },
     "execution_count": 2,
     "metadata": {},
     "output_type": "execute_result"
    }
   ],
   "source": [
    "three_compartments = @ODEmodel(\n",
    "    x1'(t) = - (k01 + k21 + k31)* x1(t) + k12 * x2(t) + u(t),\n",
    "    x2'(t) = k21 * x1(t) - (k12 + k32) * x2(t) + k23 * x3(t),\n",
    "    x3'(t) = k31 * x1(t) + k32 * x2(t) - (k23 + k03) * x3(t),\n",
    "    y1(t) = x2(t),\n",
    "    y2(t) = x3(t)\n",
    ")"
   ]
  },
  {
   "cell_type": "code",
   "execution_count": 3,
   "id": "c9ea3049",
   "metadata": {
    "scrolled": true
   },
   "outputs": [
    {
     "name": "stderr",
     "output_type": "stream",
     "text": [
      "\u001b[36m\u001b[1m[ \u001b[22m\u001b[39m\u001b[36m\u001b[1mInfo: \u001b[22m\u001b[39mAssessing local identifiability\n",
      "\u001b[36m\u001b[1m[ \u001b[22m\u001b[39m\u001b[36m\u001b[1mInfo: \u001b[22m\u001b[39mLocal identifiability assessed in 0.0772504 seconds\n",
      "\u001b[36m\u001b[1m[ \u001b[22m\u001b[39m\u001b[36m\u001b[1mInfo: \u001b[22m\u001b[39mAssessing global identifiability\n",
      "\u001b[36m\u001b[1m[ \u001b[22m\u001b[39m\u001b[36m\u001b[1mInfo: \u001b[22m\u001b[39mFunctions to check involve states\n",
      "\u001b[36m\u001b[1m[ \u001b[22m\u001b[39m\u001b[36m\u001b[1mInfo: \u001b[22m\u001b[39mComputing IO-equations\n",
      "\u001b[36m\u001b[1m┌ \u001b[22m\u001b[39m\u001b[36m\u001b[1mInfo: \u001b[22m\u001b[39mComputed in 2.5913322 seconds\n",
      "\u001b[36m\u001b[1m│ \u001b[22m\u001b[39m  :ioeq_time = :ioeq_time\n",
      "\u001b[36m\u001b[1m└ \u001b[22m\u001b[39m  ioeq_time = 2.5913322\n",
      "\u001b[36m\u001b[1m[ \u001b[22m\u001b[39m\u001b[36m\u001b[1mInfo: \u001b[22m\u001b[39mComputing Wronskians\n",
      "\u001b[36m\u001b[1m┌ \u001b[22m\u001b[39m\u001b[36m\u001b[1mInfo: \u001b[22m\u001b[39mComputed in 0.3742825 seconds\n",
      "\u001b[36m\u001b[1m│ \u001b[22m\u001b[39m  :wrnsk_time = :wrnsk_time\n",
      "\u001b[36m\u001b[1m└ \u001b[22m\u001b[39m  wrnsk_time = 0.3742825\n",
      "\u001b[36m\u001b[1m[ \u001b[22m\u001b[39m\u001b[36m\u001b[1mInfo: \u001b[22m\u001b[39mDimensions of the Wronskians [4, 5]\n",
      "\u001b[36m\u001b[1m┌ \u001b[22m\u001b[39m\u001b[36m\u001b[1mInfo: \u001b[22m\u001b[39mRanks of the Wronskians computed in 2.7e-5 seconds\n",
      "\u001b[36m\u001b[1m│ \u001b[22m\u001b[39m  :rank_time = :rank_time\n",
      "\u001b[36m\u001b[1m└ \u001b[22m\u001b[39m  rank_times = 2.7e-5\n",
      "\u001b[36m\u001b[1m[ \u001b[22m\u001b[39m\u001b[36m\u001b[1mInfo: \u001b[22m\u001b[39mSimplifying identifiable functions\n",
      "\u001b[36m✓ # Computing specializations..     Time: 0:00:01\u001b[39m\n",
      "\u001b[36m\u001b[1m┌ \u001b[22m\u001b[39m\u001b[36m\u001b[1mInfo: \u001b[22m\u001b[39mComputing normal forms (probabilistic)\n",
      "\u001b[36m\u001b[1m│ \u001b[22m\u001b[39mVariables (7 in total): Nemo.QQMPolyRingElem[k01, k31, k21, k32, k12, k23, k03]\n",
      "\u001b[36m\u001b[1m│ \u001b[22m\u001b[39mUp to degree: 2\n",
      "\u001b[36m\u001b[1m└ \u001b[22m\u001b[39mModulo: Finite field of characteristic 1073741827\n",
      "\u001b[36m\u001b[1m[ \u001b[22m\u001b[39m\u001b[36m\u001b[1mInfo: \u001b[22m\u001b[39mUsed specialization points: 13\n",
      "\u001b[36m\u001b[1m[ \u001b[22m\u001b[39m\u001b[36m\u001b[1mInfo: \u001b[22m\u001b[39mComputing 8 Groebner bases for block orderings. Simplification code is 1\n",
      "\u001b[36m✓ # Computing specializations..     Time: 0:00:01\u001b[39m\n",
      "\u001b[36m\u001b[1m┌ \u001b[22m\u001b[39m\u001b[36m\u001b[1mInfo: \u001b[22m\u001b[39mFinal cleaning and simplification of generators. \n",
      "\u001b[36m\u001b[1m└ \u001b[22m\u001b[39mOut of 76 fractions 30 are syntactically unique.\n",
      "\u001b[36m\u001b[1m[ \u001b[22m\u001b[39m\u001b[36m\u001b[1mInfo: \u001b[22m\u001b[39mChecking inclusion with probability 0.991\n",
      "\u001b[36m\u001b[1m[ \u001b[22m\u001b[39m\u001b[36m\u001b[1mInfo: \u001b[22m\u001b[39mInclusion checked in 0.397771 seconds. Result: true\n",
      "\u001b[36m\u001b[1m[ \u001b[22m\u001b[39m\u001b[36m\u001b[1mInfo: \u001b[22m\u001b[39mOut of 7 initial generators there are 7 indepdendent\n",
      "\u001b[36m\u001b[1m[ \u001b[22m\u001b[39m\u001b[36m\u001b[1mInfo: \u001b[22m\u001b[39mThe ranking of the new set of generators is 373398\n",
      "\u001b[36m\u001b[1m[ \u001b[22m\u001b[39m\u001b[36m\u001b[1mInfo: \u001b[22m\u001b[39mGlobal identifiability assessed in 12.4433554 seconds\n"
     ]
    },
    {
     "data": {
      "text/plain": [
       "Dict{Any, Symbol} with 10 entries:\n",
       "  x3  => :globally\n",
       "  k01 => :locally\n",
       "  k32 => :locally\n",
       "  k03 => :locally\n",
       "  k23 => :locally\n",
       "  k21 => :globally\n",
       "  k12 => :locally\n",
       "  k31 => :globally\n",
       "  x1  => :locally\n",
       "  x2  => :globally"
      ]
     },
     "execution_count": 3,
     "metadata": {},
     "output_type": "execute_result"
    }
   ],
   "source": [
    "assess_identifiability(three_compartments)"
   ]
  },
  {
   "cell_type": "markdown",
   "id": "24f48e7c",
   "metadata": {},
   "source": [
    "Apart from the outputs (x2, x3), k21 and k31 are globalliy identifiable, while the others parameters and x1 are locally identifiable. Let's see which are the invariants."
   ]
  },
  {
   "cell_type": "code",
   "execution_count": 120,
   "id": "50e4cb18",
   "metadata": {
    "scrolled": false
   },
   "outputs": [
    {
     "name": "stderr",
     "output_type": "stream",
     "text": [
      "\u001b[33m\u001b[1m┌ \u001b[22m\u001b[39m\u001b[33m\u001b[1mWarning: \u001b[22m\u001b[39mProgressMeter by default refresh meters with additional information in IJulia via `IJulia.clear_output`, which clears all outputs in the cell. \n",
      "\u001b[33m\u001b[1m│ \u001b[22m\u001b[39m - To prevent this behaviour, do `ProgressMeter.ijulia_behavior(:append)`. \n",
      "\u001b[33m\u001b[1m│ \u001b[22m\u001b[39m - To disable this warning message, do `ProgressMeter.ijulia_behavior(:clear)`.\n",
      "\u001b[33m\u001b[1m└ \u001b[22m\u001b[39m\u001b[90m@ ProgressMeter C:\\Users\\lgand\\.julia\\packages\\ProgressMeter\\vnCY0\\src\\ProgressMeter.jl:626\u001b[39m\n",
      "\u001b[36m✓ # Computing specializations..    Time: 0:00:00\u001b[39m\n",
      "\u001b[36m\u001b[1m┌ \u001b[22m\u001b[39m\u001b[36m\u001b[1mInfo: \u001b[22m\u001b[39mComputing normal forms (probabilistic)\n",
      "\u001b[36m\u001b[1m│ \u001b[22m\u001b[39mVariables (7 in total): Nemo.QQMPolyRingElem[k01, k31, k21, k32, k12, k23, k03]\n",
      "\u001b[36m\u001b[1m│ \u001b[22m\u001b[39mUp to degree: 2\n",
      "\u001b[36m\u001b[1m└ \u001b[22m\u001b[39mModulo: Finite field of characteristic 1073741827\n",
      "\u001b[36m\u001b[1m[ \u001b[22m\u001b[39m\u001b[36m\u001b[1mInfo: \u001b[22m\u001b[39mUsed specialization points: 13\n",
      "\u001b[36m\u001b[1m[ \u001b[22m\u001b[39m\u001b[36m\u001b[1mInfo: \u001b[22m\u001b[39mComputing 8 Groebner bases for block orderings. Simplification code is 1\n",
      "\u001b[36m\u001b[1m┌ \u001b[22m\u001b[39m\u001b[36m\u001b[1mInfo: \u001b[22m\u001b[39mFinal cleaning and simplification of generators. \n",
      "\u001b[36m\u001b[1m└ \u001b[22m\u001b[39mOut of 76 fractions 30 are syntactically unique.\n",
      "\u001b[36m\u001b[1m[ \u001b[22m\u001b[39m\u001b[36m\u001b[1mInfo: \u001b[22m\u001b[39mChecking inclusion with probability 0.995\n",
      "\u001b[36m\u001b[1m[ \u001b[22m\u001b[39m\u001b[36m\u001b[1mInfo: \u001b[22m\u001b[39mInclusion checked in 0.0050912 seconds. Result: true\n",
      "\u001b[36m\u001b[1m[ \u001b[22m\u001b[39m\u001b[36m\u001b[1mInfo: \u001b[22m\u001b[39mOut of 7 initial generators there are 7 indepdendent\n",
      "\u001b[36m\u001b[1m[ \u001b[22m\u001b[39m\u001b[36m\u001b[1mInfo: \u001b[22m\u001b[39mThe ranking of the new set of generators is 373398\n",
      "\u001b[36m\u001b[1m[ \u001b[22m\u001b[39m\u001b[36m\u001b[1mInfo: \u001b[22m\u001b[39mThe search for identifiable functions concluded in 1.3718637 seconds\n"
     ]
    },
    {
     "data": {
      "text/plain": [
       "7-element Vector{AbstractAlgebra.Generic.Frac{Nemo.QQMPolyRingElem}}:\n",
       " k21\n",
       " k31\n",
       " k31*k23 + k21*k23 + k21*k03\n",
       " k31*k32 + k31*k12 + k21*k32\n",
       " k01 + k32 + k12 + k23 + k03\n",
       " k01*k32 + k01*k12 + k01*k23 + k01*k03 + k31*k03 + k32*k03 + k12*k23 + k12*k03\n",
       " (k01*k31^2*k32 + k01*k31*k21*k32 - k31^2*k32^2 - k31^2*k32*k12 - 2*k31*k21*k32^2 - k31*k21*k32*k12 - k21^2*k32^2)//(k31^2*k21 - k31^2*k23 + k31*k21^2 + k31*k21*k32 + k31*k21*k12 - k31*k21*k23 - k31*k21*k03 + k21^2*k32)"
      ]
     },
     "execution_count": 120,
     "metadata": {},
     "output_type": "execute_result"
    }
   ],
   "source": [
    "id_funct = find_identifiable_functions(three_compartments)"
   ]
  },
  {
   "cell_type": "code",
   "execution_count": 122,
   "id": "956c4598",
   "metadata": {},
   "outputs": [
    {
     "data": {
      "text/plain": [
       "create_system_of_equations (generic function with 1 method)"
      ]
     },
     "execution_count": 122,
     "metadata": {},
     "output_type": "execute_result"
    }
   ],
   "source": [
    "function create_system_of_equations(id_funct, names_map)\n",
    "    id_funct_num_sympy = []\n",
    "    id_funct_den_sympy = []\n",
    "    for el in id_funct\n",
    "        num = numerator(el)\n",
    "        den = denominator(el)\n",
    "        push!(id_funct_num_sympy, sympify(string(num)))\n",
    "        push!(id_funct_den_sympy, sympify(string(den)))\n",
    "    end\n",
    "    \n",
    "    id_funct_num_sympy_transf = copy(id_funct_num_sympy)\n",
    "    id_funct_den_sympy_transf = copy(id_funct_den_sympy)\n",
    "    \n",
    "    for j in 1:length(id_funct_num_sympy_transf)\n",
    "        id_funct_num_sympy_transf[j] = id_funct_num_sympy_transf[j].subs(names_map)\n",
    "    end\n",
    "    for j in 1:length(id_funct_den_sympy_transf)\n",
    "            id_funct_den_sympy_transf[j] = id_funct_den_sympy_transf[j].subs(names_map)\n",
    "    end\n",
    "    \n",
    "    lhs = id_funct_num_sympy .* id_funct_den_sympy_transf\n",
    "    rhs = id_funct_num_sympy_transf .* id_funct_den_sympy\n",
    "    system = lhs - rhs\n",
    "    return system\n",
    "    \n",
    "end"
   ]
  },
  {
   "cell_type": "code",
   "execution_count": 8,
   "id": "7d6b4960",
   "metadata": {},
   "outputs": [
    {
     "data": {
      "text/latex": [
       "$\\left[ \\begin{array}{r}k_{21} - w_{21}\\\\k_{31} - w_{31}\\\\k_{03} k_{21} + k_{21} k_{23} + k_{23} k_{31} - w_{03} w_{21} - w_{21} w_{23} - w_{23} w_{31}\\\\k_{12} k_{31} + k_{21} k_{32} + k_{31} k_{32} - w_{12} w_{31} - w_{21} w_{32} - w_{31} w_{32}\\\\k_{01} + k_{03} + k_{12} + k_{23} + k_{32} - w_{01} - w_{03} - w_{12} - w_{23} - w_{32}\\\\k_{01} k_{03} + k_{01} k_{12} + k_{01} k_{23} + k_{01} k_{32} + k_{03} k_{12} + k_{03} k_{31} + k_{03} k_{32} + k_{12} k_{23} - w_{01} w_{03} - w_{01} w_{12} - w_{01} w_{23} - w_{01} w_{32} - w_{03} w_{12} - w_{03} w_{31} - w_{03} w_{32} - w_{12} w_{23}\\\\\\left(k_{01} k_{21} k_{31} k_{32} + k_{01} k_{31}^{2} k_{32} - k_{12} k_{21} k_{31} k_{32} - k_{12} k_{31}^{2} k_{32} - k_{21}^{2} k_{32}^{2} - 2 k_{21} k_{31} k_{32}^{2} - k_{31}^{2} k_{32}^{2}\\right) \\left(- w_{03} w_{21} w_{31} + w_{12} w_{21} w_{31} + w_{21}^{2} w_{31} + w_{21}^{2} w_{32} - w_{21} w_{23} w_{31} + w_{21} w_{31}^{2} + w_{21} w_{31} w_{32} - w_{23} w_{31}^{2}\\right) - \\left(w_{01} w_{21} w_{31} w_{32} + w_{01} w_{31}^{2} w_{32} - w_{12} w_{21} w_{31} w_{32} - w_{12} w_{31}^{2} w_{32} - w_{21}^{2} w_{32}^{2} - 2 w_{21} w_{31} w_{32}^{2} - w_{31}^{2} w_{32}^{2}\\right) \\left(- k_{03} k_{21} k_{31} + k_{12} k_{21} k_{31} + k_{21}^{2} k_{31} + k_{21}^{2} k_{32} - k_{21} k_{23} k_{31} + k_{21} k_{31}^{2} + k_{21} k_{31} k_{32} - k_{23} k_{31}^{2}\\right)\\end{array} \\right]$\n"
      ],
      "text/plain": [
       "7-element Vector{Sym}:\n",
       "                                                                                                                                                                                                                                                                                                                                                                                                                                               k21 - w21\n",
       "                                                                                                                                                                                                                                                                                                                                                                                                                                               k31 - w31\n",
       "                                                                                                                                                                                                                                                                                                                                                                                               k03*k21 + k21*k23 + k23*k31 - w03*w21 - w21*w23 - w23*w31\n",
       "                                                                                                                                                                                                                                                                                                                                                                                               k12*k31 + k21*k32 + k31*k32 - w12*w31 - w21*w32 - w31*w32\n",
       "                                                                                                                                                                                                                                                                                                                                                                                               k01 + k03 + k12 + k23 + k32 - w01 - w03 - w12 - w23 - w32\n",
       "                                                                                                                                                                                                                                                                                           k01*k03 + k01*k12 + k01*k23 + k01*k32 + k03*k12 + k03*k31 + k03*k32 + k12*k23 - w01*w03 - w01*w12 - w01*w23 - w01*w32 - w03*w12 - w03*w31 - w03*w32 - w12*w23\n",
       " (k01*k21*k31*k32 + k01*k31^2*k32 - k12*k21*k31*k32 - k12*k31^2*k32 - k21^2*k32^2 - 2*k21*k31*k32^2 - k31^2*k32^2)*(-w03*w21*w31 + w12*w21*w31 + w21^2*w31 + w21^2*w32 - w21*w23*w31 + w21*w31^2 + w21*w31*w32 - w23*w31^2) - (w01*w21*w31*w32 + w01*w31^2*w32 - w12*w21*w31*w32 - w12*w31^2*w32 - w21^2*w32^2 - 2*w21*w31*w32^2 - w31^2*w32^2)*(-k03*k21*k31 + k12*k21*k31 + k21^2*k31 + k21^2*k32 - k21*k23*k31 + k21*k31^2 + k21*k31*k32 - k23*k31^2)"
      ]
     },
     "execution_count": 8,
     "metadata": {},
     "output_type": "execute_result"
    }
   ],
   "source": [
    "x1, x2, x3, k01, k03, k12, k21, k23, k31, k32, u, y1, y2, y3, w01, w03, w12, w21, w23, w31, w32 = SymPy.symbols(\"x1 x2 x3 k01 k03 k12 k21 k23 k31 k32 u y1 y2 y3 w01 w03 w12 w21 w23 w31 w32\")\n",
    "system = create_system_of_equations(id_funct, [(k01, w01), (k03, w03), (k12, w12), (k21, w21), (k23, w23), (k31, w31), (k32, w32)])"
   ]
  },
  {
   "cell_type": "markdown",
   "id": "65a94554",
   "metadata": {},
   "source": [
    "solving this --> orrible even for a subsystem [1:6], too long for the whole system\n",
    "\n"
   ]
  },
  {
   "cell_type": "markdown",
   "id": "4fe24c1b",
   "metadata": {},
   "source": [
    "# Numerical solver"
   ]
  },
  {
   "cell_type": "code",
   "execution_count": 57,
   "id": "fbc9ae64",
   "metadata": {},
   "outputs": [
    {
     "data": {
      "text/plain": [
       "(x, y)"
      ]
     },
     "execution_count": 57,
     "metadata": {},
     "output_type": "execute_result"
    }
   ],
   "source": [
    "@vars x y"
   ]
  },
  {
   "cell_type": "code",
   "execution_count": 62,
   "id": "98804c0d",
   "metadata": {},
   "outputs": [
    {
     "data": {
      "text/latex": [
       "$\\cos{\\left(3 \\right)}$"
      ],
      "text/plain": [
       "cos(3)"
      ]
     },
     "execution_count": 62,
     "metadata": {},
     "output_type": "execute_result"
    }
   ],
   "source": [
    "cos(x).subs(x,3)"
   ]
  },
  {
   "cell_type": "code",
   "execution_count": 76,
   "id": "0bba62ac",
   "metadata": {},
   "outputs": [
    {
     "data": {
      "text/plain": [
       "create_system_of_equations_num (generic function with 2 methods)"
      ]
     },
     "execution_count": 76,
     "metadata": {},
     "output_type": "execute_result"
    }
   ],
   "source": [
    "function create_system_of_equations_num(id_funct, names, values)\n",
    "    id_funct_num_sympy = []\n",
    "    id_funct_den_sympy = []\n",
    "    for el in id_funct\n",
    "        num = numerator(el)\n",
    "        den = denominator(el)\n",
    "        push!(id_funct_num_sympy, sympify(string(num)))\n",
    "        push!(id_funct_den_sympy, sympify(string(den)))\n",
    "    end\n",
    "    \n",
    "    id_funct_num_sympy_transf = copy(id_funct_num_sympy)\n",
    "    id_funct_den_sympy_transf = copy(id_funct_den_sympy)\n",
    "    \n",
    "    map = [(names[i], values[i]) for i in 1:length(names)]\n",
    "    \n",
    "    for j in 1:length(id_funct_num_sympy_transf)\n",
    "        id_funct_num_sympy_transf[j] = id_funct_num_sympy_transf[j].subs(map)\n",
    "    end\n",
    "    for j in 1:length(id_funct_den_sympy_transf)\n",
    "            id_funct_den_sympy_transf[j] = id_funct_den_sympy_transf[j].subs(map)\n",
    "    end\n",
    "    \n",
    "    lhs = id_funct_num_sympy .* id_funct_den_sympy_transf\n",
    "    rhs = id_funct_num_sympy_transf .* id_funct_den_sympy\n",
    "    system = lhs - rhs\n",
    "    return system\n",
    "    \n",
    "end"
   ]
  },
  {
   "cell_type": "code",
   "execution_count": 134,
   "id": "7b178ed8",
   "metadata": {
    "scrolled": true
   },
   "outputs": [
    {
     "data": {
      "text/plain": [
       "find_numerical_transformations (generic function with 2 methods)"
      ]
     },
     "execution_count": 134,
     "metadata": {},
     "output_type": "execute_result"
    }
   ],
   "source": [
    "function find_numerical_transformations(model, names, with_states = false)\n",
    "    id_funct = find_identifiable_functions(model , with_states = with_states)\n",
    "    for var in names\n",
    "        @vars eval(names_map[1])\n",
    "    end\n",
    "    @vars u\n",
    "    values = rand(Float64, length(names))\n",
    "    println(values)\n",
    "    system = create_system_of_equations_num(id_funct,names, values) \n",
    "    println(system)\n",
    "    println(names)\n",
    "    SymPy.solve(system)\n",
    "end"
   ]
  },
  {
   "cell_type": "code",
   "execution_count": 68,
   "id": "81ed14c5",
   "metadata": {},
   "outputs": [
    {
     "data": {
      "text/plain": [
       "9-element Vector{String}:\n",
       " \"N\"\n",
       " \"S\"\n",
       " \"Tr\"\n",
       " \"Inf\"\n",
       " \"a\"\n",
       " \"b\"\n",
       " \"g\"\n",
       " \"d\"\n",
       " \"nu\""
      ]
     },
     "execution_count": 68,
     "metadata": {},
     "output_type": "execute_result"
    }
   ],
   "source": [
    "names = [el[1] for el in names_map]"
   ]
  },
  {
   "cell_type": "code",
   "execution_count": 140,
   "id": "31e92d84",
   "metadata": {
    "scrolled": true
   },
   "outputs": [
    {
     "name": "stderr",
     "output_type": "stream",
     "text": [
      "\u001b[36m\u001b[1m[ \u001b[22m\u001b[39m\u001b[36m\u001b[1mInfo: \u001b[22m\u001b[39mComputing IO-equations\n",
      "\u001b[36m\u001b[1m┌ \u001b[22m\u001b[39m\u001b[36m\u001b[1mInfo: \u001b[22m\u001b[39mComputed in 0.0263125 seconds\n",
      "\u001b[36m\u001b[1m│ \u001b[22m\u001b[39m  :ioeq_time = :ioeq_time\n",
      "\u001b[36m\u001b[1m└ \u001b[22m\u001b[39m  ioeq_time = 0.0263125\n",
      "\u001b[36m\u001b[1m[ \u001b[22m\u001b[39m\u001b[36m\u001b[1mInfo: \u001b[22m\u001b[39mComputing Wronskians\n",
      "\u001b[36m\u001b[1m┌ \u001b[22m\u001b[39m\u001b[36m\u001b[1mInfo: \u001b[22m\u001b[39mComputed in 0.0036401 seconds\n",
      "\u001b[36m\u001b[1m│ \u001b[22m\u001b[39m  :wrnsk_time = :wrnsk_time\n",
      "\u001b[36m\u001b[1m└ \u001b[22m\u001b[39m  wrnsk_time = 0.0036401\n",
      "\u001b[36m\u001b[1m[ \u001b[22m\u001b[39m\u001b[36m\u001b[1mInfo: \u001b[22m\u001b[39mDimensions of the Wronskians [10, 1]\n",
      "\u001b[36m\u001b[1m┌ \u001b[22m\u001b[39m\u001b[36m\u001b[1mInfo: \u001b[22m\u001b[39mRanks of the Wronskians computed in 2.06e-5 seconds\n",
      "\u001b[36m\u001b[1m│ \u001b[22m\u001b[39m  :rank_time = :rank_time\n",
      "\u001b[36m\u001b[1m└ \u001b[22m\u001b[39m  rank_times = 2.06e-5\n",
      "\u001b[36m\u001b[1m[ \u001b[22m\u001b[39m\u001b[36m\u001b[1mInfo: \u001b[22m\u001b[39mSimplifying identifiable functions\n",
      "\u001b[36m\u001b[1m┌ \u001b[22m\u001b[39m\u001b[36m\u001b[1mInfo: \u001b[22m\u001b[39mComputing normal forms (probabilistic)\n",
      "\u001b[36m\u001b[1m│ \u001b[22m\u001b[39mVariables (5 in total): Nemo.QQMPolyRingElem[b, nu, d, g, a]\n",
      "\u001b[36m\u001b[1m│ \u001b[22m\u001b[39mUp to degree: 2\n",
      "\u001b[36m\u001b[1m└ \u001b[22m\u001b[39mModulo: Finite field of characteristic 1073741827\n",
      "\u001b[36m\u001b[1m[ \u001b[22m\u001b[39m\u001b[36m\u001b[1mInfo: \u001b[22m\u001b[39mUsed specialization points: 5\n"
     ]
    },
    {
     "name": "stdout",
     "output_type": "stream",
     "text": [
      "[0.48921709101149147, 0.9526343898354503, 0.4827709536731203, 0.7335454221538555, 0.8319194663207132, 0.1602513944604106, 0.0018927069575939148, 0.1805662215199011, 0.7112248163118752]\n",
      "Sym[d*g + nu - 0.711566575255652, a*nu + g*nu - 0.593027909778469, a + g + nu - 1.54503698959018, -0.00189270695759391*b + 0.160251394460411*g]\n",
      "[\"N\", \"S\", \"Tr\", \"Inf\", \"a\", \"b\", \"g\", \"d\", \"nu\"]\n"
     ]
    },
    {
     "name": "stderr",
     "output_type": "stream",
     "text": [
      "\u001b[36m\u001b[1m[ \u001b[22m\u001b[39m\u001b[36m\u001b[1mInfo: \u001b[22m\u001b[39mComputing 6 Groebner bases for block orderings. Simplification code is 1\n",
      "\u001b[36m\u001b[1m┌ \u001b[22m\u001b[39m\u001b[36m\u001b[1mInfo: \u001b[22m\u001b[39mFinal cleaning and simplification of generators. \n",
      "\u001b[36m\u001b[1m└ \u001b[22m\u001b[39mOut of 48 fractions 10 are syntactically unique.\n",
      "\u001b[36m\u001b[1m[ \u001b[22m\u001b[39m\u001b[36m\u001b[1mInfo: \u001b[22m\u001b[39mChecking inclusion with probability 0.995\n",
      "\u001b[36m\u001b[1m[ \u001b[22m\u001b[39m\u001b[36m\u001b[1mInfo: \u001b[22m\u001b[39mInclusion checked in 0.0066689 seconds. Result: true\n",
      "\u001b[36m\u001b[1m[ \u001b[22m\u001b[39m\u001b[36m\u001b[1mInfo: \u001b[22m\u001b[39mOut of 12 initial generators there are 4 indepdendent\n",
      "\u001b[36m\u001b[1m[ \u001b[22m\u001b[39m\u001b[36m\u001b[1mInfo: \u001b[22m\u001b[39mThe ranking of the new set of generators is 62\n",
      "\u001b[36m\u001b[1m[ \u001b[22m\u001b[39m\u001b[36m\u001b[1mInfo: \u001b[22m\u001b[39mThe search for identifiable functions concluded in 0.263244 seconds\n"
     ]
    },
    {
     "data": {
      "text/plain": [
       "2-element Vector{Dict{Any, Any}}:\n",
       " Dict(a => 0.711224816311885 - g, b => 84.6678318677126*g, d => -0.122245598022643/g, nu => 0.833812173278295)\n",
       " Dict(a => 0.833812173278295 - g, b => 84.6678318677126*g, d => 0.000341758943766906/g, nu => 0.711224816311885)"
      ]
     },
     "execution_count": 140,
     "metadata": {},
     "output_type": "execute_result"
    }
   ],
   "source": [
    "sol_treat = find_numerical_transformations(Treatment, names)"
   ]
  },
  {
   "cell_type": "code",
   "execution_count": 130,
   "id": "3dc10fd6",
   "metadata": {},
   "outputs": [
    {
     "data": {
      "text/plain": [
       "(a, b, d, nu, g)"
      ]
     },
     "execution_count": 130,
     "metadata": {},
     "output_type": "execute_result"
    }
   ],
   "source": [
    "@vars a b d nu g"
   ]
  },
  {
   "cell_type": "code",
   "execution_count": 136,
   "id": "1451e467",
   "metadata": {
    "scrolled": true
   },
   "outputs": [
    {
     "data": {
      "text/latex": [
       "$0.833812173278295 - g$"
      ],
      "text/plain": [
       "0.833812173278295 - g"
      ]
     },
     "execution_count": 136,
     "metadata": {},
     "output_type": "execute_result"
    }
   ],
   "source": [
    "sol_treat[2][a]"
   ]
  },
  {
   "cell_type": "code",
   "execution_count": 133,
   "id": "40c0edd4",
   "metadata": {
    "scrolled": false
   },
   "outputs": [
    {
     "data": {
      "image/png": "[encoded data removed]",
      "image/svg+xml": [
       "<?xml version=\"1.0\" encoding=\"utf-8\"?>\n",
       "<svg xmlns=\"http://www.w3.org/2000/svg\" xmlns:xlink=\"http://www.w3.org/1999/xlink\" width=\"600\" height=\"400\" viewBox=\"0 0 2400 1600\">\n",
       "<defs>\n",
       "  <clipPath id=\"clip650\">\n",
       "    <rect x=\"0\" y=\"0\" width=\"2400\" height=\"1600\"/>\n",
       "  </clipPath>\n",
       "</defs>\n",
       "<path clip-path=\"url(#clip650)\" d=\"M0 1600 L2400 1600 L2400 0 L0 0  Z\" fill=\"#ffffff\" fill-rule=\"evenodd\" fill-opacity=\"1\"/>\n",
       "<defs>\n",
       "  <clipPath id=\"clip651\">\n",
       "    <rect x=\"480\" y=\"0\" width=\"1681\" height=\"1600\"/>\n",
       "  </clipPath>\n",
       "</defs>\n",
       "<path clip-path=\"url(#clip650)\" d=\"M156.598 1486.45 L2352.76 1486.45 L2352.76 47.2441 L156.598 47.2441  Z\" fill=\"#ffffff\" fill-rule=\"evenodd\" fill-opacity=\"1\"/>\n",
       "<defs>\n",
       "  <clipPath id=\"clip652\">\n",
       "    <rect x=\"156\" y=\"47\" width=\"2197\" height=\"1440\"/>\n",
       "  </clipPath>\n",
       "</defs>\n",
       "<polyline clip-path=\"url(#clip652)\" style=\"stroke:#000000; stroke-linecap:round; stroke-linejoin:round; stroke-width:2; stroke-opacity:0.1; fill:none\" points=\"218.754,1486.45 218.754,47.2441 \"/>\n",
       "<polyline clip-path=\"url(#clip652)\" style=\"stroke:#000000; stroke-linecap:round; stroke-linejoin:round; stroke-width:2; stroke-opacity:0.1; fill:none\" points=\"736.715,1486.45 736.715,47.2441 \"/>\n",
       "<polyline clip-path=\"url(#clip652)\" style=\"stroke:#000000; stroke-linecap:round; stroke-linejoin:round; stroke-width:2; stroke-opacity:0.1; fill:none\" points=\"1254.68,1486.45 1254.68,47.2441 \"/>\n",
       "<polyline clip-path=\"url(#clip652)\" style=\"stroke:#000000; stroke-linecap:round; stroke-linejoin:round; stroke-width:2; stroke-opacity:0.1; fill:none\" points=\"1772.64,1486.45 1772.64,47.2441 \"/>\n",
       "<polyline clip-path=\"url(#clip652)\" style=\"stroke:#000000; stroke-linecap:round; stroke-linejoin:round; stroke-width:2; stroke-opacity:0.1; fill:none\" points=\"2290.6,1486.45 2290.6,47.2441 \"/>\n",
       "<polyline clip-path=\"url(#clip650)\" style=\"stroke:#000000; stroke-linecap:round; stroke-linejoin:round; stroke-width:4; stroke-opacity:1; fill:none\" points=\"156.598,1486.45 2352.76,1486.45 \"/>\n",
       "<polyline clip-path=\"url(#clip650)\" style=\"stroke:#000000; stroke-linecap:round; stroke-linejoin:round; stroke-width:4; stroke-opacity:1; fill:none\" points=\"218.754,1486.45 218.754,1467.55 \"/>\n",
       "<polyline clip-path=\"url(#clip650)\" style=\"stroke:#000000; stroke-linecap:round; stroke-linejoin:round; stroke-width:4; stroke-opacity:1; fill:none\" points=\"736.715,1486.45 736.715,1467.55 \"/>\n",
       "<polyline clip-path=\"url(#clip650)\" style=\"stroke:#000000; stroke-linecap:round; stroke-linejoin:round; stroke-width:4; stroke-opacity:1; fill:none\" points=\"1254.68,1486.45 1254.68,1467.55 \"/>\n",
       "<polyline clip-path=\"url(#clip650)\" style=\"stroke:#000000; stroke-linecap:round; stroke-linejoin:round; stroke-width:4; stroke-opacity:1; fill:none\" points=\"1772.64,1486.45 1772.64,1467.55 \"/>\n",
       "<polyline clip-path=\"url(#clip650)\" style=\"stroke:#000000; stroke-linecap:round; stroke-linejoin:round; stroke-width:4; stroke-opacity:1; fill:none\" points=\"2290.6,1486.45 2290.6,1467.55 \"/>\n",
       "<path clip-path=\"url(#clip650)\" d=\"M181.057 1517.37 Q177.446 1517.37 175.617 1520.93 Q173.812 1524.47 173.812 1531.6 Q173.812 1538.71 175.617 1542.27 Q177.446 1545.82 181.057 1545.82 Q184.691 1545.82 186.497 1542.27 Q188.326 1538.71 188.326 1531.6 Q188.326 1524.47 186.497 1520.93 Q184.691 1517.37 181.057 1517.37 M181.057 1513.66 Q186.867 1513.66 189.923 1518.27 Q193.001 1522.85 193.001 1531.6 Q193.001 1540.33 189.923 1544.94 Q186.867 1549.52 181.057 1549.52 Q175.247 1549.52 172.168 1544.94 Q169.113 1540.33 169.113 1531.6 Q169.113 1522.85 172.168 1518.27 Q175.247 1513.66 181.057 1513.66 Z\" fill=\"#000000\" fill-rule=\"nonzero\" fill-opacity=\"1\" /><path clip-path=\"url(#clip650)\" d=\"M201.219 1542.97 L206.103 1542.97 L206.103 1548.85 L201.219 1548.85 L201.219 1542.97 Z\" fill=\"#000000\" fill-rule=\"nonzero\" fill-opacity=\"1\" /><path clip-path=\"url(#clip650)\" d=\"M226.288 1517.37 Q222.677 1517.37 220.849 1520.93 Q219.043 1524.47 219.043 1531.6 Q219.043 1538.71 220.849 1542.27 Q222.677 1545.82 226.288 1545.82 Q229.923 1545.82 231.728 1542.27 Q233.557 1538.71 233.557 1531.6 Q233.557 1524.47 231.728 1520.93 Q229.923 1517.37 226.288 1517.37 M226.288 1513.66 Q232.098 1513.66 235.154 1518.27 Q238.233 1522.85 238.233 1531.6 Q238.233 1540.33 235.154 1544.94 Q232.098 1549.52 226.288 1549.52 Q220.478 1549.52 217.399 1544.94 Q214.344 1540.33 214.344 1531.6 Q214.344 1522.85 217.399 1518.27 Q220.478 1513.66 226.288 1513.66 Z\" fill=\"#000000\" fill-rule=\"nonzero\" fill-opacity=\"1\" /><path clip-path=\"url(#clip650)\" d=\"M256.45 1517.37 Q252.839 1517.37 251.01 1520.93 Q249.205 1524.47 249.205 1531.6 Q249.205 1538.71 251.01 1542.27 Q252.839 1545.82 256.45 1545.82 Q260.084 1545.82 261.89 1542.27 Q263.719 1538.71 263.719 1531.6 Q263.719 1524.47 261.89 1520.93 Q260.084 1517.37 256.45 1517.37 M256.45 1513.66 Q262.26 1513.66 265.316 1518.27 Q268.395 1522.85 268.395 1531.6 Q268.395 1540.33 265.316 1544.94 Q262.26 1549.52 256.45 1549.52 Q250.64 1549.52 247.561 1544.94 Q244.506 1540.33 244.506 1531.6 Q244.506 1522.85 247.561 1518.27 Q250.64 1513.66 256.45 1513.66 Z\" fill=\"#000000\" fill-rule=\"nonzero\" fill-opacity=\"1\" /><path clip-path=\"url(#clip650)\" d=\"M699.516 1517.37 Q695.905 1517.37 694.077 1520.93 Q692.271 1524.47 692.271 1531.6 Q692.271 1538.71 694.077 1542.27 Q695.905 1545.82 699.516 1545.82 Q703.151 1545.82 704.956 1542.27 Q706.785 1538.71 706.785 1531.6 Q706.785 1524.47 704.956 1520.93 Q703.151 1517.37 699.516 1517.37 M699.516 1513.66 Q705.327 1513.66 708.382 1518.27 Q711.461 1522.85 711.461 1531.6 Q711.461 1540.33 708.382 1544.94 Q705.327 1549.52 699.516 1549.52 Q693.706 1549.52 690.628 1544.94 Q687.572 1540.33 687.572 1531.6 Q687.572 1522.85 690.628 1518.27 Q693.706 1513.66 699.516 1513.66 Z\" fill=\"#000000\" fill-rule=\"nonzero\" fill-opacity=\"1\" /><path clip-path=\"url(#clip650)\" d=\"M719.678 1542.97 L724.563 1542.97 L724.563 1548.85 L719.678 1548.85 L719.678 1542.97 Z\" fill=\"#000000\" fill-rule=\"nonzero\" fill-opacity=\"1\" /><path clip-path=\"url(#clip650)\" d=\"M738.776 1544.91 L755.095 1544.91 L755.095 1548.85 L733.151 1548.85 L733.151 1544.91 Q735.813 1542.16 740.396 1537.53 Q745.002 1532.88 746.183 1531.53 Q748.428 1529.01 749.308 1527.27 Q750.211 1525.51 750.211 1523.82 Q750.211 1521.07 748.266 1519.33 Q746.345 1517.6 743.243 1517.6 Q741.044 1517.6 738.59 1518.36 Q736.16 1519.13 733.382 1520.68 L733.382 1515.95 Q736.206 1514.82 738.66 1514.24 Q741.113 1513.66 743.151 1513.66 Q748.521 1513.66 751.715 1516.35 Q754.91 1519.03 754.91 1523.52 Q754.91 1525.65 754.1 1527.57 Q753.312 1529.47 751.206 1532.07 Q750.627 1532.74 747.525 1535.95 Q744.424 1539.15 738.776 1544.91 Z\" fill=\"#000000\" fill-rule=\"nonzero\" fill-opacity=\"1\" /><path clip-path=\"url(#clip650)\" d=\"M764.956 1514.29 L783.312 1514.29 L783.312 1518.22 L769.238 1518.22 L769.238 1526.7 Q770.257 1526.35 771.275 1526.19 Q772.294 1526 773.312 1526 Q779.099 1526 782.479 1529.17 Q785.859 1532.34 785.859 1537.76 Q785.859 1543.34 782.386 1546.44 Q778.914 1549.52 772.595 1549.52 Q770.419 1549.52 768.15 1549.15 Q765.905 1548.78 763.498 1548.04 L763.498 1543.34 Q765.581 1544.47 767.803 1545.03 Q770.025 1545.58 772.502 1545.58 Q776.507 1545.58 778.845 1543.48 Q781.183 1541.37 781.183 1537.76 Q781.183 1534.15 778.845 1532.04 Q776.507 1529.94 772.502 1529.94 Q770.627 1529.94 768.752 1530.35 Q766.9 1530.77 764.956 1531.65 L764.956 1514.29 Z\" fill=\"#000000\" fill-rule=\"nonzero\" fill-opacity=\"1\" /><path clip-path=\"url(#clip650)\" d=\"M1216.98 1517.37 Q1213.37 1517.37 1211.54 1520.93 Q1209.74 1524.47 1209.74 1531.6 Q1209.74 1538.71 1211.54 1542.27 Q1213.37 1545.82 1216.98 1545.82 Q1220.61 1545.82 1222.42 1542.27 Q1224.25 1538.71 1224.25 1531.6 Q1224.25 1524.47 1222.42 1520.93 Q1220.61 1517.37 1216.98 1517.37 M1216.98 1513.66 Q1222.79 1513.66 1225.85 1518.27 Q1228.92 1522.85 1228.92 1531.6 Q1228.92 1540.33 1225.85 1544.94 Q1222.79 1549.52 1216.98 1549.52 Q1211.17 1549.52 1208.09 1544.94 Q1205.04 1540.33 1205.04 1531.6 Q1205.04 1522.85 1208.09 1518.27 Q1211.17 1513.66 1216.98 1513.66 Z\" fill=\"#000000\" fill-rule=\"nonzero\" fill-opacity=\"1\" /><path clip-path=\"url(#clip650)\" d=\"M1237.14 1542.97 L1242.03 1542.97 L1242.03 1548.85 L1237.14 1548.85 L1237.14 1542.97 Z\" fill=\"#000000\" fill-rule=\"nonzero\" fill-opacity=\"1\" /><path clip-path=\"url(#clip650)\" d=\"M1252.26 1514.29 L1270.61 1514.29 L1270.61 1518.22 L1256.54 1518.22 L1256.54 1526.7 Q1257.56 1526.35 1258.58 1526.19 Q1259.6 1526 1260.61 1526 Q1266.4 1526 1269.78 1529.17 Q1273.16 1532.34 1273.16 1537.76 Q1273.16 1543.34 1269.69 1546.44 Q1266.22 1549.52 1259.9 1549.52 Q1257.72 1549.52 1255.45 1549.15 Q1253.21 1548.78 1250.8 1548.04 L1250.8 1543.34 Q1252.88 1544.47 1255.11 1545.03 Q1257.33 1545.58 1259.8 1545.58 Q1263.81 1545.58 1266.15 1543.48 Q1268.48 1541.37 1268.48 1537.76 Q1268.48 1534.15 1266.15 1532.04 Q1263.81 1529.94 1259.8 1529.94 Q1257.93 1529.94 1256.05 1530.35 Q1254.2 1530.77 1252.26 1531.65 L1252.26 1514.29 Z\" fill=\"#000000\" fill-rule=\"nonzero\" fill-opacity=\"1\" /><path clip-path=\"url(#clip650)\" d=\"M1292.37 1517.37 Q1288.76 1517.37 1286.93 1520.93 Q1285.13 1524.47 1285.13 1531.6 Q1285.13 1538.71 1286.93 1542.27 Q1288.76 1545.82 1292.37 1545.82 Q1296.01 1545.82 1297.81 1542.27 Q1299.64 1538.71 1299.64 1531.6 Q1299.64 1524.47 1297.81 1520.93 Q1296.01 1517.37 1292.37 1517.37 M1292.37 1513.66 Q1298.18 1513.66 1301.24 1518.27 Q1304.32 1522.85 1304.32 1531.6 Q1304.32 1540.33 1301.24 1544.94 Q1298.18 1549.52 1292.37 1549.52 Q1286.56 1549.52 1283.48 1544.94 Q1280.43 1540.33 1280.43 1531.6 Q1280.43 1522.85 1283.48 1518.27 Q1286.56 1513.66 1292.37 1513.66 Z\" fill=\"#000000\" fill-rule=\"nonzero\" fill-opacity=\"1\" /><path clip-path=\"url(#clip650)\" d=\"M1735.44 1517.37 Q1731.83 1517.37 1730 1520.93 Q1728.19 1524.47 1728.19 1531.6 Q1728.19 1538.71 1730 1542.27 Q1731.83 1545.82 1735.44 1545.82 Q1739.07 1545.82 1740.88 1542.27 Q1742.71 1538.71 1742.71 1531.6 Q1742.71 1524.47 1740.88 1520.93 Q1739.07 1517.37 1735.44 1517.37 M1735.44 1513.66 Q1741.25 1513.66 1744.31 1518.27 Q1747.38 1522.85 1747.38 1531.6 Q1747.38 1540.33 1744.31 1544.94 Q1741.25 1549.52 1735.44 1549.52 Q1729.63 1549.52 1726.55 1544.94 Q1723.5 1540.33 1723.5 1531.6 Q1723.5 1522.85 1726.55 1518.27 Q1729.63 1513.66 1735.44 1513.66 Z\" fill=\"#000000\" fill-rule=\"nonzero\" fill-opacity=\"1\" /><path clip-path=\"url(#clip650)\" d=\"M1755.6 1542.97 L1760.49 1542.97 L1760.49 1548.85 L1755.6 1548.85 L1755.6 1542.97 Z\" fill=\"#000000\" fill-rule=\"nonzero\" fill-opacity=\"1\" /><path clip-path=\"url(#clip650)\" d=\"M1769.49 1514.29 L1791.71 1514.29 L1791.71 1516.28 L1779.17 1548.85 L1774.28 1548.85 L1786.09 1518.22 L1769.49 1518.22 L1769.49 1514.29 Z\" fill=\"#000000\" fill-rule=\"nonzero\" fill-opacity=\"1\" /><path clip-path=\"url(#clip650)\" d=\"M1800.88 1514.29 L1819.24 1514.29 L1819.24 1518.22 L1805.16 1518.22 L1805.16 1526.7 Q1806.18 1526.35 1807.2 1526.19 Q1808.22 1526 1809.24 1526 Q1815.02 1526 1818.4 1529.17 Q1821.78 1532.34 1821.78 1537.76 Q1821.78 1543.34 1818.31 1546.44 Q1814.84 1549.52 1808.52 1549.52 Q1806.34 1549.52 1804.07 1549.15 Q1801.83 1548.78 1799.42 1548.04 L1799.42 1543.34 Q1801.5 1544.47 1803.73 1545.03 Q1805.95 1545.58 1808.43 1545.58 Q1812.43 1545.58 1814.77 1543.48 Q1817.11 1541.37 1817.11 1537.76 Q1817.11 1534.15 1814.77 1532.04 Q1812.43 1529.94 1808.43 1529.94 Q1806.55 1529.94 1804.68 1530.35 Q1802.82 1530.77 1800.88 1531.65 L1800.88 1514.29 Z\" fill=\"#000000\" fill-rule=\"nonzero\" fill-opacity=\"1\" /><path clip-path=\"url(#clip650)\" d=\"M2242.67 1544.91 L2250.31 1544.91 L2250.31 1518.55 L2242 1520.21 L2242 1515.95 L2250.27 1514.29 L2254.94 1514.29 L2254.94 1544.91 L2262.58 1544.91 L2262.58 1548.85 L2242.67 1548.85 L2242.67 1544.91 Z\" fill=\"#000000\" fill-rule=\"nonzero\" fill-opacity=\"1\" /><path clip-path=\"url(#clip650)\" d=\"M2272.02 1542.97 L2276.91 1542.97 L2276.91 1548.85 L2272.02 1548.85 L2272.02 1542.97 Z\" fill=\"#000000\" fill-rule=\"nonzero\" fill-opacity=\"1\" /><path clip-path=\"url(#clip650)\" d=\"M2297.09 1517.37 Q2293.48 1517.37 2291.65 1520.93 Q2289.85 1524.47 2289.85 1531.6 Q2289.85 1538.71 2291.65 1542.27 Q2293.48 1545.82 2297.09 1545.82 Q2300.73 1545.82 2302.53 1542.27 Q2304.36 1538.71 2304.36 1531.6 Q2304.36 1524.47 2302.53 1520.93 Q2300.73 1517.37 2297.09 1517.37 M2297.09 1513.66 Q2302.9 1513.66 2305.96 1518.27 Q2309.04 1522.85 2309.04 1531.6 Q2309.04 1540.33 2305.96 1544.94 Q2302.9 1549.52 2297.09 1549.52 Q2291.28 1549.52 2288.2 1544.94 Q2285.15 1540.33 2285.15 1531.6 Q2285.15 1522.85 2288.2 1518.27 Q2291.28 1513.66 2297.09 1513.66 Z\" fill=\"#000000\" fill-rule=\"nonzero\" fill-opacity=\"1\" /><path clip-path=\"url(#clip650)\" d=\"M2327.26 1517.37 Q2323.64 1517.37 2321.82 1520.93 Q2320.01 1524.47 2320.01 1531.6 Q2320.01 1538.71 2321.82 1542.27 Q2323.64 1545.82 2327.26 1545.82 Q2330.89 1545.82 2332.7 1542.27 Q2334.52 1538.71 2334.52 1531.6 Q2334.52 1524.47 2332.7 1520.93 Q2330.89 1517.37 2327.26 1517.37 M2327.26 1513.66 Q2333.07 1513.66 2336.12 1518.27 Q2339.2 1522.85 2339.2 1531.6 Q2339.2 1540.33 2336.12 1544.94 Q2333.07 1549.52 2327.26 1549.52 Q2321.45 1549.52 2318.37 1544.94 Q2315.31 1540.33 2315.31 1531.6 Q2315.31 1522.85 2318.37 1518.27 Q2321.45 1513.66 2327.26 1513.66 Z\" fill=\"#000000\" fill-rule=\"nonzero\" fill-opacity=\"1\" /><polyline clip-path=\"url(#clip652)\" style=\"stroke:#000000; stroke-linecap:round; stroke-linejoin:round; stroke-width:2; stroke-opacity:0.1; fill:none\" points=\"156.598,1220.08 2352.76,1220.08 \"/>\n",
       "<polyline clip-path=\"url(#clip652)\" style=\"stroke:#000000; stroke-linecap:round; stroke-linejoin:round; stroke-width:2; stroke-opacity:0.1; fill:none\" points=\"156.598,948.528 2352.76,948.528 \"/>\n",
       "<polyline clip-path=\"url(#clip652)\" style=\"stroke:#000000; stroke-linecap:round; stroke-linejoin:round; stroke-width:2; stroke-opacity:0.1; fill:none\" points=\"156.598,676.98 2352.76,676.98 \"/>\n",
       "<polyline clip-path=\"url(#clip652)\" style=\"stroke:#000000; stroke-linecap:round; stroke-linejoin:round; stroke-width:2; stroke-opacity:0.1; fill:none\" points=\"156.598,405.432 2352.76,405.432 \"/>\n",
       "<polyline clip-path=\"url(#clip652)\" style=\"stroke:#000000; stroke-linecap:round; stroke-linejoin:round; stroke-width:2; stroke-opacity:0.1; fill:none\" points=\"156.598,133.884 2352.76,133.884 \"/>\n",
       "<polyline clip-path=\"url(#clip650)\" style=\"stroke:#000000; stroke-linecap:round; stroke-linejoin:round; stroke-width:4; stroke-opacity:1; fill:none\" points=\"156.598,1486.45 156.598,47.2441 \"/>\n",
       "<polyline clip-path=\"url(#clip650)\" style=\"stroke:#000000; stroke-linecap:round; stroke-linejoin:round; stroke-width:4; stroke-opacity:1; fill:none\" points=\"156.598,1220.08 175.496,1220.08 \"/>\n",
       "<polyline clip-path=\"url(#clip650)\" style=\"stroke:#000000; stroke-linecap:round; stroke-linejoin:round; stroke-width:4; stroke-opacity:1; fill:none\" points=\"156.598,948.528 175.496,948.528 \"/>\n",
       "<polyline clip-path=\"url(#clip650)\" style=\"stroke:#000000; stroke-linecap:round; stroke-linejoin:round; stroke-width:4; stroke-opacity:1; fill:none\" points=\"156.598,676.98 175.496,676.98 \"/>\n",
       "<polyline clip-path=\"url(#clip650)\" style=\"stroke:#000000; stroke-linecap:round; stroke-linejoin:round; stroke-width:4; stroke-opacity:1; fill:none\" points=\"156.598,405.432 175.496,405.432 \"/>\n",
       "<polyline clip-path=\"url(#clip650)\" style=\"stroke:#000000; stroke-linecap:round; stroke-linejoin:round; stroke-width:4; stroke-opacity:1; fill:none\" points=\"156.598,133.884 175.496,133.884 \"/>\n",
       "<path clip-path=\"url(#clip650)\" d=\"M63.4226 1205.87 Q59.8115 1205.87 57.9828 1209.44 Q56.1773 1212.98 56.1773 1220.11 Q56.1773 1227.22 57.9828 1230.78 Q59.8115 1234.32 63.4226 1234.32 Q67.0569 1234.32 68.8624 1230.78 Q70.6911 1227.22 70.6911 1220.11 Q70.6911 1212.98 68.8624 1209.44 Q67.0569 1205.87 63.4226 1205.87 M63.4226 1202.17 Q69.2328 1202.17 72.2883 1206.78 Q75.367 1211.36 75.367 1220.11 Q75.367 1228.84 72.2883 1233.44 Q69.2328 1238.03 63.4226 1238.03 Q57.6125 1238.03 54.5338 1233.44 Q51.4782 1228.84 51.4782 1220.11 Q51.4782 1211.36 54.5338 1206.78 Q57.6125 1202.17 63.4226 1202.17 Z\" fill=\"#000000\" fill-rule=\"nonzero\" fill-opacity=\"1\" /><path clip-path=\"url(#clip650)\" d=\"M83.5845 1231.48 L88.4688 1231.48 L88.4688 1237.36 L83.5845 1237.36 L83.5845 1231.48 Z\" fill=\"#000000\" fill-rule=\"nonzero\" fill-opacity=\"1\" /><path clip-path=\"url(#clip650)\" d=\"M108.654 1205.87 Q105.043 1205.87 103.214 1209.44 Q101.409 1212.98 101.409 1220.11 Q101.409 1227.22 103.214 1230.78 Q105.043 1234.32 108.654 1234.32 Q112.288 1234.32 114.094 1230.78 Q115.922 1227.22 115.922 1220.11 Q115.922 1212.98 114.094 1209.44 Q112.288 1205.87 108.654 1205.87 M108.654 1202.17 Q114.464 1202.17 117.52 1206.78 Q120.598 1211.36 120.598 1220.11 Q120.598 1228.84 117.52 1233.44 Q114.464 1238.03 108.654 1238.03 Q102.844 1238.03 99.765 1233.44 Q96.7095 1228.84 96.7095 1220.11 Q96.7095 1211.36 99.765 1206.78 Q102.844 1202.17 108.654 1202.17 Z\" fill=\"#000000\" fill-rule=\"nonzero\" fill-opacity=\"1\" /><path clip-path=\"url(#clip650)\" d=\"M65.0198 934.327 Q61.4087 934.327 59.58 937.892 Q57.7745 941.433 57.7745 948.563 Q57.7745 955.669 59.58 959.234 Q61.4087 962.776 65.0198 962.776 Q68.6541 962.776 70.4596 959.234 Q72.2883 955.669 72.2883 948.563 Q72.2883 941.433 70.4596 937.892 Q68.6541 934.327 65.0198 934.327 M65.0198 930.623 Q70.83 930.623 73.8855 935.23 Q76.9642 939.813 76.9642 948.563 Q76.9642 957.29 73.8855 961.896 Q70.83 966.479 65.0198 966.479 Q59.2097 966.479 56.131 961.896 Q53.0754 957.29 53.0754 948.563 Q53.0754 939.813 56.131 935.23 Q59.2097 930.623 65.0198 930.623 Z\" fill=\"#000000\" fill-rule=\"nonzero\" fill-opacity=\"1\" /><path clip-path=\"url(#clip650)\" d=\"M85.1818 959.928 L90.066 959.928 L90.066 965.808 L85.1818 965.808 L85.1818 959.928 Z\" fill=\"#000000\" fill-rule=\"nonzero\" fill-opacity=\"1\" /><path clip-path=\"url(#clip650)\" d=\"M104.279 961.873 L120.598 961.873 L120.598 965.808 L98.6539 965.808 L98.6539 961.873 Q101.316 959.118 105.899 954.489 Q110.506 949.836 111.686 948.493 Q113.932 945.97 114.811 944.234 Q115.714 942.475 115.714 940.785 Q115.714 938.03 113.77 936.294 Q111.848 934.558 108.746 934.558 Q106.547 934.558 104.094 935.322 Q101.663 936.086 98.8854 937.637 L98.8854 932.915 Q101.709 931.78 104.163 931.202 Q106.617 930.623 108.654 930.623 Q114.024 930.623 117.219 933.308 Q120.413 935.993 120.413 940.484 Q120.413 942.614 119.603 944.535 Q118.816 946.433 116.709 949.026 Q116.131 949.697 113.029 952.915 Q109.927 956.109 104.279 961.873 Z\" fill=\"#000000\" fill-rule=\"nonzero\" fill-opacity=\"1\" /><path clip-path=\"url(#clip650)\" d=\"M62.9365 662.779 Q59.3254 662.779 57.4967 666.344 Q55.6912 669.885 55.6912 677.015 Q55.6912 684.121 57.4967 687.686 Q59.3254 691.228 62.9365 691.228 Q66.5707 691.228 68.3763 687.686 Q70.205 684.121 70.205 677.015 Q70.205 669.885 68.3763 666.344 Q66.5707 662.779 62.9365 662.779 M62.9365 659.075 Q68.7467 659.075 71.8022 663.682 Q74.8809 668.265 74.8809 677.015 Q74.8809 685.742 71.8022 690.348 Q68.7467 694.931 62.9365 694.931 Q57.1264 694.931 54.0477 690.348 Q50.9921 685.742 50.9921 677.015 Q50.9921 668.265 54.0477 663.682 Q57.1264 659.075 62.9365 659.075 Z\" fill=\"#000000\" fill-rule=\"nonzero\" fill-opacity=\"1\" /><path clip-path=\"url(#clip650)\" d=\"M83.0984 688.381 L87.9827 688.381 L87.9827 694.26 L83.0984 694.26 L83.0984 688.381 Z\" fill=\"#000000\" fill-rule=\"nonzero\" fill-opacity=\"1\" /><path clip-path=\"url(#clip650)\" d=\"M111.015 663.774 L99.2095 682.223 L111.015 682.223 L111.015 663.774 M109.788 659.7 L115.668 659.7 L115.668 682.223 L120.598 682.223 L120.598 686.112 L115.668 686.112 L115.668 694.26 L111.015 694.26 L111.015 686.112 L95.4132 686.112 L95.4132 681.598 L109.788 659.7 Z\" fill=\"#000000\" fill-rule=\"nonzero\" fill-opacity=\"1\" /><path clip-path=\"url(#clip650)\" d=\"M63.2606 391.231 Q59.6495 391.231 57.8208 394.796 Q56.0152 398.337 56.0152 405.467 Q56.0152 412.573 57.8208 416.138 Q59.6495 419.68 63.2606 419.68 Q66.8948 419.68 68.7004 416.138 Q70.5291 412.573 70.5291 405.467 Q70.5291 398.337 68.7004 394.796 Q66.8948 391.231 63.2606 391.231 M63.2606 387.527 Q69.0707 387.527 72.1263 392.134 Q75.205 396.717 75.205 405.467 Q75.205 414.194 72.1263 418.8 Q69.0707 423.384 63.2606 423.384 Q57.4504 423.384 54.3717 418.8 Q51.3162 414.194 51.3162 405.467 Q51.3162 396.717 54.3717 392.134 Q57.4504 387.527 63.2606 387.527 Z\" fill=\"#000000\" fill-rule=\"nonzero\" fill-opacity=\"1\" /><path clip-path=\"url(#clip650)\" d=\"M83.4225 416.833 L88.3067 416.833 L88.3067 422.712 L83.4225 422.712 L83.4225 416.833 Z\" fill=\"#000000\" fill-rule=\"nonzero\" fill-opacity=\"1\" /><path clip-path=\"url(#clip650)\" d=\"M109.071 403.569 Q105.922 403.569 104.071 405.722 Q102.242 407.874 102.242 411.624 Q102.242 415.351 104.071 417.527 Q105.922 419.68 109.071 419.68 Q112.219 419.68 114.047 417.527 Q115.899 415.351 115.899 411.624 Q115.899 407.874 114.047 405.722 Q112.219 403.569 109.071 403.569 M118.353 388.916 L118.353 393.175 Q116.594 392.342 114.788 391.902 Q113.006 391.462 111.246 391.462 Q106.617 391.462 104.163 394.587 Q101.733 397.712 101.385 404.032 Q102.751 402.018 104.811 400.953 Q106.871 399.865 109.348 399.865 Q114.557 399.865 117.566 403.036 Q120.598 406.185 120.598 411.624 Q120.598 416.948 117.45 420.166 Q114.302 423.384 109.071 423.384 Q103.075 423.384 99.9039 418.8 Q96.7326 414.194 96.7326 405.467 Q96.7326 397.273 100.621 392.412 Q104.51 387.527 111.061 387.527 Q112.82 387.527 114.603 387.875 Q116.408 388.222 118.353 388.916 Z\" fill=\"#000000\" fill-rule=\"nonzero\" fill-opacity=\"1\" /><path clip-path=\"url(#clip650)\" d=\"M63.5152 119.683 Q59.9041 119.683 58.0754 123.248 Q56.2699 126.79 56.2699 133.919 Q56.2699 141.026 58.0754 144.59 Q59.9041 148.132 63.5152 148.132 Q67.1494 148.132 68.955 144.59 Q70.7837 141.026 70.7837 133.919 Q70.7837 126.79 68.955 123.248 Q67.1494 119.683 63.5152 119.683 M63.5152 115.979 Q69.3254 115.979 72.3809 120.586 Q75.4596 125.169 75.4596 133.919 Q75.4596 142.646 72.3809 147.252 Q69.3254 151.836 63.5152 151.836 Q57.7051 151.836 54.6264 147.252 Q51.5708 142.646 51.5708 133.919 Q51.5708 125.169 54.6264 120.586 Q57.7051 115.979 63.5152 115.979 Z\" fill=\"#000000\" fill-rule=\"nonzero\" fill-opacity=\"1\" /><path clip-path=\"url(#clip650)\" d=\"M83.6771 145.285 L88.5614 145.285 L88.5614 151.164 L83.6771 151.164 L83.6771 145.285 Z\" fill=\"#000000\" fill-rule=\"nonzero\" fill-opacity=\"1\" /><path clip-path=\"url(#clip650)\" d=\"M108.746 134.752 Q105.413 134.752 103.492 136.535 Q101.594 138.317 101.594 141.442 Q101.594 144.567 103.492 146.35 Q105.413 148.132 108.746 148.132 Q112.08 148.132 114.001 146.35 Q115.922 144.544 115.922 141.442 Q115.922 138.317 114.001 136.535 Q112.103 134.752 108.746 134.752 M104.071 132.762 Q101.061 132.021 99.3715 129.961 Q97.7048 127.901 97.7048 124.938 Q97.7048 120.794 100.645 118.387 Q103.608 115.979 108.746 115.979 Q113.908 115.979 116.848 118.387 Q119.788 120.794 119.788 124.938 Q119.788 127.901 118.098 129.961 Q116.432 132.021 113.445 132.762 Q116.825 133.549 118.7 135.84 Q120.598 138.132 120.598 141.442 Q120.598 146.465 117.52 149.151 Q114.464 151.836 108.746 151.836 Q103.029 151.836 99.9502 149.151 Q96.8947 146.465 96.8947 141.442 Q96.8947 138.132 98.7928 135.84 Q100.691 133.549 104.071 132.762 M102.358 125.377 Q102.358 128.063 104.024 129.567 Q105.714 131.072 108.746 131.072 Q111.756 131.072 113.445 129.567 Q115.158 128.063 115.158 125.377 Q115.158 122.692 113.445 121.188 Q111.756 119.683 108.746 119.683 Q105.714 119.683 104.024 121.188 Q102.358 122.692 102.358 125.377 Z\" fill=\"#000000\" fill-rule=\"nonzero\" fill-opacity=\"1\" /><polyline clip-path=\"url(#clip652)\" style=\"stroke:#009af9; stroke-linecap:round; stroke-linejoin:round; stroke-width:4; stroke-opacity:1; fill:none\" points=\"218.754,87.9763 232.242,96.8159 356.966,178.551 431.92,227.67 495.293,269.2 564.133,314.313 627.598,355.903 695.639,400.493 774.471,452.153 844.528,498.063 905.961,538.322 972.94,582.216 1040.32,626.37 1114.81,675.187 1185.69,721.636 1259.39,769.933 1321.42,810.588 1397.17,860.223 1466.55,905.692 1530.63,947.686 1595.54,990.225 1668.29,1037.9 1734.21,1081.1 1809.69,1130.56 1879.57,1176.36 1948.47,1221.51 2015.36,1265.35 2083.94,1310.28 2159.07,1359.52 2268.21,1431.04 2290.6,1445.72 \"/>\n",
       "<path clip-path=\"url(#clip650)\" d=\"M2007.5 198.898 L2279.55 198.898 L2279.55 95.2176 L2007.5 95.2176  Z\" fill=\"#ffffff\" fill-rule=\"evenodd\" fill-opacity=\"1\"/>\n",
       "<polyline clip-path=\"url(#clip650)\" style=\"stroke:#000000; stroke-linecap:round; stroke-linejoin:round; stroke-width:4; stroke-opacity:1; fill:none\" points=\"2007.5,198.898 2279.55,198.898 2279.55,95.2176 2007.5,95.2176 2007.5,198.898 \"/>\n",
       "<polyline clip-path=\"url(#clip650)\" style=\"stroke:#009af9; stroke-linecap:round; stroke-linejoin:round; stroke-width:4; stroke-opacity:1; fill:none\" points=\"2031.91,147.058 2178.32,147.058 \"/>\n",
       "<path clip-path=\"url(#clip650)\" d=\"M2216.56 166.745 Q2214.76 171.375 2213.04 172.787 Q2211.33 174.199 2208.46 174.199 L2205.06 174.199 L2205.06 170.634 L2207.56 170.634 Q2209.32 170.634 2210.29 169.8 Q2211.26 168.967 2212.44 165.865 L2213.2 163.921 L2202.72 138.412 L2207.23 138.412 L2215.33 158.689 L2223.44 138.412 L2227.95 138.412 L2216.56 166.745 Z\" fill=\"#000000\" fill-rule=\"nonzero\" fill-opacity=\"1\" /><path clip-path=\"url(#clip650)\" d=\"M2235.24 160.402 L2242.88 160.402 L2242.88 134.037 L2234.57 135.703 L2234.57 131.444 L2242.83 129.778 L2247.51 129.778 L2247.51 160.402 L2255.15 160.402 L2255.15 164.338 L2235.24 164.338 L2235.24 160.402 Z\" fill=\"#000000\" fill-rule=\"nonzero\" fill-opacity=\"1\" /></svg>\n"
      ],
      "text/html": [
       "<?xml version=\"1.0\" encoding=\"utf-8\"?>\n",
       "<svg xmlns=\"http://www.w3.org/2000/svg\" xmlns:xlink=\"http://www.w3.org/1999/xlink\" width=\"600\" height=\"400\" viewBox=\"0 0 2400 1600\">\n",
       "<defs>\n",
       "  <clipPath id=\"clip700\">\n",
       "    <rect x=\"0\" y=\"0\" width=\"2400\" height=\"1600\"/>\n",
       "  </clipPath>\n",
       "</defs>\n",
       "<path clip-path=\"url(#clip700)\" d=\"M0 1600 L2400 1600 L2400 0 L0 0  Z\" fill=\"#ffffff\" fill-rule=\"evenodd\" fill-opacity=\"1\"/>\n",
       "<defs>\n",
       "  <clipPath id=\"clip701\">\n",
       "    <rect x=\"480\" y=\"0\" width=\"1681\" height=\"1600\"/>\n",
       "  </clipPath>\n",
       "</defs>\n",
       "<path clip-path=\"url(#clip700)\" d=\"M156.598 1486.45 L2352.76 1486.45 L2352.76 47.2441 L156.598 47.2441  Z\" fill=\"#ffffff\" fill-rule=\"evenodd\" fill-opacity=\"1\"/>\n",
       "<defs>\n",
       "  <clipPath id=\"clip702\">\n",
       "    <rect x=\"156\" y=\"47\" width=\"2197\" height=\"1440\"/>\n",
       "  </clipPath>\n",
       "</defs>\n",
       "<polyline clip-path=\"url(#clip702)\" style=\"stroke:#000000; stroke-linecap:round; stroke-linejoin:round; stroke-width:2; stroke-opacity:0.1; fill:none\" points=\"218.754,1486.45 218.754,47.2441 \"/>\n",
       "<polyline clip-path=\"url(#clip702)\" style=\"stroke:#000000; stroke-linecap:round; stroke-linejoin:round; stroke-width:2; stroke-opacity:0.1; fill:none\" points=\"736.715,1486.45 736.715,47.2441 \"/>\n",
       "<polyline clip-path=\"url(#clip702)\" style=\"stroke:#000000; stroke-linecap:round; stroke-linejoin:round; stroke-width:2; stroke-opacity:0.1; fill:none\" points=\"1254.68,1486.45 1254.68,47.2441 \"/>\n",
       "<polyline clip-path=\"url(#clip702)\" style=\"stroke:#000000; stroke-linecap:round; stroke-linejoin:round; stroke-width:2; stroke-opacity:0.1; fill:none\" points=\"1772.64,1486.45 1772.64,47.2441 \"/>\n",
       "<polyline clip-path=\"url(#clip702)\" style=\"stroke:#000000; stroke-linecap:round; stroke-linejoin:round; stroke-width:2; stroke-opacity:0.1; fill:none\" points=\"2290.6,1486.45 2290.6,47.2441 \"/>\n",
       "<polyline clip-path=\"url(#clip700)\" style=\"stroke:#000000; stroke-linecap:round; stroke-linejoin:round; stroke-width:4; stroke-opacity:1; fill:none\" points=\"156.598,1486.45 2352.76,1486.45 \"/>\n",
       "<polyline clip-path=\"url(#clip700)\" style=\"stroke:#000000; stroke-linecap:round; stroke-linejoin:round; stroke-width:4; stroke-opacity:1; fill:none\" points=\"218.754,1486.45 218.754,1467.55 \"/>\n",
       "<polyline clip-path=\"url(#clip700)\" style=\"stroke:#000000; stroke-linecap:round; stroke-linejoin:round; stroke-width:4; stroke-opacity:1; fill:none\" points=\"736.715,1486.45 736.715,1467.55 \"/>\n",
       "<polyline clip-path=\"url(#clip700)\" style=\"stroke:#000000; stroke-linecap:round; stroke-linejoin:round; stroke-width:4; stroke-opacity:1; fill:none\" points=\"1254.68,1486.45 1254.68,1467.55 \"/>\n",
       "<polyline clip-path=\"url(#clip700)\" style=\"stroke:#000000; stroke-linecap:round; stroke-linejoin:round; stroke-width:4; stroke-opacity:1; fill:none\" points=\"1772.64,1486.45 1772.64,1467.55 \"/>\n",
       "<polyline clip-path=\"url(#clip700)\" style=\"stroke:#000000; stroke-linecap:round; stroke-linejoin:round; stroke-width:4; stroke-opacity:1; fill:none\" points=\"2290.6,1486.45 2290.6,1467.55 \"/>\n",
       "<path clip-path=\"url(#clip700)\" d=\"M181.057 1517.37 Q177.446 1517.37 175.617 1520.93 Q173.812 1524.47 173.812 1531.6 Q173.812 1538.71 175.617 1542.27 Q177.446 1545.82 181.057 1545.82 Q184.691 1545.82 186.497 1542.27 Q188.326 1538.71 188.326 1531.6 Q188.326 1524.47 186.497 1520.93 Q184.691 1517.37 181.057 1517.37 M181.057 1513.66 Q186.867 1513.66 189.923 1518.27 Q193.001 1522.85 193.001 1531.6 Q193.001 1540.33 189.923 1544.94 Q186.867 1549.52 181.057 1549.52 Q175.247 1549.52 172.168 1544.94 Q169.113 1540.33 169.113 1531.6 Q169.113 1522.85 172.168 1518.27 Q175.247 1513.66 181.057 1513.66 Z\" fill=\"#000000\" fill-rule=\"nonzero\" fill-opacity=\"1\" /><path clip-path=\"url(#clip700)\" d=\"M201.219 1542.97 L206.103 1542.97 L206.103 1548.85 L201.219 1548.85 L201.219 1542.97 Z\" fill=\"#000000\" fill-rule=\"nonzero\" fill-opacity=\"1\" /><path clip-path=\"url(#clip700)\" d=\"M226.288 1517.37 Q222.677 1517.37 220.849 1520.93 Q219.043 1524.47 219.043 1531.6 Q219.043 1538.71 220.849 1542.27 Q222.677 1545.82 226.288 1545.82 Q229.923 1545.82 231.728 1542.27 Q233.557 1538.71 233.557 1531.6 Q233.557 1524.47 231.728 1520.93 Q229.923 1517.37 226.288 1517.37 M226.288 1513.66 Q232.098 1513.66 235.154 1518.27 Q238.233 1522.85 238.233 1531.6 Q238.233 1540.33 235.154 1544.94 Q232.098 1549.52 226.288 1549.52 Q220.478 1549.52 217.399 1544.94 Q214.344 1540.33 214.344 1531.6 Q214.344 1522.85 217.399 1518.27 Q220.478 1513.66 226.288 1513.66 Z\" fill=\"#000000\" fill-rule=\"nonzero\" fill-opacity=\"1\" /><path clip-path=\"url(#clip700)\" d=\"M256.45 1517.37 Q252.839 1517.37 251.01 1520.93 Q249.205 1524.47 249.205 1531.6 Q249.205 1538.71 251.01 1542.27 Q252.839 1545.82 256.45 1545.82 Q260.084 1545.82 261.89 1542.27 Q263.719 1538.71 263.719 1531.6 Q263.719 1524.47 261.89 1520.93 Q260.084 1517.37 256.45 1517.37 M256.45 1513.66 Q262.26 1513.66 265.316 1518.27 Q268.395 1522.85 268.395 1531.6 Q268.395 1540.33 265.316 1544.94 Q262.26 1549.52 256.45 1549.52 Q250.64 1549.52 247.561 1544.94 Q244.506 1540.33 244.506 1531.6 Q244.506 1522.85 247.561 1518.27 Q250.64 1513.66 256.45 1513.66 Z\" fill=\"#000000\" fill-rule=\"nonzero\" fill-opacity=\"1\" /><path clip-path=\"url(#clip700)\" d=\"M699.516 1517.37 Q695.905 1517.37 694.077 1520.93 Q692.271 1524.47 692.271 1531.6 Q692.271 1538.71 694.077 1542.27 Q695.905 1545.82 699.516 1545.82 Q703.151 1545.82 704.956 1542.27 Q706.785 1538.71 706.785 1531.6 Q706.785 1524.47 704.956 1520.93 Q703.151 1517.37 699.516 1517.37 M699.516 1513.66 Q705.327 1513.66 708.382 1518.27 Q711.461 1522.85 711.461 1531.6 Q711.461 1540.33 708.382 1544.94 Q705.327 1549.52 699.516 1549.52 Q693.706 1549.52 690.628 1544.94 Q687.572 1540.33 687.572 1531.6 Q687.572 1522.85 690.628 1518.27 Q693.706 1513.66 699.516 1513.66 Z\" fill=\"#000000\" fill-rule=\"nonzero\" fill-opacity=\"1\" /><path clip-path=\"url(#clip700)\" d=\"M719.678 1542.97 L724.563 1542.97 L724.563 1548.85 L719.678 1548.85 L719.678 1542.97 Z\" fill=\"#000000\" fill-rule=\"nonzero\" fill-opacity=\"1\" /><path clip-path=\"url(#clip700)\" d=\"M738.776 1544.91 L755.095 1544.91 L755.095 1548.85 L733.151 1548.85 L733.151 1544.91 Q735.813 1542.16 740.396 1537.53 Q745.002 1532.88 746.183 1531.53 Q748.428 1529.01 749.308 1527.27 Q750.211 1525.51 750.211 1523.82 Q750.211 1521.07 748.266 1519.33 Q746.345 1517.6 743.243 1517.6 Q741.044 1517.6 738.59 1518.36 Q736.16 1519.13 733.382 1520.68 L733.382 1515.95 Q736.206 1514.82 738.66 1514.24 Q741.113 1513.66 743.151 1513.66 Q748.521 1513.66 751.715 1516.35 Q754.91 1519.03 754.91 1523.52 Q754.91 1525.65 754.1 1527.57 Q753.312 1529.47 751.206 1532.07 Q750.627 1532.74 747.525 1535.95 Q744.424 1539.15 738.776 1544.91 Z\" fill=\"#000000\" fill-rule=\"nonzero\" fill-opacity=\"1\" /><path clip-path=\"url(#clip700)\" d=\"M764.956 1514.29 L783.312 1514.29 L783.312 1518.22 L769.238 1518.22 L769.238 1526.7 Q770.257 1526.35 771.275 1526.19 Q772.294 1526 773.312 1526 Q779.099 1526 782.479 1529.17 Q785.859 1532.34 785.859 1537.76 Q785.859 1543.34 782.386 1546.44 Q778.914 1549.52 772.595 1549.52 Q770.419 1549.52 768.15 1549.15 Q765.905 1548.78 763.498 1548.04 L763.498 1543.34 Q765.581 1544.47 767.803 1545.03 Q770.025 1545.58 772.502 1545.58 Q776.507 1545.58 778.845 1543.48 Q781.183 1541.37 781.183 1537.76 Q781.183 1534.15 778.845 1532.04 Q776.507 1529.94 772.502 1529.94 Q770.627 1529.94 768.752 1530.35 Q766.9 1530.77 764.956 1531.65 L764.956 1514.29 Z\" fill=\"#000000\" fill-rule=\"nonzero\" fill-opacity=\"1\" /><path clip-path=\"url(#clip700)\" d=\"M1216.98 1517.37 Q1213.37 1517.37 1211.54 1520.93 Q1209.74 1524.47 1209.74 1531.6 Q1209.74 1538.71 1211.54 1542.27 Q1213.37 1545.82 1216.98 1545.82 Q1220.61 1545.82 1222.42 1542.27 Q1224.25 1538.71 1224.25 1531.6 Q1224.25 1524.47 1222.42 1520.93 Q1220.61 1517.37 1216.98 1517.37 M1216.98 1513.66 Q1222.79 1513.66 1225.85 1518.27 Q1228.92 1522.85 1228.92 1531.6 Q1228.92 1540.33 1225.85 1544.94 Q1222.79 1549.52 1216.98 1549.52 Q1211.17 1549.52 1208.09 1544.94 Q1205.04 1540.33 1205.04 1531.6 Q1205.04 1522.85 1208.09 1518.27 Q1211.17 1513.66 1216.98 1513.66 Z\" fill=\"#000000\" fill-rule=\"nonzero\" fill-opacity=\"1\" /><path clip-path=\"url(#clip700)\" d=\"M1237.14 1542.97 L1242.03 1542.97 L1242.03 1548.85 L1237.14 1548.85 L1237.14 1542.97 Z\" fill=\"#000000\" fill-rule=\"nonzero\" fill-opacity=\"1\" /><path clip-path=\"url(#clip700)\" d=\"M1252.26 1514.29 L1270.61 1514.29 L1270.61 1518.22 L1256.54 1518.22 L1256.54 1526.7 Q1257.56 1526.35 1258.58 1526.19 Q1259.6 1526 1260.61 1526 Q1266.4 1526 1269.78 1529.17 Q1273.16 1532.34 1273.16 1537.76 Q1273.16 1543.34 1269.69 1546.44 Q1266.22 1549.52 1259.9 1549.52 Q1257.72 1549.52 1255.45 1549.15 Q1253.21 1548.78 1250.8 1548.04 L1250.8 1543.34 Q1252.88 1544.47 1255.11 1545.03 Q1257.33 1545.58 1259.8 1545.58 Q1263.81 1545.58 1266.15 1543.48 Q1268.48 1541.37 1268.48 1537.76 Q1268.48 1534.15 1266.15 1532.04 Q1263.81 1529.94 1259.8 1529.94 Q1257.93 1529.94 1256.05 1530.35 Q1254.2 1530.77 1252.26 1531.65 L1252.26 1514.29 Z\" fill=\"#000000\" fill-rule=\"nonzero\" fill-opacity=\"1\" /><path clip-path=\"url(#clip700)\" d=\"M1292.37 1517.37 Q1288.76 1517.37 1286.93 1520.93 Q1285.13 1524.47 1285.13 1531.6 Q1285.13 1538.71 1286.93 1542.27 Q1288.76 1545.82 1292.37 1545.82 Q1296.01 1545.82 1297.81 1542.27 Q1299.64 1538.71 1299.64 1531.6 Q1299.64 1524.47 1297.81 1520.93 Q1296.01 1517.37 1292.37 1517.37 M1292.37 1513.66 Q1298.18 1513.66 1301.24 1518.27 Q1304.32 1522.85 1304.32 1531.6 Q1304.32 1540.33 1301.24 1544.94 Q1298.18 1549.52 1292.37 1549.52 Q1286.56 1549.52 1283.48 1544.94 Q1280.43 1540.33 1280.43 1531.6 Q1280.43 1522.85 1283.48 1518.27 Q1286.56 1513.66 1292.37 1513.66 Z\" fill=\"#000000\" fill-rule=\"nonzero\" fill-opacity=\"1\" /><path clip-path=\"url(#clip700)\" d=\"M1735.44 1517.37 Q1731.83 1517.37 1730 1520.93 Q1728.19 1524.47 1728.19 1531.6 Q1728.19 1538.71 1730 1542.27 Q1731.83 1545.82 1735.44 1545.82 Q1739.07 1545.82 1740.88 1542.27 Q1742.71 1538.71 1742.71 1531.6 Q1742.71 1524.47 1740.88 1520.93 Q1739.07 1517.37 1735.44 1517.37 M1735.44 1513.66 Q1741.25 1513.66 1744.31 1518.27 Q1747.38 1522.85 1747.38 1531.6 Q1747.38 1540.33 1744.31 1544.94 Q1741.25 1549.52 1735.44 1549.52 Q1729.63 1549.52 1726.55 1544.94 Q1723.5 1540.33 1723.5 1531.6 Q1723.5 1522.85 1726.55 1518.27 Q1729.63 1513.66 1735.44 1513.66 Z\" fill=\"#000000\" fill-rule=\"nonzero\" fill-opacity=\"1\" /><path clip-path=\"url(#clip700)\" d=\"M1755.6 1542.97 L1760.49 1542.97 L1760.49 1548.85 L1755.6 1548.85 L1755.6 1542.97 Z\" fill=\"#000000\" fill-rule=\"nonzero\" fill-opacity=\"1\" /><path clip-path=\"url(#clip700)\" d=\"M1769.49 1514.29 L1791.71 1514.29 L1791.71 1516.28 L1779.17 1548.85 L1774.28 1548.85 L1786.09 1518.22 L1769.49 1518.22 L1769.49 1514.29 Z\" fill=\"#000000\" fill-rule=\"nonzero\" fill-opacity=\"1\" /><path clip-path=\"url(#clip700)\" d=\"M1800.88 1514.29 L1819.24 1514.29 L1819.24 1518.22 L1805.16 1518.22 L1805.16 1526.7 Q1806.18 1526.35 1807.2 1526.19 Q1808.22 1526 1809.24 1526 Q1815.02 1526 1818.4 1529.17 Q1821.78 1532.34 1821.78 1537.76 Q1821.78 1543.34 1818.31 1546.44 Q1814.84 1549.52 1808.52 1549.52 Q1806.34 1549.52 1804.07 1549.15 Q1801.83 1548.78 1799.42 1548.04 L1799.42 1543.34 Q1801.5 1544.47 1803.73 1545.03 Q1805.95 1545.58 1808.43 1545.58 Q1812.43 1545.58 1814.77 1543.48 Q1817.11 1541.37 1817.11 1537.76 Q1817.11 1534.15 1814.77 1532.04 Q1812.43 1529.94 1808.43 1529.94 Q1806.55 1529.94 1804.68 1530.35 Q1802.82 1530.77 1800.88 1531.65 L1800.88 1514.29 Z\" fill=\"#000000\" fill-rule=\"nonzero\" fill-opacity=\"1\" /><path clip-path=\"url(#clip700)\" d=\"M2242.67 1544.91 L2250.31 1544.91 L2250.31 1518.55 L2242 1520.21 L2242 1515.95 L2250.27 1514.29 L2254.94 1514.29 L2254.94 1544.91 L2262.58 1544.91 L2262.58 1548.85 L2242.67 1548.85 L2242.67 1544.91 Z\" fill=\"#000000\" fill-rule=\"nonzero\" fill-opacity=\"1\" /><path clip-path=\"url(#clip700)\" d=\"M2272.02 1542.97 L2276.91 1542.97 L2276.91 1548.85 L2272.02 1548.85 L2272.02 1542.97 Z\" fill=\"#000000\" fill-rule=\"nonzero\" fill-opacity=\"1\" /><path clip-path=\"url(#clip700)\" d=\"M2297.09 1517.37 Q2293.48 1517.37 2291.65 1520.93 Q2289.85 1524.47 2289.85 1531.6 Q2289.85 1538.71 2291.65 1542.27 Q2293.48 1545.82 2297.09 1545.82 Q2300.73 1545.82 2302.53 1542.27 Q2304.36 1538.71 2304.36 1531.6 Q2304.36 1524.47 2302.53 1520.93 Q2300.73 1517.37 2297.09 1517.37 M2297.09 1513.66 Q2302.9 1513.66 2305.96 1518.27 Q2309.04 1522.85 2309.04 1531.6 Q2309.04 1540.33 2305.96 1544.94 Q2302.9 1549.52 2297.09 1549.52 Q2291.28 1549.52 2288.2 1544.94 Q2285.15 1540.33 2285.15 1531.6 Q2285.15 1522.85 2288.2 1518.27 Q2291.28 1513.66 2297.09 1513.66 Z\" fill=\"#000000\" fill-rule=\"nonzero\" fill-opacity=\"1\" /><path clip-path=\"url(#clip700)\" d=\"M2327.26 1517.37 Q2323.64 1517.37 2321.82 1520.93 Q2320.01 1524.47 2320.01 1531.6 Q2320.01 1538.71 2321.82 1542.27 Q2323.64 1545.82 2327.26 1545.82 Q2330.89 1545.82 2332.7 1542.27 Q2334.52 1538.71 2334.52 1531.6 Q2334.52 1524.47 2332.7 1520.93 Q2330.89 1517.37 2327.26 1517.37 M2327.26 1513.66 Q2333.07 1513.66 2336.12 1518.27 Q2339.2 1522.85 2339.2 1531.6 Q2339.2 1540.33 2336.12 1544.94 Q2333.07 1549.52 2327.26 1549.52 Q2321.45 1549.52 2318.37 1544.94 Q2315.31 1540.33 2315.31 1531.6 Q2315.31 1522.85 2318.37 1518.27 Q2321.45 1513.66 2327.26 1513.66 Z\" fill=\"#000000\" fill-rule=\"nonzero\" fill-opacity=\"1\" /><polyline clip-path=\"url(#clip702)\" style=\"stroke:#000000; stroke-linecap:round; stroke-linejoin:round; stroke-width:2; stroke-opacity:0.1; fill:none\" points=\"156.598,1220.08 2352.76,1220.08 \"/>\n",
       "<polyline clip-path=\"url(#clip702)\" style=\"stroke:#000000; stroke-linecap:round; stroke-linejoin:round; stroke-width:2; stroke-opacity:0.1; fill:none\" points=\"156.598,948.528 2352.76,948.528 \"/>\n",
       "<polyline clip-path=\"url(#clip702)\" style=\"stroke:#000000; stroke-linecap:round; stroke-linejoin:round; stroke-width:2; stroke-opacity:0.1; fill:none\" points=\"156.598,676.98 2352.76,676.98 \"/>\n",
       "<polyline clip-path=\"url(#clip702)\" style=\"stroke:#000000; stroke-linecap:round; stroke-linejoin:round; stroke-width:2; stroke-opacity:0.1; fill:none\" points=\"156.598,405.432 2352.76,405.432 \"/>\n",
       "<polyline clip-path=\"url(#clip702)\" style=\"stroke:#000000; stroke-linecap:round; stroke-linejoin:round; stroke-width:2; stroke-opacity:0.1; fill:none\" points=\"156.598,133.884 2352.76,133.884 \"/>\n",
       "<polyline clip-path=\"url(#clip700)\" style=\"stroke:#000000; stroke-linecap:round; stroke-linejoin:round; stroke-width:4; stroke-opacity:1; fill:none\" points=\"156.598,1486.45 156.598,47.2441 \"/>\n",
       "<polyline clip-path=\"url(#clip700)\" style=\"stroke:#000000; stroke-linecap:round; stroke-linejoin:round; stroke-width:4; stroke-opacity:1; fill:none\" points=\"156.598,1220.08 175.496,1220.08 \"/>\n",
       "<polyline clip-path=\"url(#clip700)\" style=\"stroke:#000000; stroke-linecap:round; stroke-linejoin:round; stroke-width:4; stroke-opacity:1; fill:none\" points=\"156.598,948.528 175.496,948.528 \"/>\n",
       "<polyline clip-path=\"url(#clip700)\" style=\"stroke:#000000; stroke-linecap:round; stroke-linejoin:round; stroke-width:4; stroke-opacity:1; fill:none\" points=\"156.598,676.98 175.496,676.98 \"/>\n",
       "<polyline clip-path=\"url(#clip700)\" style=\"stroke:#000000; stroke-linecap:round; stroke-linejoin:round; stroke-width:4; stroke-opacity:1; fill:none\" points=\"156.598,405.432 175.496,405.432 \"/>\n",
       "<polyline clip-path=\"url(#clip700)\" style=\"stroke:#000000; stroke-linecap:round; stroke-linejoin:round; stroke-width:4; stroke-opacity:1; fill:none\" points=\"156.598,133.884 175.496,133.884 \"/>\n",
       "<path clip-path=\"url(#clip700)\" d=\"M63.4226 1205.87 Q59.8115 1205.87 57.9828 1209.44 Q56.1773 1212.98 56.1773 1220.11 Q56.1773 1227.22 57.9828 1230.78 Q59.8115 1234.32 63.4226 1234.32 Q67.0569 1234.32 68.8624 1230.78 Q70.6911 1227.22 70.6911 1220.11 Q70.6911 1212.98 68.8624 1209.44 Q67.0569 1205.87 63.4226 1205.87 M63.4226 1202.17 Q69.2328 1202.17 72.2883 1206.78 Q75.367 1211.36 75.367 1220.11 Q75.367 1228.84 72.2883 1233.44 Q69.2328 1238.03 63.4226 1238.03 Q57.6125 1238.03 54.5338 1233.44 Q51.4782 1228.84 51.4782 1220.11 Q51.4782 1211.36 54.5338 1206.78 Q57.6125 1202.17 63.4226 1202.17 Z\" fill=\"#000000\" fill-rule=\"nonzero\" fill-opacity=\"1\" /><path clip-path=\"url(#clip700)\" d=\"M83.5845 1231.48 L88.4688 1231.48 L88.4688 1237.36 L83.5845 1237.36 L83.5845 1231.48 Z\" fill=\"#000000\" fill-rule=\"nonzero\" fill-opacity=\"1\" /><path clip-path=\"url(#clip700)\" d=\"M108.654 1205.87 Q105.043 1205.87 103.214 1209.44 Q101.409 1212.98 101.409 1220.11 Q101.409 1227.22 103.214 1230.78 Q105.043 1234.32 108.654 1234.32 Q112.288 1234.32 114.094 1230.78 Q115.922 1227.22 115.922 1220.11 Q115.922 1212.98 114.094 1209.44 Q112.288 1205.87 108.654 1205.87 M108.654 1202.17 Q114.464 1202.17 117.52 1206.78 Q120.598 1211.36 120.598 1220.11 Q120.598 1228.84 117.52 1233.44 Q114.464 1238.03 108.654 1238.03 Q102.844 1238.03 99.765 1233.44 Q96.7095 1228.84 96.7095 1220.11 Q96.7095 1211.36 99.765 1206.78 Q102.844 1202.17 108.654 1202.17 Z\" fill=\"#000000\" fill-rule=\"nonzero\" fill-opacity=\"1\" /><path clip-path=\"url(#clip700)\" d=\"M65.0198 934.327 Q61.4087 934.327 59.58 937.892 Q57.7745 941.433 57.7745 948.563 Q57.7745 955.669 59.58 959.234 Q61.4087 962.776 65.0198 962.776 Q68.6541 962.776 70.4596 959.234 Q72.2883 955.669 72.2883 948.563 Q72.2883 941.433 70.4596 937.892 Q68.6541 934.327 65.0198 934.327 M65.0198 930.623 Q70.83 930.623 73.8855 935.23 Q76.9642 939.813 76.9642 948.563 Q76.9642 957.29 73.8855 961.896 Q70.83 966.479 65.0198 966.479 Q59.2097 966.479 56.131 961.896 Q53.0754 957.29 53.0754 948.563 Q53.0754 939.813 56.131 935.23 Q59.2097 930.623 65.0198 930.623 Z\" fill=\"#000000\" fill-rule=\"nonzero\" fill-opacity=\"1\" /><path clip-path=\"url(#clip700)\" d=\"M85.1818 959.928 L90.066 959.928 L90.066 965.808 L85.1818 965.808 L85.1818 959.928 Z\" fill=\"#000000\" fill-rule=\"nonzero\" fill-opacity=\"1\" /><path clip-path=\"url(#clip700)\" d=\"M104.279 961.873 L120.598 961.873 L120.598 965.808 L98.6539 965.808 L98.6539 961.873 Q101.316 959.118 105.899 954.489 Q110.506 949.836 111.686 948.493 Q113.932 945.97 114.811 944.234 Q115.714 942.475 115.714 940.785 Q115.714 938.03 113.77 936.294 Q111.848 934.558 108.746 934.558 Q106.547 934.558 104.094 935.322 Q101.663 936.086 98.8854 937.637 L98.8854 932.915 Q101.709 931.78 104.163 931.202 Q106.617 930.623 108.654 930.623 Q114.024 930.623 117.219 933.308 Q120.413 935.993 120.413 940.484 Q120.413 942.614 119.603 944.535 Q118.816 946.433 116.709 949.026 Q116.131 949.697 113.029 952.915 Q109.927 956.109 104.279 961.873 Z\" fill=\"#000000\" fill-rule=\"nonzero\" fill-opacity=\"1\" /><path clip-path=\"url(#clip700)\" d=\"M62.9365 662.779 Q59.3254 662.779 57.4967 666.344 Q55.6912 669.885 55.6912 677.015 Q55.6912 684.121 57.4967 687.686 Q59.3254 691.228 62.9365 691.228 Q66.5707 691.228 68.3763 687.686 Q70.205 684.121 70.205 677.015 Q70.205 669.885 68.3763 666.344 Q66.5707 662.779 62.9365 662.779 M62.9365 659.075 Q68.7467 659.075 71.8022 663.682 Q74.8809 668.265 74.8809 677.015 Q74.8809 685.742 71.8022 690.348 Q68.7467 694.931 62.9365 694.931 Q57.1264 694.931 54.0477 690.348 Q50.9921 685.742 50.9921 677.015 Q50.9921 668.265 54.0477 663.682 Q57.1264 659.075 62.9365 659.075 Z\" fill=\"#000000\" fill-rule=\"nonzero\" fill-opacity=\"1\" /><path clip-path=\"url(#clip700)\" d=\"M83.0984 688.381 L87.9827 688.381 L87.9827 694.26 L83.0984 694.26 L83.0984 688.381 Z\" fill=\"#000000\" fill-rule=\"nonzero\" fill-opacity=\"1\" /><path clip-path=\"url(#clip700)\" d=\"M111.015 663.774 L99.2095 682.223 L111.015 682.223 L111.015 663.774 M109.788 659.7 L115.668 659.7 L115.668 682.223 L120.598 682.223 L120.598 686.112 L115.668 686.112 L115.668 694.26 L111.015 694.26 L111.015 686.112 L95.4132 686.112 L95.4132 681.598 L109.788 659.7 Z\" fill=\"#000000\" fill-rule=\"nonzero\" fill-opacity=\"1\" /><path clip-path=\"url(#clip700)\" d=\"M63.2606 391.231 Q59.6495 391.231 57.8208 394.796 Q56.0152 398.337 56.0152 405.467 Q56.0152 412.573 57.8208 416.138 Q59.6495 419.68 63.2606 419.68 Q66.8948 419.68 68.7004 416.138 Q70.5291 412.573 70.5291 405.467 Q70.5291 398.337 68.7004 394.796 Q66.8948 391.231 63.2606 391.231 M63.2606 387.527 Q69.0707 387.527 72.1263 392.134 Q75.205 396.717 75.205 405.467 Q75.205 414.194 72.1263 418.8 Q69.0707 423.384 63.2606 423.384 Q57.4504 423.384 54.3717 418.8 Q51.3162 414.194 51.3162 405.467 Q51.3162 396.717 54.3717 392.134 Q57.4504 387.527 63.2606 387.527 Z\" fill=\"#000000\" fill-rule=\"nonzero\" fill-opacity=\"1\" /><path clip-path=\"url(#clip700)\" d=\"M83.4225 416.833 L88.3067 416.833 L88.3067 422.712 L83.4225 422.712 L83.4225 416.833 Z\" fill=\"#000000\" fill-rule=\"nonzero\" fill-opacity=\"1\" /><path clip-path=\"url(#clip700)\" d=\"M109.071 403.569 Q105.922 403.569 104.071 405.722 Q102.242 407.874 102.242 411.624 Q102.242 415.351 104.071 417.527 Q105.922 419.68 109.071 419.68 Q112.219 419.68 114.047 417.527 Q115.899 415.351 115.899 411.624 Q115.899 407.874 114.047 405.722 Q112.219 403.569 109.071 403.569 M118.353 388.916 L118.353 393.175 Q116.594 392.342 114.788 391.902 Q113.006 391.462 111.246 391.462 Q106.617 391.462 104.163 394.587 Q101.733 397.712 101.385 404.032 Q102.751 402.018 104.811 400.953 Q106.871 399.865 109.348 399.865 Q114.557 399.865 117.566 403.036 Q120.598 406.185 120.598 411.624 Q120.598 416.948 117.45 420.166 Q114.302 423.384 109.071 423.384 Q103.075 423.384 99.9039 418.8 Q96.7326 414.194 96.7326 405.467 Q96.7326 397.273 100.621 392.412 Q104.51 387.527 111.061 387.527 Q112.82 387.527 114.603 387.875 Q116.408 388.222 118.353 388.916 Z\" fill=\"#000000\" fill-rule=\"nonzero\" fill-opacity=\"1\" /><path clip-path=\"url(#clip700)\" d=\"M63.5152 119.683 Q59.9041 119.683 58.0754 123.248 Q56.2699 126.79 56.2699 133.919 Q56.2699 141.026 58.0754 144.59 Q59.9041 148.132 63.5152 148.132 Q67.1494 148.132 68.955 144.59 Q70.7837 141.026 70.7837 133.919 Q70.7837 126.79 68.955 123.248 Q67.1494 119.683 63.5152 119.683 M63.5152 115.979 Q69.3254 115.979 72.3809 120.586 Q75.4596 125.169 75.4596 133.919 Q75.4596 142.646 72.3809 147.252 Q69.3254 151.836 63.5152 151.836 Q57.7051 151.836 54.6264 147.252 Q51.5708 142.646 51.5708 133.919 Q51.5708 125.169 54.6264 120.586 Q57.7051 115.979 63.5152 115.979 Z\" fill=\"#000000\" fill-rule=\"nonzero\" fill-opacity=\"1\" /><path clip-path=\"url(#clip700)\" d=\"M83.6771 145.285 L88.5614 145.285 L88.5614 151.164 L83.6771 151.164 L83.6771 145.285 Z\" fill=\"#000000\" fill-rule=\"nonzero\" fill-opacity=\"1\" /><path clip-path=\"url(#clip700)\" d=\"M108.746 134.752 Q105.413 134.752 103.492 136.535 Q101.594 138.317 101.594 141.442 Q101.594 144.567 103.492 146.35 Q105.413 148.132 108.746 148.132 Q112.08 148.132 114.001 146.35 Q115.922 144.544 115.922 141.442 Q115.922 138.317 114.001 136.535 Q112.103 134.752 108.746 134.752 M104.071 132.762 Q101.061 132.021 99.3715 129.961 Q97.7048 127.901 97.7048 124.938 Q97.7048 120.794 100.645 118.387 Q103.608 115.979 108.746 115.979 Q113.908 115.979 116.848 118.387 Q119.788 120.794 119.788 124.938 Q119.788 127.901 118.098 129.961 Q116.432 132.021 113.445 132.762 Q116.825 133.549 118.7 135.84 Q120.598 138.132 120.598 141.442 Q120.598 146.465 117.52 149.151 Q114.464 151.836 108.746 151.836 Q103.029 151.836 99.9502 149.151 Q96.8947 146.465 96.8947 141.442 Q96.8947 138.132 98.7928 135.84 Q100.691 133.549 104.071 132.762 M102.358 125.377 Q102.358 128.063 104.024 129.567 Q105.714 131.072 108.746 131.072 Q111.756 131.072 113.445 129.567 Q115.158 128.063 115.158 125.377 Q115.158 122.692 113.445 121.188 Q111.756 119.683 108.746 119.683 Q105.714 119.683 104.024 121.188 Q102.358 122.692 102.358 125.377 Z\" fill=\"#000000\" fill-rule=\"nonzero\" fill-opacity=\"1\" /><polyline clip-path=\"url(#clip702)\" style=\"stroke:#009af9; stroke-linecap:round; stroke-linejoin:round; stroke-width:4; stroke-opacity:1; fill:none\" points=\"218.754,87.9763 232.242,96.8159 356.966,178.551 431.92,227.67 495.293,269.2 564.133,314.313 627.598,355.903 695.639,400.493 774.471,452.153 844.528,498.063 905.961,538.322 972.94,582.216 1040.32,626.37 1114.81,675.187 1185.69,721.636 1259.39,769.933 1321.42,810.588 1397.17,860.223 1466.55,905.692 1530.63,947.686 1595.54,990.225 1668.29,1037.9 1734.21,1081.1 1809.69,1130.56 1879.57,1176.36 1948.47,1221.51 2015.36,1265.35 2083.94,1310.28 2159.07,1359.52 2268.21,1431.04 2290.6,1445.72 \"/>\n",
       "<path clip-path=\"url(#clip700)\" d=\"M2007.5 198.898 L2279.55 198.898 L2279.55 95.2176 L2007.5 95.2176  Z\" fill=\"#ffffff\" fill-rule=\"evenodd\" fill-opacity=\"1\"/>\n",
       "<polyline clip-path=\"url(#clip700)\" style=\"stroke:#000000; stroke-linecap:round; stroke-linejoin:round; stroke-width:4; stroke-opacity:1; fill:none\" points=\"2007.5,198.898 2279.55,198.898 2279.55,95.2176 2007.5,95.2176 2007.5,198.898 \"/>\n",
       "<polyline clip-path=\"url(#clip700)\" style=\"stroke:#009af9; stroke-linecap:round; stroke-linejoin:round; stroke-width:4; stroke-opacity:1; fill:none\" points=\"2031.91,147.058 2178.32,147.058 \"/>\n",
       "<path clip-path=\"url(#clip700)\" d=\"M2216.56 166.745 Q2214.76 171.375 2213.04 172.787 Q2211.33 174.199 2208.46 174.199 L2205.06 174.199 L2205.06 170.634 L2207.56 170.634 Q2209.32 170.634 2210.29 169.8 Q2211.26 168.967 2212.44 165.865 L2213.2 163.921 L2202.72 138.412 L2207.23 138.412 L2215.33 158.689 L2223.44 138.412 L2227.95 138.412 L2216.56 166.745 Z\" fill=\"#000000\" fill-rule=\"nonzero\" fill-opacity=\"1\" /><path clip-path=\"url(#clip700)\" d=\"M2235.24 160.402 L2242.88 160.402 L2242.88 134.037 L2234.57 135.703 L2234.57 131.444 L2242.83 129.778 L2247.51 129.778 L2247.51 160.402 L2255.15 160.402 L2255.15 164.338 L2235.24 164.338 L2235.24 160.402 Z\" fill=\"#000000\" fill-rule=\"nonzero\" fill-opacity=\"1\" /></svg>\n"
      ]
     },
     "execution_count": 133,
     "metadata": {},
     "output_type": "execute_result"
    }
   ],
   "source": [
    "using Plots\n",
    "plot(sol_treat[2][a], 0,1)"
   ]
  },
  {
   "cell_type": "code",
   "execution_count": 141,
   "id": "5d533802",
   "metadata": {
    "scrolled": true
   },
   "outputs": [
    {
     "name": "stderr",
     "output_type": "stream",
     "text": [
      "\u001b[36m\u001b[1m[ \u001b[22m\u001b[39m\u001b[36m\u001b[1mInfo: \u001b[22m\u001b[39mComputing IO-equations\n",
      "\u001b[36m\u001b[1m┌ \u001b[22m\u001b[39m\u001b[36m\u001b[1mInfo: \u001b[22m\u001b[39mComputed in 0.0198463 seconds\n",
      "\u001b[36m\u001b[1m│ \u001b[22m\u001b[39m  :ioeq_time = :ioeq_time\n",
      "\u001b[36m\u001b[1m└ \u001b[22m\u001b[39m  ioeq_time = 0.0198463\n",
      "\u001b[36m\u001b[1m[ \u001b[22m\u001b[39m\u001b[36m\u001b[1mInfo: \u001b[22m\u001b[39mComputing Wronskians\n",
      "\u001b[36m\u001b[1m┌ \u001b[22m\u001b[39m\u001b[36m\u001b[1mInfo: \u001b[22m\u001b[39mComputed in 0.0028491 seconds\n",
      "\u001b[36m\u001b[1m│ \u001b[22m\u001b[39m  :wrnsk_time = :wrnsk_time\n",
      "\u001b[36m\u001b[1m└ \u001b[22m\u001b[39m  wrnsk_time = 0.0028491\n",
      "\u001b[36m\u001b[1m[ \u001b[22m\u001b[39m\u001b[36m\u001b[1mInfo: \u001b[22m\u001b[39mDimensions of the Wronskians [4, 5]\n",
      "\u001b[36m\u001b[1m┌ \u001b[22m\u001b[39m\u001b[36m\u001b[1mInfo: \u001b[22m\u001b[39mRanks of the Wronskians computed in 2.51e-5 seconds\n",
      "\u001b[36m\u001b[1m│ \u001b[22m\u001b[39m  :rank_time = :rank_time\n",
      "\u001b[36m\u001b[1m└ \u001b[22m\u001b[39m  rank_times = 2.51e-5\n",
      "\u001b[36m\u001b[1m[ \u001b[22m\u001b[39m\u001b[36m\u001b[1mInfo: \u001b[22m\u001b[39mSimplifying identifiable functions\n",
      "\u001b[36m\u001b[1m┌ \u001b[22m\u001b[39m\u001b[36m\u001b[1mInfo: \u001b[22m\u001b[39mComputing normal forms (probabilistic)\n",
      "\u001b[36m\u001b[1m│ \u001b[22m\u001b[39mVariables (7 in total): Nemo.QQMPolyRingElem[k01, k31, k21, k32, k12, k23, k03]\n",
      "\u001b[36m\u001b[1m│ \u001b[22m\u001b[39mUp to degree: 2\n",
      "\u001b[36m\u001b[1m└ \u001b[22m\u001b[39mModulo: Finite field of characteristic 1073741827\n",
      "\u001b[36m\u001b[1m[ \u001b[22m\u001b[39m\u001b[36m\u001b[1mInfo: \u001b[22m\u001b[39mUsed specialization points: 13\n"
     ]
    },
    {
     "name": "stdout",
     "output_type": "stream",
     "text": [
      "[0.7291197308204026, 0.11490695503671267, 0.07332722784870027, 0.06899843164021469, 0.960149793230096, 0.5237182156250012, 0.2730815550931974]\n"
     ]
    },
    {
     "name": "stderr",
     "output_type": "stream",
     "text": [
      "\u001b[36m\u001b[1m[ \u001b[22m\u001b[39m\u001b[36m\u001b[1mInfo: \u001b[22m\u001b[39mComputing 8 Groebner bases for block orderings. Simplification code is 1\n",
      "\u001b[36m\u001b[1m┌ \u001b[22m\u001b[39m\u001b[36m\u001b[1mInfo: \u001b[22m\u001b[39mFinal cleaning and simplification of generators. \n",
      "\u001b[36m\u001b[1m└ \u001b[22m\u001b[39mOut of 76 fractions 30 are syntactically unique.\n",
      "\u001b[36m\u001b[1m[ \u001b[22m\u001b[39m\u001b[36m\u001b[1mInfo: \u001b[22m\u001b[39mChecking inclusion with probability 0.995\n",
      "\u001b[36m\u001b[1m[ \u001b[22m\u001b[39m\u001b[36m\u001b[1mInfo: \u001b[22m\u001b[39mInclusion checked in 0.0069906 seconds. Result: true\n",
      "\u001b[36m\u001b[1m[ \u001b[22m\u001b[39m\u001b[36m\u001b[1mInfo: \u001b[22m\u001b[39mOut of 7 initial generators there are 7 indepdendent\n",
      "\u001b[36m\u001b[1m[ \u001b[22m\u001b[39m\u001b[36m\u001b[1mInfo: \u001b[22m\u001b[39mThe ranking of the new set of generators is 373398\n",
      "\u001b[36m\u001b[1m[ \u001b[22m\u001b[39m\u001b[36m\u001b[1mInfo: \u001b[22m\u001b[39mThe search for identifiable functions concluded in 1.2864465 seconds\n"
     ]
    },
    {
     "name": "stdout",
     "output_type": "stream",
     "text": [
      "Sym[k21 - 0.0689984316402147, k31 - 0.523718215625001, k03*k21 + k21*k23 + k23*k31 - 0.577025165997819, k12*k31 + k21*k32 + k31*k32 - 0.200262788690461, k01 + k03 + k12 + k23 + k32 - 2.15058526202911, k01*k03 + k01*k12 + k01*k23 + k01*k32 + k03*k12 + k03*k31 + k03*k32 + k12*k23 - 1.20680733204299, -0.266962519979812*k01*k21*k31*k32 - 0.266962519979812*k01*k31^2*k32 + 0.0293922346877531*k03*k21*k31 + 0.266962519979812*k12*k21*k31*k32 - 0.0293922346877531*k12*k21*k31 + 0.266962519979812*k12*k31^2*k32 - 0.0293922346877531*k21^2*k31 + 0.266962519979812*k21^2*k32^2 - 0.0293922346877531*k21^2*k32 + 0.0293922346877531*k21*k23*k31 - 0.0293922346877531*k21*k31^2 + 0.533925039959624*k21*k31*k32^2 - 0.0293922346877531*k21*k31*k32 + 0.0293922346877531*k23*k31^2 + 0.266962519979812*k31^2*k32^2]\n",
      "Sym[k01, k03, k12, k21, k23, k31, k32]\n"
     ]
    },
    {
     "data": {
      "text/plain": [
       "3-element Vector{Dict{Any, Any}}:\n",
       " Dict(k12 => 0.603539345080458, k31 => 0.523718215625001, k03 => 0.985863235899987, k32 => -0.195408313076675 + 0.e-22*I, k01 => -0.102170357116438, k23 => 0.858761351241778 - 1.35525271560688e-20*I, k21 => 0.0689984316402147)\n",
       " Dict(k12 => 0.0733272278486918, k31 => 0.523718215625001, k03 => 0.114906955036723, k32 => 0.273081555093206 - 0.e-23*I, k01 => 0.729119730820394 + 2.71050543121376e-20*I, k23 => 0.960149793230096, k21 => 0.0689984316402147)\n",
       " Dict(k12 => 0.18702694539969 + 1.27054942088145e-21*I, k31 => 0.523718215625001, k03 => -0.128458709008008, k32 => 0.172617676665592 + 0.e-23*I, k01 => 0.930919241059938 - 2.71050543121376e-20*I, k23 => 0.988480107911897 - 2.71050543121376e-20*I, k21 => 0.0689984316402147)"
      ]
     },
     "execution_count": 141,
     "metadata": {},
     "output_type": "execute_result"
    }
   ],
   "source": [
    "sol_3 = find_numerical_transformations(three_compartments, [k01, k03, k12, k21, k23, k31, k32])"
   ]
  },
  {
   "cell_type": "code",
   "execution_count": 142,
   "id": "1c2cf996",
   "metadata": {
    "scrolled": true
   },
   "outputs": [
    {
     "data": {
      "text/plain": [
       "Dict{Any, Any} with 7 entries:\n",
       "  k12 => 0.603539345080458\n",
       "  k31 => 0.523718215625001\n",
       "  k03 => 0.985863235899987\n",
       "  k32 => -0.195408313076675 + 0.e-22*I\n",
       "  k01 => -0.102170357116438\n",
       "  k23 => 0.858761351241778 - 1.35525271560688e-20*I\n",
       "  k21 => 0.0689984316402147"
      ]
     },
     "execution_count": 142,
     "metadata": {},
     "output_type": "execute_result"
    }
   ],
   "source": [
    "sol_3[1]"
   ]
  },
  {
   "cell_type": "code",
   "execution_count": 154,
   "id": "ed277718",
   "metadata": {},
   "outputs": [
    {
     "data": {
      "text/plain": [
       "plot_numerical_transformation (generic function with 5 methods)"
      ]
     },
     "execution_count": 154,
     "metadata": {},
     "output_type": "execute_result"
    }
   ],
   "source": [
    "function plot_numerical_transformation(model, names, k = 3, index_variable = 1, case = 1, with_states = false)\n",
    "    id_funct = find_identifiable_functions(model , with_states = with_states)\n",
    "    #for var in names\n",
    "     #   @vars eval(names_map[1])\n",
    "    #end\n",
    "    #@vars u\n",
    "    values = rand(Float64, length(names))*k\n",
    "    println(values)\n",
    "    data_x = []\n",
    "    data_y = []\n",
    "    for i in 1:5\n",
    "        var_x = rand(Float64)*k\n",
    "        values[index_variable] = var_x\n",
    "        system = create_system_of_equations_num(id_funct,names, values) \n",
    "        var_y = SymPy.solve(system)[case][k01]\n",
    "        push!(data_x, var_x)\n",
    "        push!(data_y, var_y)\n",
    "    end\n",
    "    plot(data_x, data_y, seriestype=:scatter)\n",
    "end"
   ]
  },
  {
   "cell_type": "code",
   "execution_count": null,
   "id": "1a8285a6",
   "metadata": {},
   "outputs": [
    {
     "name": "stderr",
     "output_type": "stream",
     "text": [
      "\u001b[33m\u001b[1m┌ \u001b[22m\u001b[39m\u001b[33m\u001b[1mWarning: \u001b[22m\u001b[39mProgressMeter by default refresh meters with additional information in IJulia via `IJulia.clear_output`, which clears all outputs in the cell. \n",
      "\u001b[33m\u001b[1m│ \u001b[22m\u001b[39m - To prevent this behaviour, do `ProgressMeter.ijulia_behavior(:append)`. \n",
      "\u001b[33m\u001b[1m│ \u001b[22m\u001b[39m - To disable this warning message, do `ProgressMeter.ijulia_behavior(:clear)`.\n",
      "\u001b[33m\u001b[1m└ \u001b[22m\u001b[39m\u001b[90m@ ProgressMeter C:\\Users\\lgand\\.julia\\packages\\ProgressMeter\\vnCY0\\src\\ProgressMeter.jl:626\u001b[39m\n",
      "\u001b[36m✓ # Computing specializations..    Time: 0:00:00\u001b[39m\n",
      "\u001b[36m\u001b[1m┌ \u001b[22m\u001b[39m\u001b[36m\u001b[1mInfo: \u001b[22m\u001b[39mComputing normal forms (probabilistic)\n",
      "\u001b[36m\u001b[1m│ \u001b[22m\u001b[39mVariables (7 in total): Nemo.QQMPolyRingElem[k01, k31, k21, k32, k12, k23, k03]\n",
      "\u001b[36m\u001b[1m│ \u001b[22m\u001b[39mUp to degree: 2\n",
      "\u001b[36m\u001b[1m└ \u001b[22m\u001b[39mModulo: Finite field of characteristic 1073741827\n",
      "\u001b[36m\u001b[1m[ \u001b[22m\u001b[39m\u001b[36m\u001b[1mInfo: \u001b[22m\u001b[39mUsed specialization points: 13\n",
      "\u001b[36m\u001b[1m[ \u001b[22m\u001b[39m\u001b[36m\u001b[1mInfo: \u001b[22m\u001b[39mComputing 8 Groebner bases for block orderings. Simplification code is 1\n"
     ]
    }
   ],
   "source": [
    "plot_numerical_transformation(three_compartments, [k01, k03, k12, k21, k23, k31, k32])"
   ]
  },
  {
   "cell_type": "markdown",
   "id": "1dc8748d",
   "metadata": {},
   "source": [
    "# General function"
   ]
  },
  {
   "cell_type": "code",
   "execution_count": 58,
   "id": "c2de72eb",
   "metadata": {},
   "outputs": [
    {
     "data": {
      "text/plain": [
       "find_transformations (generic function with 2 methods)"
      ]
     },
     "execution_count": 58,
     "metadata": {},
     "output_type": "execute_result"
    }
   ],
   "source": [
    "function find_transformations(model, names_map, with_states = false)\n",
    "    id_funct = find_identifiable_functions(model , with_states = with_states)\n",
    "    for var in names_map\n",
    "        @vars names_map[1], names_map[2]\n",
    "    end\n",
    "    @vars u\n",
    "    system = create_system_of_equations(id_funct, names_map) \n",
    "    unknown = [var[2] for var in names_map]\n",
    "    SymPy.solve(system, unknown)\n",
    "end"
   ]
  },
  {
   "cell_type": "code",
   "execution_count": 15,
   "id": "bde85a16",
   "metadata": {
    "scrolled": true
   },
   "outputs": [
    {
     "name": "stderr",
     "output_type": "stream",
     "text": [
      "\u001b[36m\u001b[1m[ \u001b[22m\u001b[39m\u001b[36m\u001b[1mInfo: \u001b[22m\u001b[39mSummary of the model:\n",
      "\u001b[36m\u001b[1m[ \u001b[22m\u001b[39m\u001b[36m\u001b[1mInfo: \u001b[22m\u001b[39mState variables: S, Inf, Tr, N\n",
      "\u001b[36m\u001b[1m[ \u001b[22m\u001b[39m\u001b[36m\u001b[1mInfo: \u001b[22m\u001b[39mParameters: b, nu, d, g, a\n",
      "\u001b[36m\u001b[1m[ \u001b[22m\u001b[39m\u001b[36m\u001b[1mInfo: \u001b[22m\u001b[39mInputs: \n",
      "\u001b[36m\u001b[1m[ \u001b[22m\u001b[39m\u001b[36m\u001b[1mInfo: \u001b[22m\u001b[39mOutputs: y1, y2\n"
     ]
    },
    {
     "data": {
      "text/plain": [
       "S'(t) = (-b*S(t)*Inf(t) - b*S(t)*d*Tr(t))//N(t)\n",
       "Inf'(t) = (b*S(t)*Inf(t) + b*S(t)*d*Tr(t) - Inf(t)*N(t)*g - Inf(t)*N(t)*a)//N(t)\n",
       "Tr'(t) = -nu*Tr(t) + Inf(t)*g\n",
       "N'(t) = 0\n",
       "y1(t) = Tr(t)\n",
       "y2(t) = N(t)\n"
      ]
     },
     "execution_count": 15,
     "metadata": {},
     "output_type": "execute_result"
    }
   ],
   "source": [
    "Treatment = @ODEmodel(\n",
    "\tS'(t) = (-b*Inf(t)*S(t) - b*S(t)*d*Tr(t))//N(t),\n",
    "\tInf'(t) = (b*Inf(t)*S(t) + b*S(t)*d*Tr(t) - Inf(t)*N(t)*g - Inf(t)*N(t)*a)//N(t),\n",
    "\tTr'(t) = Inf(t)*g - nu*Tr(t),\n",
    "\tN'(t) = 0,\n",
    "\ty1(t) = Tr(t),\n",
    "\ty2(t) = N(t)\n",
    ")"
   ]
  },
  {
   "cell_type": "code",
   "execution_count": 17,
   "id": "98bffc6e",
   "metadata": {},
   "outputs": [
    {
     "data": {
      "text/plain": [
       "9-element Vector{Tuple{String, String}}:\n",
       " (\"N\", \"N2\")\n",
       " (\"S\", \"S2\")\n",
       " (\"Tr\", \"Tr2\")\n",
       " (\"Inf\", \"Inf2\")\n",
       " (\"a\", \"a2\")\n",
       " (\"b\", \"b2\")\n",
       " (\"g\", \"g2\")\n",
       " (\"d\", \"d2\")\n",
       " (\"nu\", \"nu2\")"
      ]
     },
     "execution_count": 17,
     "metadata": {},
     "output_type": "execute_result"
    }
   ],
   "source": [
    "names_map = [(\"N\", \"N2\"), (\"S\", \"S2\"), (\"Tr\", \"Tr2\"), (\"Inf\", \"Inf2\"), (\"a\", \"a2\"), (\"b\",\"b2\"), (\"g\", \"g2\"), (\"d\", \"d2\"), (\"nu\", \"nu2\")]"
   ]
  },
  {
   "cell_type": "code",
   "execution_count": 60,
   "id": "05c37719",
   "metadata": {
    "scrolled": true
   },
   "outputs": [
    {
     "name": "stderr",
     "output_type": "stream",
     "text": [
      "\u001b[36m\u001b[1m[ \u001b[22m\u001b[39m\u001b[36m\u001b[1mInfo: \u001b[22m\u001b[39mComputing IO-equations\n",
      "\u001b[36m\u001b[1m┌ \u001b[22m\u001b[39m\u001b[36m\u001b[1mInfo: \u001b[22m\u001b[39mComputed in 0.0409943 seconds\n",
      "\u001b[36m\u001b[1m│ \u001b[22m\u001b[39m  :ioeq_time = :ioeq_time\n",
      "\u001b[36m\u001b[1m└ \u001b[22m\u001b[39m  ioeq_time = 0.0409943\n",
      "\u001b[36m\u001b[1m[ \u001b[22m\u001b[39m\u001b[36m\u001b[1mInfo: \u001b[22m\u001b[39mComputing Wronskians\n",
      "\u001b[36m\u001b[1m┌ \u001b[22m\u001b[39m\u001b[36m\u001b[1mInfo: \u001b[22m\u001b[39mComputed in 0.0113607 seconds\n",
      "\u001b[36m\u001b[1m│ \u001b[22m\u001b[39m  :wrnsk_time = :wrnsk_time\n",
      "\u001b[36m\u001b[1m└ \u001b[22m\u001b[39m  wrnsk_time = 0.0113607\n",
      "\u001b[36m\u001b[1m[ \u001b[22m\u001b[39m\u001b[36m\u001b[1mInfo: \u001b[22m\u001b[39mDimensions of the Wronskians [10, 1]\n",
      "\u001b[36m\u001b[1m┌ \u001b[22m\u001b[39m\u001b[36m\u001b[1mInfo: \u001b[22m\u001b[39mRanks of the Wronskians computed in 4.46e-5 seconds\n",
      "\u001b[36m\u001b[1m│ \u001b[22m\u001b[39m  :rank_time = :rank_time\n",
      "\u001b[36m\u001b[1m└ \u001b[22m\u001b[39m  rank_times = 4.46e-5\n",
      "\u001b[36m\u001b[1m[ \u001b[22m\u001b[39m\u001b[36m\u001b[1mInfo: \u001b[22m\u001b[39mSimplifying identifiable functions\n",
      "\u001b[36m\u001b[1m┌ \u001b[22m\u001b[39m\u001b[36m\u001b[1mInfo: \u001b[22m\u001b[39mComputing normal forms (probabilistic)\n",
      "\u001b[36m\u001b[1m│ \u001b[22m\u001b[39mVariables (5 in total): Nemo.QQMPolyRingElem[b, nu, d, g, a]\n",
      "\u001b[36m\u001b[1m│ \u001b[22m\u001b[39mUp to degree: 2\n",
      "\u001b[36m\u001b[1m└ \u001b[22m\u001b[39mModulo: Finite field of characteristic 1073741827\n",
      "\u001b[36m\u001b[1m[ \u001b[22m\u001b[39m\u001b[36m\u001b[1mInfo: \u001b[22m\u001b[39mUsed specialization points: 5\n",
      "\u001b[36m\u001b[1m[ \u001b[22m\u001b[39m\u001b[36m\u001b[1mInfo: \u001b[22m\u001b[39mComputing 6 Groebner bases for block orderings. Simplification code is 1\n"
     ]
    },
    {
     "name": "stdout",
     "output_type": "stream",
     "text": [
      "nu + d*g\n",
      "1\n",
      "nu*g + nu*a\n",
      "1\n",
      "nu + g + a\n",
      "1\n",
      "g\n",
      "b\n"
     ]
    },
    {
     "name": "stderr",
     "output_type": "stream",
     "text": [
      "\u001b[36m\u001b[1m┌ \u001b[22m\u001b[39m\u001b[36m\u001b[1mInfo: \u001b[22m\u001b[39mFinal cleaning and simplification of generators. \n",
      "\u001b[36m\u001b[1m└ \u001b[22m\u001b[39mOut of 48 fractions 10 are syntactically unique.\n",
      "\u001b[36m\u001b[1m[ \u001b[22m\u001b[39m\u001b[36m\u001b[1mInfo: \u001b[22m\u001b[39mChecking inclusion with probability 0.995\n",
      "\u001b[36m\u001b[1m[ \u001b[22m\u001b[39m\u001b[36m\u001b[1mInfo: \u001b[22m\u001b[39mInclusion checked in 0.0151426 seconds. Result: true\n",
      "\u001b[36m\u001b[1m[ \u001b[22m\u001b[39m\u001b[36m\u001b[1mInfo: \u001b[22m\u001b[39mOut of 12 initial generators there are 4 indepdendent\n",
      "\u001b[36m\u001b[1m[ \u001b[22m\u001b[39m\u001b[36m\u001b[1mInfo: \u001b[22m\u001b[39mThe ranking of the new set of generators is 62\n",
      "\u001b[36m\u001b[1m[ \u001b[22m\u001b[39m\u001b[36m\u001b[1mInfo: \u001b[22m\u001b[39mThe search for identifiable functions concluded in 0.7165483 seconds\n"
     ]
    },
    {
     "data": {
      "text/plain": [
       "2-element Vector{NTuple{9, Sym}}:\n",
       " (N2, S2, Tr2, Inf2, -g2 + nu, b*g2/g, g2, -(a - d*g + g - nu)/g2, a + g)\n",
       " (N2, S2, Tr2, Inf2, a + g - g2, b*g2/g, g2, d*g/g2, nu)"
      ]
     },
     "execution_count": 60,
     "metadata": {},
     "output_type": "execute_result"
    }
   ],
   "source": [
    "#to fix with_states = true\n",
    "find_transformations(Treatment, names_map)"
   ]
  }
 ],
 "metadata": {
  "kernelspec": {
   "display_name": "Julia 1.9.3",
   "language": "julia",
   "name": "julia-1.9"
  },
  "language_info": {
   "file_extension": ".jl",
   "mimetype": "application/julia",
   "name": "julia",
   "version": "1.9.3"
  }
 },
 "nbformat": 4,
 "nbformat_minor": 5
}
