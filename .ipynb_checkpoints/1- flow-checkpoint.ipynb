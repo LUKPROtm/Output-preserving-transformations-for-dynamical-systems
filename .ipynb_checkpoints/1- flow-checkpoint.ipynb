{
 "cells": [
  {
   "cell_type": "markdown",
   "id": "99ab58e9",
   "metadata": {},
   "source": [
    "# SI 1, Flow and Lotka-Volterra models"
   ]
  },
  {
   "cell_type": "markdown",
   "id": "c10d8c65",
   "metadata": {},
   "source": [
    "## Flow"
   ]
  },
  {
   "cell_type": "markdown",
   "id": "2b36414b",
   "metadata": {},
   "source": [
    "### Assess Identifiability"
   ]
  },
  {
   "cell_type": "code",
   "execution_count": 1,
   "id": "60bcccf5",
   "metadata": {},
   "outputs": [],
   "source": [
    "using StructuralIdentifiability\n",
    "using DifferentialEquations"
   ]
  },
  {
   "cell_type": "code",
   "execution_count": null,
   "id": "eac9bba4",
   "metadata": {
    "scrolled": true
   },
   "outputs": [
    {
     "name": "stderr",
     "output_type": "stream",
     "text": [
      "\u001b[36m\u001b[1m[ \u001b[22m\u001b[39m\u001b[36m\u001b[1mInfo: \u001b[22m\u001b[39mSummary of the model:\n",
      "\u001b[36m\u001b[1m[ \u001b[22m\u001b[39m\u001b[36m\u001b[1mInfo: \u001b[22m\u001b[39mState variables: x1, x2\n",
      "\u001b[36m\u001b[1m[ \u001b[22m\u001b[39m\u001b[36m\u001b[1mInfo: \u001b[22m\u001b[39mParameters: a, b\n",
      "\u001b[36m\u001b[1m[ \u001b[22m\u001b[39m\u001b[36m\u001b[1mInfo: \u001b[22m\u001b[39mInputs: \n",
      "\u001b[36m\u001b[1m[ \u001b[22m\u001b[39m\u001b[36m\u001b[1mInfo: \u001b[22m\u001b[39mOutputs: y\n"
     ]
    }
   ],
   "source": [
    "ode = @ODEmodel(\n",
    "    x1'(t) = -a * x1(t) + b * x2(t),\n",
    "    x2'(t) = -b * x2(t),\n",
    "    y(t) = x1(t)\n",
    ")"
   ]
  },
  {
   "cell_type": "code",
   "execution_count": null,
   "id": "f7923826",
   "metadata": {},
   "outputs": [],
   "source": [
    "assess_identifiability(ode)"
   ]
  },
  {
   "cell_type": "markdown",
   "id": "51895217",
   "metadata": {},
   "source": [
    "### Simulations"
   ]
  },
  {
   "cell_type": "markdown",
   "id": "698529f7",
   "metadata": {},
   "source": [
    "Now, I check if the transformation $(x* , u* , b, a)$ does not alter the output (x)\n",
    "\n",
    "where $$ u* = \\frac{b(x*+y*)}{a} - x*\n",
    "$$"
   ]
  },
  {
   "cell_type": "code",
   "execution_count": null,
   "id": "607063ab",
   "metadata": {},
   "outputs": [],
   "source": [
    "using Plots"
   ]
  },
  {
   "cell_type": "code",
   "execution_count": null,
   "id": "e4cfaa63",
   "metadata": {},
   "outputs": [],
   "source": [
    "gr()"
   ]
  },
  {
   "cell_type": "code",
   "execution_count": null,
   "id": "04ea957f",
   "metadata": {},
   "outputs": [],
   "source": [
    "function flow_ode(du, u, p, t)\n",
    "    a = p[1]\n",
    "    b = p[2]\n",
    "    du[1] = - a * u[1] + b * u[2]\n",
    "    du[2] = -b * u[2]\n",
    "end"
   ]
  },
  {
   "cell_type": "code",
   "execution_count": null,
   "id": "869f4c64",
   "metadata": {},
   "outputs": [],
   "source": [
    "# solve the first setting ( a = 1, b = 2, x0 = 1.0, y0 = 2.0 )\n",
    "u0 = [1.0, 2.0]  # Initial condition \n",
    "p = [1, 2]   # Parameter \n",
    "tspan = (0.0, 6.0) \n",
    "prob1 = ODEProblem(flow_ode, u0, tspan, p)\n",
    "sol1 = solve(prob1, Tsit5())\n",
    "t_values = 0.0:0.001:6.0\n",
    "x1 = [sol1(t)[1] for t in t_values]\n",
    "y1 = [sol1(t)[2] for t in t_values]"
   ]
  },
  {
   "cell_type": "code",
   "execution_count": null,
   "id": "38d46cc7",
   "metadata": {},
   "outputs": [],
   "source": [
    "# solve the second setting ( a = 2, b = 1, x0 = 1.0, y0 = 5.0 )\n",
    "u0 = [1.0, 5.0]  # Initial condition \n",
    "p = [2, 1]   # Parameter \n",
    "tspan = (0.0, 6.0) \n",
    "prob2 = ODEProblem(flow_ode, u0, tspan, p)\n",
    "sol2 = solve(prob2, Tsit5())\n",
    "t_values = 0.0:0.001:6.0\n",
    "x2 = [sol2(t)[1] for t in t_values]\n",
    "y2 = [sol2(t)[2] for t in t_values]"
   ]
  },
  {
   "cell_type": "code",
   "execution_count": null,
   "id": "1acad21a",
   "metadata": {},
   "outputs": [],
   "source": [
    "px1 = plot(t_values, x1, xlabel=\"t\", ylabel=\"x\", color = \"blue\")\n",
    "plot!(t_values, x2, xlabel=\"t\", ylabel=\"x\", color = \"red\")\n",
    "py1 = plot(t_values, y1, xlabel=\"t\", ylabel=\"y\", color = \"blue\")\n",
    "plot!(t_values, y2, xlabel=\"t\", ylabel=\"y\", color = \"red\")\n",
    "plot(px1, py1, layout = (1,2), legend = false, size=(900, 500))"
   ]
  },
  {
   "cell_type": "markdown",
   "id": "26cd1c98",
   "metadata": {},
   "source": [
    "Let's do another simulation with others parameters"
   ]
  },
  {
   "cell_type": "code",
   "execution_count": null,
   "id": "f019fd75",
   "metadata": {},
   "outputs": [],
   "source": [
    "# solve the first setting ( a = 5, b = 8, x0 = 0.0,  y0 = 7.0 )\n",
    "u0 = [0.0, 7.0]  # Initial condition \n",
    "p = [5, 8]   # Parameter \n",
    "tspan = (0.0, 6.0) \n",
    "prob1 = ODEProblem(flow_ode, u0, tspan, p)\n",
    "sol1 = solve(prob1, Tsit5())\n",
    "t_values = 0.0:0.001:6.0\n",
    "x1 = [sol1(t)[1] for t in t_values]\n",
    "y1 = [sol1(t)[2] for t in t_values]\n",
    "1"
   ]
  },
  {
   "cell_type": "code",
   "execution_count": null,
   "id": "3b0b15e1",
   "metadata": {},
   "outputs": [],
   "source": [
    "# solve the second setting ( a = 8, b = 5, x0 = 0.0,  y0 = (8/5)*7  )\n",
    "u0 = [0.0, (8*7.0/5)]  # Initial condition \n",
    "p = [8, 5]   # Parameter \n",
    "tspan = (0.0, 6.0) \n",
    "prob2 = ODEProblem(flow_ode, u0, tspan, p)\n",
    "sol2 = solve(prob2, Tsit5())\n",
    "t_values = 0.0:0.001:6.0\n",
    "x2 = [sol2(t)[1] for t in t_values]\n",
    "y2 = [sol2(t)[2] for t in t_values]\n",
    "1"
   ]
  },
  {
   "cell_type": "code",
   "execution_count": null,
   "id": "35af5edd",
   "metadata": {},
   "outputs": [],
   "source": [
    "px1 = plot(t_values, x1, xlabel=\"t\", ylabel=\"x\", color = \"blue\")\n",
    "plot!(t_values, x2, xlabel=\"t\", ylabel=\"x\", color = \"red\")\n",
    "py1 = plot(t_values, y1, xlabel=\"t\", ylabel=\"y\", color = \"blue\")\n",
    "plot!(t_values, y2, xlabel=\"t\", ylabel=\"y\", color = \"red\")\n",
    "plot(px1, py1, layout = (1,2), legend = false, size=(900, 500))"
   ]
  },
  {
   "cell_type": "code",
   "execution_count": null,
   "id": "b1c6ac9d",
   "metadata": {},
   "outputs": [],
   "source": [
    "and indeed also here they are the same"
   ]
  },
  {
   "cell_type": "markdown",
   "id": "7a879e45",
   "metadata": {},
   "source": [
    "## Lotka-Volterra"
   ]
  },
  {
   "cell_type": "markdown",
   "id": "6467e15c",
   "metadata": {},
   "source": [
    "### Assess Identifiability"
   ]
  },
  {
   "cell_type": "code",
   "execution_count": null,
   "id": "f04c89a3",
   "metadata": {},
   "outputs": [],
   "source": [
    "ode_LV = @ODEmodel(\n",
    "    x1'(t) = a * x1(t) - b * x1(t) * x2(t),\n",
    "    x2'(t) = -c * x2(t) + d * x1(t) * x2(t),\n",
    "    y(t) = x1(t)\n",
    ")"
   ]
  },
  {
   "cell_type": "code",
   "execution_count": null,
   "id": "35ac8471",
   "metadata": {},
   "outputs": [],
   "source": [
    "assess_identifiability(ode_LV)"
   ]
  },
  {
   "cell_type": "markdown",
   "id": "286bda73",
   "metadata": {},
   "source": [
    "as discussed today"
   ]
  },
  {
   "cell_type": "code",
   "execution_count": null,
   "id": "f77a1449",
   "metadata": {},
   "outputs": [],
   "source": []
  },
  {
   "cell_type": "code",
   "execution_count": null,
   "id": "9aabf6fc",
   "metadata": {},
   "outputs": [],
   "source": []
  }
 ],
 "metadata": {
  "kernelspec": {
   "display_name": "Julia 1.9.3",
   "language": "julia",
   "name": "julia-1.9"
  },
  "language_info": {
   "file_extension": ".jl",
   "mimetype": "application/julia",
   "name": "julia",
   "version": "1.9.3"
  }
 },
 "nbformat": 4,
 "nbformat_minor": 5
}
