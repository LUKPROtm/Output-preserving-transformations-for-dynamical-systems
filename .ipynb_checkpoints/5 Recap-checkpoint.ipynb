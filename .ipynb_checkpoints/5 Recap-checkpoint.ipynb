{
 "cells": [
  {
   "cell_type": "code",
   "execution_count": 1,
   "id": "0e23c3f2",
   "metadata": {},
   "outputs": [],
   "source": [
    "using StructuralIdentifiability"
   ]
  },
  {
   "cell_type": "code",
   "execution_count": 2,
   "id": "70a4b01e",
   "metadata": {},
   "outputs": [],
   "source": [
    "using HomotopyContinuation"
   ]
  },
  {
   "cell_type": "code",
   "execution_count": 3,
   "id": "dc0bb8db",
   "metadata": {},
   "outputs": [],
   "source": [
    "using AbstractAlgebra"
   ]
  },
  {
   "cell_type": "code",
   "execution_count": 4,
   "id": "dab9fa4e",
   "metadata": {},
   "outputs": [],
   "source": [
    "using SymPy"
   ]
  },
  {
   "cell_type": "code",
   "execution_count": 5,
   "id": "53d6b661",
   "metadata": {
    "scrolled": true
   },
   "outputs": [
    {
     "data": {
      "text/plain": [
       "nemo2hc (generic function with 1 method)"
      ]
     },
     "execution_count": 5,
     "metadata": {},
     "output_type": "execute_result"
    }
   ],
   "source": [
    "include(\"functions.jl\")"
   ]
  },
  {
   "cell_type": "markdown",
   "id": "5f199a36",
   "metadata": {},
   "source": [
    "# Test of general symbolic function"
   ]
  },
  {
   "cell_type": "markdown",
   "id": "b59c1eb6",
   "metadata": {},
   "source": [
    "## DISCLAIMER: do not use S, gamma and beta as variable names and one between Q and L"
   ]
  },
  {
   "cell_type": "code",
   "execution_count": null,
   "id": "2cfead59",
   "metadata": {},
   "outputs": [],
   "source": []
  },
  {
   "cell_type": "markdown",
   "id": "17eb3c2f",
   "metadata": {},
   "source": [
    "## SLIQR"
   ]
  },
  {
   "cell_type": "code",
   "execution_count": null,
   "id": "2843131b",
   "metadata": {},
   "outputs": [],
   "source": []
  },
  {
   "cell_type": "code",
   "execution_count": 51,
   "id": "b42d9933",
   "metadata": {
    "scrolled": true
   },
   "outputs": [
    {
     "name": "stderr",
     "output_type": "stream",
     "text": [
      "\u001b[36m\u001b[1m[ \u001b[22m\u001b[39m\u001b[36m\u001b[1mInfo: \u001b[22m\u001b[39mSummary of the model:\n",
      "\u001b[36m\u001b[1m[ \u001b[22m\u001b[39m\u001b[36m\u001b[1mInfo: \u001b[22m\u001b[39mState variables: Sh, Lh, Inf, Qh\n",
      "\u001b[36m\u001b[1m[ \u001b[22m\u001b[39m\u001b[36m\u001b[1mInfo: \u001b[22m\u001b[39mParameters: b, e, Ninv, s, g, a\n",
      "\u001b[36m\u001b[1m[ \u001b[22m\u001b[39m\u001b[36m\u001b[1mInfo: \u001b[22m\u001b[39mInputs: u\n",
      "\u001b[36m\u001b[1m[ \u001b[22m\u001b[39m\u001b[36m\u001b[1mInfo: \u001b[22m\u001b[39mOutputs: y\n"
     ]
    },
    {
     "data": {
      "text/plain": [
       "Sh'(t) = -b*Sh(t)*Ninv*Inf(t) - Sh(t)*Ninv*u(t)\n",
       "Lh'(t) = b*Sh(t)*Ninv*Inf(t) - Lh(t)*a\n",
       "Inf'(t) = Lh(t)*a - Inf(t)*g + s*Qh(t)\n",
       "Qh'(t) = -e*Inf(t)*g + Inf(t)*g - s*Qh(t)\n",
       "y(t) = Ninv*Inf(t)\n"
      ]
     },
     "execution_count": 51,
     "metadata": {},
     "output_type": "execute_result"
    }
   ],
   "source": [
    "SLIQR = @ODEmodel(\n",
    "\tSh'(t) = -b*Inf(t)*Sh(t)*Ninv - Sh(t)*Ninv*u(t),\n",
    "\tLh'(t) = b*Inf(t)*Sh(t)*Ninv - a*Lh(t),\n",
    "\tInf'(t) = -Inf(t)*g + s*Qh(t) + a*Lh(t),\n",
    "\tQh'(t) = -e*Inf(t)*g + Inf(t)*g - s*Qh(t),\n",
    "\ty(t) = Inf(t)*Ninv\n",
    ")"
   ]
  },
  {
   "cell_type": "code",
   "execution_count": 46,
   "id": "3e2133fb",
   "metadata": {},
   "outputs": [
    {
     "name": "stderr",
     "output_type": "stream",
     "text": [
      "\u001b[36m\u001b[1m[ \u001b[22m\u001b[39m\u001b[36m\u001b[1mInfo: \u001b[22m\u001b[39mComputing IO-equations\n",
      "\u001b[36m\u001b[1m┌ \u001b[22m\u001b[39m\u001b[36m\u001b[1mInfo: \u001b[22m\u001b[39mComputed in 0.018535 seconds\n",
      "\u001b[36m\u001b[1m│ \u001b[22m\u001b[39m  :ioeq_time = :ioeq_time\n",
      "\u001b[36m\u001b[1m└ \u001b[22m\u001b[39m  ioeq_time = 0.018535\n",
      "\u001b[36m\u001b[1m[ \u001b[22m\u001b[39m\u001b[36m\u001b[1mInfo: \u001b[22m\u001b[39mComputing Wronskians\n",
      "\u001b[36m\u001b[1m┌ \u001b[22m\u001b[39m\u001b[36m\u001b[1mInfo: \u001b[22m\u001b[39mComputed in 0.0204828 seconds\n",
      "\u001b[36m\u001b[1m│ \u001b[22m\u001b[39m  :wrnsk_time = :wrnsk_time\n",
      "\u001b[36m\u001b[1m└ \u001b[22m\u001b[39m  wrnsk_time = 0.0204828\n",
      "\u001b[36m\u001b[1m[ \u001b[22m\u001b[39m\u001b[36m\u001b[1mInfo: \u001b[22m\u001b[39mDimensions of the Wronskians [32]\n",
      "\u001b[36m\u001b[1m┌ \u001b[22m\u001b[39m\u001b[36m\u001b[1mInfo: \u001b[22m\u001b[39mRanks of the Wronskians computed in 0.0001159 seconds\n",
      "\u001b[36m\u001b[1m│ \u001b[22m\u001b[39m  :rank_time = :rank_time\n",
      "\u001b[36m\u001b[1m└ \u001b[22m\u001b[39m  rank_times = 0.0001159\n",
      "\u001b[36m\u001b[1m[ \u001b[22m\u001b[39m\u001b[36m\u001b[1mInfo: \u001b[22m\u001b[39mSimplifying identifiable functions\n",
      "\u001b[36m\u001b[1m┌ \u001b[22m\u001b[39m\u001b[36m\u001b[1mInfo: \u001b[22m\u001b[39mComputing normal forms (probabilistic)\n",
      "\u001b[36m\u001b[1m│ \u001b[22m\u001b[39mVariables (6 in total): Nemo.QQMPolyRingElem[b, e, Ninv, s, g, a]\n",
      "\u001b[36m\u001b[1m│ \u001b[22m\u001b[39mUp to degree: 2\n",
      "\u001b[36m\u001b[1m└ \u001b[22m\u001b[39mModulo: Finite field of characteristic 1073741827\n",
      "\u001b[36m\u001b[1m[ \u001b[22m\u001b[39m\u001b[36m\u001b[1mInfo: \u001b[22m\u001b[39mUsed specialization points: 8\n",
      "\u001b[36m\u001b[1m[ \u001b[22m\u001b[39m\u001b[36m\u001b[1mInfo: \u001b[22m\u001b[39mComputing 7 Groebner bases for block orderings. Simplification code is 1\n",
      "\u001b[36m\u001b[1m┌ \u001b[22m\u001b[39m\u001b[36m\u001b[1mInfo: \u001b[22m\u001b[39mFinal cleaning and simplification of generators. \n",
      "\u001b[36m\u001b[1m└ \u001b[22m\u001b[39mOut of 52 fractions 12 are syntactically unique.\n",
      "\u001b[36m\u001b[1m[ \u001b[22m\u001b[39m\u001b[36m\u001b[1mInfo: \u001b[22m\u001b[39mChecking inclusion with probability 0.995\n",
      "\u001b[36m\u001b[1m[ \u001b[22m\u001b[39m\u001b[36m\u001b[1mInfo: \u001b[22m\u001b[39mInclusion checked in 0.0180259 seconds. Result: true\n",
      "\u001b[36m\u001b[1m[ \u001b[22m\u001b[39m\u001b[36m\u001b[1mInfo: \u001b[22m\u001b[39mOut of 40 initial generators there are 6 indepdendent\n",
      "\u001b[36m\u001b[1m[ \u001b[22m\u001b[39m\u001b[36m\u001b[1mInfo: \u001b[22m\u001b[39mThe ranking of the new set of generators is 17563\n",
      "\u001b[36m\u001b[1m[ \u001b[22m\u001b[39m\u001b[36m\u001b[1mInfo: \u001b[22m\u001b[39mThe search for identifiable functions concluded in 1.3460757 seconds\n"
     ]
    },
    {
     "data": {
      "text/plain": [
       "6-element Vector{AbstractAlgebra.Generic.Frac{Nemo.QQMPolyRingElem}}:\n",
       " s\n",
       " Ninv\n",
       " b\n",
       " g + a\n",
       " (e*a)//(e*s - s + a)\n",
       " (e^2*s^2*g - e*s^2*g + 2*e*s*g*a - s^2*a - s*g*a + s*a^2 + g*a^2)//(e*s - s + a)"
      ]
     },
     "execution_count": 46,
     "metadata": {},
     "output_type": "execute_result"
    }
   ],
   "source": [
    "find_identifiable_functions(SLIQR)"
   ]
  },
  {
   "cell_type": "code",
   "execution_count": 47,
   "id": "8b541058",
   "metadata": {},
   "outputs": [
    {
     "name": "stderr",
     "output_type": "stream",
     "text": [
      "\u001b[36m✓ # Computing specializations..    Time: 0:00:00\u001b[39m\n",
      "\u001b[36m\u001b[1m┌ \u001b[22m\u001b[39m\u001b[36m\u001b[1mInfo: \u001b[22m\u001b[39mComputing normal forms (probabilistic)\n",
      "\u001b[36m\u001b[1m│ \u001b[22m\u001b[39mVariables (10 in total): Nemo.QQMPolyRingElem[b, e, Ninv, s, g, a, Sh, L, Inf, Q]\n",
      "\u001b[36m\u001b[1m│ \u001b[22m\u001b[39mUp to degree: 2\n",
      "\u001b[36m\u001b[1m└ \u001b[22m\u001b[39mModulo: Finite field of characteristic 1073741827\n",
      "\u001b[36m\u001b[1m[ \u001b[22m\u001b[39m\u001b[36m\u001b[1mInfo: \u001b[22m\u001b[39mUsed specialization points: 22\n",
      "\u001b[36m\u001b[1m[ \u001b[22m\u001b[39m\u001b[36m\u001b[1mInfo: \u001b[22m\u001b[39mComputing 11 Groebner bases for block orderings. Simplification code is 1\n",
      "\u001b[36m\u001b[1m┌ \u001b[22m\u001b[39m\u001b[36m\u001b[1mInfo: \u001b[22m\u001b[39mFinal cleaning and simplification of generators. \n",
      "\u001b[36m\u001b[1m└ \u001b[22m\u001b[39mOut of 90 fractions 25 are syntactically unique.\n",
      "\u001b[36m\u001b[1m[ \u001b[22m\u001b[39m\u001b[36m\u001b[1mInfo: \u001b[22m\u001b[39mChecking inclusion with probability 0.995\n",
      "\u001b[36m\u001b[1m[ \u001b[22m\u001b[39m\u001b[36m\u001b[1mInfo: \u001b[22m\u001b[39mInclusion checked in 0.0405425 seconds. Result: true\n",
      "\u001b[36m\u001b[1m[ \u001b[22m\u001b[39m\u001b[36m\u001b[1mInfo: \u001b[22m\u001b[39mOut of 15 initial generators there are 10 indepdendent\n",
      "\u001b[36m\u001b[1m[ \u001b[22m\u001b[39m\u001b[36m\u001b[1mInfo: \u001b[22m\u001b[39mThe ranking of the new set of generators is 332\n",
      "\u001b[36m\u001b[1m[ \u001b[22m\u001b[39m\u001b[36m\u001b[1mInfo: \u001b[22m\u001b[39mThe search for identifiable functions concluded in 3.8232633 seconds\n"
     ]
    },
    {
     "data": {
      "text/plain": [
       "10-element Vector{AbstractAlgebra.Generic.Frac{Nemo.QQMPolyRingElem}}:\n",
       " Inf\n",
       " s\n",
       " Ninv\n",
       " b\n",
       " Sh*a\n",
       " g + a\n",
       " s*Q - Q*a\n",
       " Inf*a + Q*a + a*L\n",
       " e*s*g - s*g + g*a\n",
       " (Sh*s)//(e*g)"
      ]
     },
     "execution_count": 47,
     "metadata": {},
     "output_type": "execute_result"
    }
   ],
   "source": [
    "find_identifiable_functions(SLIQR, with_states = true)"
   ]
  },
  {
   "cell_type": "markdown",
   "id": "8c9c9533",
   "metadata": {},
   "source": [
    "I should automatize this"
   ]
  },
  {
   "cell_type": "code",
   "execution_count": 55,
   "id": "c2d74ef9",
   "metadata": {},
   "outputs": [
    {
     "data": {
      "text/plain": [
       "8-element Vector{Tuple{String, String}}:\n",
       " (\"Sh\", \"Sh2\")\n",
       " (\"Lh\", \"Lh2\")\n",
       " (\"Inf\", \"Inf2\")\n",
       " (\"Qh\", \"Qh2\")\n",
       " (\"b\", \"b2\")\n",
       " (\"e\", \"e2\")\n",
       " (\"g\", \"g2\")\n",
       " (\"a\", \"a2\")"
      ]
     },
     "execution_count": 55,
     "metadata": {},
     "output_type": "execute_result"
    }
   ],
   "source": [
    "names_map_SLIQR = [(\"Sh\", \"Sh2\"), (\"Lh\", \"Lh2\"), (\"Inf\", \"Inf2\"), (\"Qh\",\"Qh2\"), (\"b\",\"b2\"), (\"e\",\"e2\"),(\"g\",\"g2\"), (\"a\",\"a2\")]"
   ]
  },
  {
   "cell_type": "code",
   "execution_count": 56,
   "id": "709c63c1",
   "metadata": {},
   "outputs": [
    {
     "name": "stderr",
     "output_type": "stream",
     "text": [
      "\u001b[36m\u001b[1m[ \u001b[22m\u001b[39m\u001b[36m\u001b[1mInfo: \u001b[22m\u001b[39mComputing IO-equations\n",
      "\u001b[36m\u001b[1m┌ \u001b[22m\u001b[39m\u001b[36m\u001b[1mInfo: \u001b[22m\u001b[39mComputed in 0.0165896 seconds\n",
      "\u001b[36m\u001b[1m│ \u001b[22m\u001b[39m  :ioeq_time = :ioeq_time\n",
      "\u001b[36m\u001b[1m└ \u001b[22m\u001b[39m  ioeq_time = 0.0165896\n",
      "\u001b[36m\u001b[1m[ \u001b[22m\u001b[39m\u001b[36m\u001b[1mInfo: \u001b[22m\u001b[39mComputing Wronskians\n",
      "\u001b[36m\u001b[1m┌ \u001b[22m\u001b[39m\u001b[36m\u001b[1mInfo: \u001b[22m\u001b[39mComputed in 0.017064 seconds\n",
      "\u001b[36m\u001b[1m│ \u001b[22m\u001b[39m  :wrnsk_time = :wrnsk_time\n",
      "\u001b[36m\u001b[1m└ \u001b[22m\u001b[39m  wrnsk_time = 0.017064\n",
      "\u001b[36m\u001b[1m[ \u001b[22m\u001b[39m\u001b[36m\u001b[1mInfo: \u001b[22m\u001b[39mDimensions of the Wronskians [32]\n",
      "\u001b[36m\u001b[1m┌ \u001b[22m\u001b[39m\u001b[36m\u001b[1mInfo: \u001b[22m\u001b[39mRanks of the Wronskians computed in 0.0001528 seconds\n",
      "\u001b[36m\u001b[1m│ \u001b[22m\u001b[39m  :rank_time = :rank_time\n",
      "\u001b[36m\u001b[1m└ \u001b[22m\u001b[39m  rank_times = 0.0001528\n",
      "\u001b[36m\u001b[1m[ \u001b[22m\u001b[39m\u001b[36m\u001b[1mInfo: \u001b[22m\u001b[39mSimplifying identifiable functions\n",
      "\u001b[36m\u001b[1m┌ \u001b[22m\u001b[39m\u001b[36m\u001b[1mInfo: \u001b[22m\u001b[39mComputing normal forms (probabilistic)\n",
      "\u001b[36m\u001b[1m│ \u001b[22m\u001b[39mVariables (6 in total): Nemo.QQMPolyRingElem[b, e, Ninv, s, g, a]\n",
      "\u001b[36m\u001b[1m│ \u001b[22m\u001b[39mUp to degree: 2\n",
      "\u001b[36m\u001b[1m└ \u001b[22m\u001b[39mModulo: Finite field of characteristic 1073741827\n",
      "\u001b[36m\u001b[1m[ \u001b[22m\u001b[39m\u001b[36m\u001b[1mInfo: \u001b[22m\u001b[39mUsed specialization points: 8\n",
      "\u001b[36m\u001b[1m[ \u001b[22m\u001b[39m\u001b[36m\u001b[1mInfo: \u001b[22m\u001b[39mComputing 7 Groebner bases for block orderings. Simplification code is 1\n",
      "\u001b[36m\u001b[1m┌ \u001b[22m\u001b[39m\u001b[36m\u001b[1mInfo: \u001b[22m\u001b[39mFinal cleaning and simplification of generators. \n",
      "\u001b[36m\u001b[1m└ \u001b[22m\u001b[39mOut of 52 fractions 12 are syntactically unique.\n",
      "\u001b[36m\u001b[1m[ \u001b[22m\u001b[39m\u001b[36m\u001b[1mInfo: \u001b[22m\u001b[39mChecking inclusion with probability 0.995\n",
      "\u001b[36m\u001b[1m[ \u001b[22m\u001b[39m\u001b[36m\u001b[1mInfo: \u001b[22m\u001b[39mInclusion checked in 0.0160327 seconds. Result: true\n",
      "\u001b[36m\u001b[1m[ \u001b[22m\u001b[39m\u001b[36m\u001b[1mInfo: \u001b[22m\u001b[39mOut of 40 initial generators there are 6 indepdendent\n",
      "\u001b[36m\u001b[1m[ \u001b[22m\u001b[39m\u001b[36m\u001b[1mInfo: \u001b[22m\u001b[39mThe ranking of the new set of generators is 17563\n",
      "\u001b[36m\u001b[1m[ \u001b[22m\u001b[39m\u001b[36m\u001b[1mInfo: \u001b[22m\u001b[39mThe search for identifiable functions concluded in 1.3066925 seconds\n"
     ]
    },
    {
     "data": {
      "text/plain": [
       "5-element Vector{NTuple{8, Sym}}:\n",
       " (Sh2, Lh2, Inf2, Qh2, b, 1, a + g, 0)\n",
       " (Sh2, Lh2, Inf2, Qh2, b, e, g, a)\n",
       " (Sh2, Lh2, Inf2, Qh2, b, 0, a + g - s, s)\n",
       " (Sh2, Lh2, Inf2, Qh2, b, a*(a*g + a*s + a*sqrt(-4*e*g*s + g^2 + 2*g*s + s^2) + 2*e*g*s - g*s - s^2 - s*sqrt(-4*e*g*s + g^2 + 2*g*s + s^2))/(2*s*(a^2 + a*g - a*s + e*g*s - g*s)), a + g/2 - s/2 + sqrt(-4*e*g*s + g^2 + 2*g*s + s^2)/2, g/2 + s/2 - sqrt(-4*e*g*s + g^2 + 2*g*s + s^2)/2)\n",
       " (Sh2, Lh2, Inf2, Qh2, b, a*(a*g + a*s - a*sqrt(-4*e*g*s + g^2 + 2*g*s + s^2) + 2*e*g*s - g*s - s^2 + s*sqrt(-4*e*g*s + g^2 + 2*g*s + s^2))/(2*s*(a^2 + a*g - a*s + e*g*s - g*s)), a + g/2 - s/2 - sqrt(-4*e*g*s + g^2 + 2*g*s + s^2)/2, g/2 + s/2 + sqrt(-4*e*g*s + g^2 + 2*g*s + s^2)/2)"
      ]
     },
     "execution_count": 56,
     "metadata": {},
     "output_type": "execute_result"
    }
   ],
   "source": [
    "find_transformations(SLIQR, names_map_SLIQR)"
   ]
  },
  {
   "cell_type": "code",
   "execution_count": 57,
   "id": "0608e3a2",
   "metadata": {
    "scrolled": true
   },
   "outputs": [
    {
     "name": "stderr",
     "output_type": "stream",
     "text": [
      "\u001b[36m\u001b[1m[ \u001b[22m\u001b[39m\u001b[36m\u001b[1mInfo: \u001b[22m\u001b[39mComputing IO-equations\n",
      "\u001b[36m\u001b[1m┌ \u001b[22m\u001b[39m\u001b[36m\u001b[1mInfo: \u001b[22m\u001b[39mComputed in 0.0405808 seconds\n",
      "\u001b[36m\u001b[1m│ \u001b[22m\u001b[39m  :ioeq_time = :ioeq_time\n",
      "\u001b[36m\u001b[1m└ \u001b[22m\u001b[39m  ioeq_time = 0.0405808\n",
      "\u001b[36m\u001b[1m[ \u001b[22m\u001b[39m\u001b[36m\u001b[1mInfo: \u001b[22m\u001b[39mComputing Wronskians\n",
      "\u001b[36m\u001b[1m┌ \u001b[22m\u001b[39m\u001b[36m\u001b[1mInfo: \u001b[22m\u001b[39mComputed in 0.0150143 seconds\n",
      "\u001b[36m\u001b[1m│ \u001b[22m\u001b[39m  :wrnsk_time = :wrnsk_time\n",
      "\u001b[36m\u001b[1m└ \u001b[22m\u001b[39m  wrnsk_time = 0.0150143\n",
      "\u001b[36m\u001b[1m[ \u001b[22m\u001b[39m\u001b[36m\u001b[1mInfo: \u001b[22m\u001b[39mDimensions of the Wronskians [32]\n",
      "\u001b[36m\u001b[1m┌ \u001b[22m\u001b[39m\u001b[36m\u001b[1mInfo: \u001b[22m\u001b[39mRanks of the Wronskians computed in 0.0001069 seconds\n",
      "\u001b[36m\u001b[1m│ \u001b[22m\u001b[39m  :rank_time = :rank_time\n",
      "\u001b[36m\u001b[1m└ \u001b[22m\u001b[39m  rank_times = 0.0001069\n",
      "\u001b[36m\u001b[1m[ \u001b[22m\u001b[39m\u001b[36m\u001b[1mInfo: \u001b[22m\u001b[39mSimplifying identifiable functions\n",
      "\u001b[36m\u001b[1m┌ \u001b[22m\u001b[39m\u001b[36m\u001b[1mInfo: \u001b[22m\u001b[39mComputing normal forms (probabilistic)\n",
      "\u001b[36m\u001b[1m│ \u001b[22m\u001b[39mVariables (6 in total): Nemo.QQMPolyRingElem[b, e, Ninv, s, g, a]\n",
      "\u001b[36m\u001b[1m│ \u001b[22m\u001b[39mUp to degree: 2\n",
      "\u001b[36m\u001b[1m└ \u001b[22m\u001b[39mModulo: Finite field of characteristic 1073741827\n",
      "\u001b[36m\u001b[1m[ \u001b[22m\u001b[39m\u001b[36m\u001b[1mInfo: \u001b[22m\u001b[39mUsed specialization points: 8\n",
      "\u001b[36m\u001b[1m[ \u001b[22m\u001b[39m\u001b[36m\u001b[1mInfo: \u001b[22m\u001b[39mComputing 7 Groebner bases for block orderings. Simplification code is 1\n",
      "\u001b[36m\u001b[1m┌ \u001b[22m\u001b[39m\u001b[36m\u001b[1mInfo: \u001b[22m\u001b[39mFinal cleaning and simplification of generators. \n",
      "\u001b[36m\u001b[1m└ \u001b[22m\u001b[39mOut of 52 fractions 12 are syntactically unique.\n",
      "\u001b[36m\u001b[1m[ \u001b[22m\u001b[39m\u001b[36m\u001b[1mInfo: \u001b[22m\u001b[39mChecking inclusion with probability 0.995\n",
      "\u001b[36m\u001b[1m[ \u001b[22m\u001b[39m\u001b[36m\u001b[1mInfo: \u001b[22m\u001b[39mInclusion checked in 0.013377 seconds. Result: true\n",
      "\u001b[36m\u001b[1m[ \u001b[22m\u001b[39m\u001b[36m\u001b[1mInfo: \u001b[22m\u001b[39mOut of 40 initial generators there are 6 indepdendent\n",
      "\u001b[36m\u001b[1m[ \u001b[22m\u001b[39m\u001b[36m\u001b[1mInfo: \u001b[22m\u001b[39mThe ranking of the new set of generators is 17563\n",
      "\u001b[36m\u001b[1m[ \u001b[22m\u001b[39m\u001b[36m\u001b[1mInfo: \u001b[22m\u001b[39mSimplifying identifiable functions\n",
      "\u001b[36m\u001b[1m┌ \u001b[22m\u001b[39m\u001b[36m\u001b[1mInfo: \u001b[22m\u001b[39mComputing normal forms (probabilistic)\n",
      "\u001b[36m\u001b[1m│ \u001b[22m\u001b[39mVariables (10 in total): Nemo.QQMPolyRingElem[b, e, Ninv, s, g, a, Sh, Lh, Inf, Qh]\n",
      "\u001b[36m\u001b[1m│ \u001b[22m\u001b[39mUp to degree: 2\n",
      "\u001b[36m\u001b[1m└ \u001b[22m\u001b[39mModulo: Finite field of characteristic 1073741827\n",
      "\u001b[36m\u001b[1m[ \u001b[22m\u001b[39m\u001b[36m\u001b[1mInfo: \u001b[22m\u001b[39mUsed specialization points: 22\n",
      "\u001b[36m\u001b[1m[ \u001b[22m\u001b[39m\u001b[36m\u001b[1mInfo: \u001b[22m\u001b[39mComputing 11 Groebner bases for block orderings. Simplification code is 1\n",
      "\u001b[36m\u001b[1m┌ \u001b[22m\u001b[39m\u001b[36m\u001b[1mInfo: \u001b[22m\u001b[39mFinal cleaning and simplification of generators. \n",
      "\u001b[36m\u001b[1m└ \u001b[22m\u001b[39mOut of 90 fractions 25 are syntactically unique.\n",
      "\u001b[36m\u001b[1m[ \u001b[22m\u001b[39m\u001b[36m\u001b[1mInfo: \u001b[22m\u001b[39mChecking inclusion with probability 0.995\n",
      "\u001b[36m\u001b[1m[ \u001b[22m\u001b[39m\u001b[36m\u001b[1mInfo: \u001b[22m\u001b[39mInclusion checked in 0.0370184 seconds. Result: true\n",
      "\u001b[36m\u001b[1m[ \u001b[22m\u001b[39m\u001b[36m\u001b[1mInfo: \u001b[22m\u001b[39mOut of 15 initial generators there are 10 indepdendent\n",
      "\u001b[36m\u001b[1m[ \u001b[22m\u001b[39m\u001b[36m\u001b[1mInfo: \u001b[22m\u001b[39mThe ranking of the new set of generators is 332\n",
      "\u001b[36m\u001b[1m[ \u001b[22m\u001b[39m\u001b[36m\u001b[1mInfo: \u001b[22m\u001b[39mThe search for identifiable functions concluded in 3.253916 seconds\n"
     ]
    },
    {
     "data": {
      "text/plain": [
       "3-element Vector{NTuple{8, Sym}}:\n",
       " (Sh, Lh, Inf, Qh, b, e, g, a)\n",
       " (Sh*a*(g + s - sqrt(-4*e*g*s + g^2 + 2*g*s + s^2))/(2*e*g*s), (Inf*a*e*g + Inf*a*e*s - Inf*a*e*sqrt(-4*e*g*s + g^2 + 2*g*s + s^2) - Inf*a*g - Inf*a*s + Inf*a*sqrt(-4*e*g*s + g^2 + 2*g*s + s^2) - 2*Inf*e^2*g*s + 2*Inf*e*g*s + Lh*a*e*g + Lh*a*e*s - Lh*a*e*sqrt(-4*e*g*s + g^2 + 2*g*s + s^2) - Lh*a*g - Lh*a*s + Lh*a*sqrt(-4*e*g*s + g^2 + 2*g*s + s^2) + 2*Qh*a*e*s - Qh*a*g - Qh*a*s + Qh*a*sqrt(-4*e*g*s + g^2 + 2*g*s + s^2) + Qh*e*g*s - Qh*e*s^2 - Qh*e*s*sqrt(-4*e*g*s + g^2 + 2*g*s + s^2))/(2*e*g*s*(e - 1)), Inf, Qh*(a*g - a*s - a*sqrt(-4*e*g*s + g^2 + 2*g*s + s^2) - g*s + s^2 + s*sqrt(-4*e*g*s + g^2 + 2*g*s + s^2))/(2*g*s*(e - 1)), b, a*(a*g + a*s - a*sqrt(-4*e*g*s + g^2 + 2*g*s + s^2) + 2*e*g*s - g*s - s^2 + s*sqrt(-4*e*g*s + g^2 + 2*g*s + s^2))/(2*s*(a^2 + a*g - a*s + e*g*s - g*s)), a + g/2 - s/2 - sqrt(-4*e*g*s + g^2 + 2*g*s + s^2)/2, g/2 + s/2 + sqrt(-4*e*g*s + g^2 + 2*g*s + s^2)/2)\n",
       " (Sh*a*(g + s + sqrt(-4*e*g*s + g^2 + 2*g*s + s^2))/(2*e*g*s), (Inf*a*e*g + Inf*a*e*s + Inf*a*e*sqrt(-4*e*g*s + g^2 + 2*g*s + s^2) - Inf*a*g - Inf*a*s - Inf*a*sqrt(-4*e*g*s + g^2 + 2*g*s + s^2) - 2*Inf*e^2*g*s + 2*Inf*e*g*s + Lh*a*e*g + Lh*a*e*s + Lh*a*e*sqrt(-4*e*g*s + g^2 + 2*g*s + s^2) - Lh*a*g - Lh*a*s - Lh*a*sqrt(-4*e*g*s + g^2 + 2*g*s + s^2) + 2*Qh*a*e*s - Qh*a*g - Qh*a*s - Qh*a*sqrt(-4*e*g*s + g^2 + 2*g*s + s^2) + Qh*e*g*s - Qh*e*s^2 + Qh*e*s*sqrt(-4*e*g*s + g^2 + 2*g*s + s^2))/(2*e*g*s*(e - 1)), Inf, Qh*(a*g - a*s + a*sqrt(-4*e*g*s + g^2 + 2*g*s + s^2) - g*s + s^2 - s*sqrt(-4*e*g*s + g^2 + 2*g*s + s^2))/(2*g*s*(e - 1)), b, a*(a*g + a*s + a*sqrt(-4*e*g*s + g^2 + 2*g*s + s^2) + 2*e*g*s - g*s - s^2 - s*sqrt(-4*e*g*s + g^2 + 2*g*s + s^2))/(2*s*(a^2 + a*g - a*s + e*g*s - g*s)), a + g/2 - s/2 + sqrt(-4*e*g*s + g^2 + 2*g*s + s^2)/2, g/2 + s/2 - sqrt(-4*e*g*s + g^2 + 2*g*s + s^2)/2)"
      ]
     },
     "execution_count": 57,
     "metadata": {},
     "output_type": "execute_result"
    }
   ],
   "source": [
    "find_transformations(SLIQR, names_map_SLIQR, true)"
   ]
  },
  {
   "cell_type": "markdown",
   "id": "325f6dd5",
   "metadata": {},
   "source": [
    "## Goodwin"
   ]
  },
  {
   "cell_type": "code",
   "execution_count": 59,
   "id": "34e16ec0",
   "metadata": {
    "scrolled": true
   },
   "outputs": [
    {
     "name": "stderr",
     "output_type": "stream",
     "text": [
      "\u001b[36m\u001b[1m[ \u001b[22m\u001b[39m\u001b[36m\u001b[1mInfo: \u001b[22m\u001b[39mSummary of the model:\n",
      "\u001b[36m\u001b[1m[ \u001b[22m\u001b[39m\u001b[36m\u001b[1mInfo: \u001b[22m\u001b[39mState variables: x1, x2, x3, x4\n",
      "\u001b[36m\u001b[1m[ \u001b[22m\u001b[39m\u001b[36m\u001b[1mInfo: \u001b[22m\u001b[39mParameters: b, alpha, c, sigma, gamm, bet, delt\n",
      "\u001b[36m\u001b[1m[ \u001b[22m\u001b[39m\u001b[36m\u001b[1mInfo: \u001b[22m\u001b[39mInputs: \n",
      "\u001b[36m\u001b[1m[ \u001b[22m\u001b[39m\u001b[36m\u001b[1mInfo: \u001b[22m\u001b[39mOutputs: y\n"
     ]
    },
    {
     "data": {
      "text/plain": [
       "x1'(t) = (-b*c*x1(t) - b*x1(t)*x4(t) + 1)//(c + x4(t))\n",
       "x2'(t) = alpha*x1(t) - x2(t)*bet\n",
       "x3'(t) = -x3(t)*delt + gamm*x2(t)\n",
       "x4'(t) = (-sigma*x3(t)*delt*x4(t) + sigma*gamm*x2(t)*x4(t))//x3(t)\n",
       "y(t) = x1(t)\n"
      ]
     },
     "execution_count": 59,
     "metadata": {},
     "output_type": "execute_result"
    }
   ],
   "source": [
    "Goodwin = @ODEmodel(\n",
    "\tx1'(t) = (-b*c*x1(t) - b*x1(t)*x4(t) + 1)//(c + x4(t)),\n",
    "\tx2'(t) = alpha*x1(t) - bet*x2(t),\n",
    "\tx3'(t) = gamm*x2(t) - delt*x3(t),\n",
    "\tx4'(t) = (gamm*sigma*x2(t)*x4(t) - delt*sigma*x3(t)*x4(t))//x3(t),\n",
    "\ty(t) = x1(t)\n",
    ")"
   ]
  },
  {
   "cell_type": "code",
   "execution_count": 60,
   "id": "30a21b5b",
   "metadata": {
    "collapsed": true
   },
   "outputs": [
    {
     "name": "stderr",
     "output_type": "stream",
     "text": [
      "\u001b[36m\u001b[1m[ \u001b[22m\u001b[39m\u001b[36m\u001b[1mInfo: \u001b[22m\u001b[39mComputing IO-equations\n",
      "\u001b[36m\u001b[1m┌ \u001b[22m\u001b[39m\u001b[36m\u001b[1mInfo: \u001b[22m\u001b[39mComputed in 0.0463212 seconds\n",
      "\u001b[36m\u001b[1m│ \u001b[22m\u001b[39m  :ioeq_time = :ioeq_time\n",
      "\u001b[36m\u001b[1m└ \u001b[22m\u001b[39m  ioeq_time = 0.0463212\n",
      "\u001b[36m\u001b[1m[ \u001b[22m\u001b[39m\u001b[36m\u001b[1mInfo: \u001b[22m\u001b[39mComputing Wronskians\n",
      "\u001b[36m\u001b[1m┌ \u001b[22m\u001b[39m\u001b[36m\u001b[1mInfo: \u001b[22m\u001b[39mComputed in 0.0465401 seconds\n",
      "\u001b[36m\u001b[1m│ \u001b[22m\u001b[39m  :wrnsk_time = :wrnsk_time\n",
      "\u001b[36m\u001b[1m└ \u001b[22m\u001b[39m  wrnsk_time = 0.0465401\n",
      "\u001b[36m\u001b[1m[ \u001b[22m\u001b[39m\u001b[36m\u001b[1mInfo: \u001b[22m\u001b[39mDimensions of the Wronskians [69]\n",
      "\u001b[36m\u001b[1m┌ \u001b[22m\u001b[39m\u001b[36m\u001b[1mInfo: \u001b[22m\u001b[39mRanks of the Wronskians computed in 0.0005052 seconds\n",
      "\u001b[36m\u001b[1m│ \u001b[22m\u001b[39m  :rank_time = :rank_time\n",
      "\u001b[36m\u001b[1m└ \u001b[22m\u001b[39m  rank_times = 0.0005052\n",
      "\u001b[36m\u001b[1m[ \u001b[22m\u001b[39m\u001b[36m\u001b[1mInfo: \u001b[22m\u001b[39mSimplifying identifiable functions\n",
      "\u001b[36m\u001b[1m┌ \u001b[22m\u001b[39m\u001b[36m\u001b[1mInfo: \u001b[22m\u001b[39mComputing normal forms (probabilistic)\n",
      "\u001b[36m\u001b[1m│ \u001b[22m\u001b[39mVariables (7 in total): Nemo.QQMPolyRingElem[b, alpha, c, sigma, gamm, bet, delt]\n",
      "\u001b[36m\u001b[1m│ \u001b[22m\u001b[39mUp to degree: 2\n",
      "\u001b[36m\u001b[1m└ \u001b[22m\u001b[39mModulo: Finite field of characteristic 1073741827\n",
      "\u001b[36m\u001b[1m[ \u001b[22m\u001b[39m\u001b[36m\u001b[1mInfo: \u001b[22m\u001b[39mUsed specialization points: 6\n",
      "\u001b[36m\u001b[1m[ \u001b[22m\u001b[39m\u001b[36m\u001b[1mInfo: \u001b[22m\u001b[39mComputing 8 Groebner bases for block orderings. Simplification code is 1\n",
      "\u001b[36m\u001b[1m┌ \u001b[22m\u001b[39m\u001b[36m\u001b[1mInfo: \u001b[22m\u001b[39mFinal cleaning and simplification of generators. \n",
      "\u001b[36m\u001b[1m└ \u001b[22m\u001b[39mOut of 61 fractions 10 are syntactically unique.\n",
      "\u001b[36m\u001b[1m[ \u001b[22m\u001b[39m\u001b[36m\u001b[1mInfo: \u001b[22m\u001b[39mChecking inclusion with probability 0.995\n",
      "\u001b[36m\u001b[1m[ \u001b[22m\u001b[39m\u001b[36m\u001b[1mInfo: \u001b[22m\u001b[39mInclusion checked in 0.0182671 seconds. Result: true\n",
      "\u001b[36m\u001b[1m[ \u001b[22m\u001b[39m\u001b[36m\u001b[1mInfo: \u001b[22m\u001b[39mOut of 90 initial generators there are 5 indepdendent\n",
      "\u001b[36m\u001b[1m[ \u001b[22m\u001b[39m\u001b[36m\u001b[1mInfo: \u001b[22m\u001b[39mThe ranking of the new set of generators is 18\n",
      "\u001b[36m\u001b[1m[ \u001b[22m\u001b[39m\u001b[36m\u001b[1mInfo: \u001b[22m\u001b[39mThe search for identifiable functions concluded in 0.6418629 seconds\n"
     ]
    },
    {
     "data": {
      "text/plain": [
       "5-element Vector{AbstractAlgebra.Generic.Frac{Nemo.QQMPolyRingElem}}:\n",
       " sigma\n",
       " c\n",
       " b\n",
       " bet*delt\n",
       " bet + delt"
      ]
     },
     "execution_count": 60,
     "metadata": {},
     "output_type": "execute_result"
    }
   ],
   "source": [
    "id_funct =find_identifiable_functions(Goodwin)"
   ]
  },
  {
   "cell_type": "code",
   "execution_count": 65,
   "id": "f0e1aebd",
   "metadata": {
    "scrolled": true
   },
   "outputs": [
    {
     "data": {
      "text/plain": [
       "11-element Vector{Tuple{String, String}}:\n",
       " (\"x1\", \"x1n\")\n",
       " (\"x2\", \"x2n\")\n",
       " (\"x3\", \"x3n\")\n",
       " (\"x4\", \"x4n\")\n",
       " (\"b\", \"bn\")\n",
       " (\"alpha\", \"alphan\")\n",
       " (\"c\", \"cn\")\n",
       " (\"gamm\", \"gammn\")\n",
       " (\"delt\", \"deltn\")\n",
       " (\"sigma\", \"sigman\")\n",
       " (\"bet\", \"betn\")"
      ]
     },
     "execution_count": 65,
     "metadata": {},
     "output_type": "execute_result"
    }
   ],
   "source": [
    "names_map_goodwin = [(\"x1\", \"x1n\"), (\"x2\", \"x2n\"), (\"x3\", \"x3n\"), (\"x4\",\"x4n\"), (\"b\",\"bn\"), (\"alpha\",\"alphan\"),(\"c\",\"cn\"), (\"gamm\",\"gammn\"),(\"delt\",\"deltn\") , (\"sigma\", \"sigman\"), (\"bet\",\"betn\")]"
   ]
  },
  {
   "cell_type": "code",
   "execution_count": 66,
   "id": "edbafcfd",
   "metadata": {
    "scrolled": true
   },
   "outputs": [
    {
     "name": "stderr",
     "output_type": "stream",
     "text": [
      "\u001b[36m\u001b[1m[ \u001b[22m\u001b[39m\u001b[36m\u001b[1mInfo: \u001b[22m\u001b[39mComputing IO-equations\n",
      "\u001b[36m\u001b[1m┌ \u001b[22m\u001b[39m\u001b[36m\u001b[1mInfo: \u001b[22m\u001b[39mComputed in 0.027024 seconds\n",
      "\u001b[36m\u001b[1m│ \u001b[22m\u001b[39m  :ioeq_time = :ioeq_time\n",
      "\u001b[36m\u001b[1m└ \u001b[22m\u001b[39m  ioeq_time = 0.027024\n",
      "\u001b[36m\u001b[1m[ \u001b[22m\u001b[39m\u001b[36m\u001b[1mInfo: \u001b[22m\u001b[39mComputing Wronskians\n",
      "\u001b[36m\u001b[1m┌ \u001b[22m\u001b[39m\u001b[36m\u001b[1mInfo: \u001b[22m\u001b[39mComputed in 0.0446908 seconds\n",
      "\u001b[36m\u001b[1m│ \u001b[22m\u001b[39m  :wrnsk_time = :wrnsk_time\n",
      "\u001b[36m\u001b[1m└ \u001b[22m\u001b[39m  wrnsk_time = 0.0446908\n",
      "\u001b[36m\u001b[1m[ \u001b[22m\u001b[39m\u001b[36m\u001b[1mInfo: \u001b[22m\u001b[39mDimensions of the Wronskians [69]\n",
      "\u001b[36m\u001b[1m┌ \u001b[22m\u001b[39m\u001b[36m\u001b[1mInfo: \u001b[22m\u001b[39mRanks of the Wronskians computed in 0.0009487 seconds\n",
      "\u001b[36m\u001b[1m│ \u001b[22m\u001b[39m  :rank_time = :rank_time\n",
      "\u001b[36m\u001b[1m└ \u001b[22m\u001b[39m  rank_times = 0.0009487\n",
      "\u001b[36m\u001b[1m[ \u001b[22m\u001b[39m\u001b[36m\u001b[1mInfo: \u001b[22m\u001b[39mSimplifying identifiable functions\n",
      "\u001b[36m\u001b[1m┌ \u001b[22m\u001b[39m\u001b[36m\u001b[1mInfo: \u001b[22m\u001b[39mComputing normal forms (probabilistic)\n",
      "\u001b[36m\u001b[1m│ \u001b[22m\u001b[39mVariables (7 in total): Nemo.QQMPolyRingElem[b, alpha, c, sigma, gamm, bet, delt]\n",
      "\u001b[36m\u001b[1m│ \u001b[22m\u001b[39mUp to degree: 2\n",
      "\u001b[36m\u001b[1m└ \u001b[22m\u001b[39mModulo: Finite field of characteristic 1073741827\n",
      "\u001b[36m\u001b[1m[ \u001b[22m\u001b[39m\u001b[36m\u001b[1mInfo: \u001b[22m\u001b[39mUsed specialization points: 6\n",
      "\u001b[36m\u001b[1m[ \u001b[22m\u001b[39m\u001b[36m\u001b[1mInfo: \u001b[22m\u001b[39mComputing 8 Groebner bases for block orderings. Simplification code is 1\n",
      "\u001b[36m\u001b[1m┌ \u001b[22m\u001b[39m\u001b[36m\u001b[1mInfo: \u001b[22m\u001b[39mFinal cleaning and simplification of generators. \n",
      "\u001b[36m\u001b[1m└ \u001b[22m\u001b[39mOut of 61 fractions 10 are syntactically unique.\n",
      "\u001b[36m\u001b[1m[ \u001b[22m\u001b[39m\u001b[36m\u001b[1mInfo: \u001b[22m\u001b[39mChecking inclusion with probability 0.995\n",
      "\u001b[36m\u001b[1m[ \u001b[22m\u001b[39m\u001b[36m\u001b[1mInfo: \u001b[22m\u001b[39mInclusion checked in 0.0106672 seconds. Result: true\n",
      "\u001b[36m\u001b[1m[ \u001b[22m\u001b[39m\u001b[36m\u001b[1mInfo: \u001b[22m\u001b[39mOut of 90 initial generators there are 5 indepdendent\n",
      "\u001b[36m\u001b[1m[ \u001b[22m\u001b[39m\u001b[36m\u001b[1mInfo: \u001b[22m\u001b[39mThe ranking of the new set of generators is 18\n",
      "\u001b[36m\u001b[1m[ \u001b[22m\u001b[39m\u001b[36m\u001b[1mInfo: \u001b[22m\u001b[39mThe search for identifiable functions concluded in 0.6527681 seconds\n"
     ]
    },
    {
     "data": {
      "text/plain": [
       "2-element Vector{NTuple{11, Sym}}:\n",
       " (x1n, x2n, x3n, x4n, b, alphan, c, gammn, delt, sigma, bet)\n",
       " (x1n, x2n, x3n, x4n, b, alphan, c, gammn, bet, sigma, delt)"
      ]
     },
     "execution_count": 66,
     "metadata": {},
     "output_type": "execute_result"
    }
   ],
   "source": [
    "find_transformations(Goodwin, names_map_goodwin)"
   ]
  },
  {
   "cell_type": "code",
   "execution_count": 67,
   "id": "9c300a36",
   "metadata": {},
   "outputs": [
    {
     "name": "stderr",
     "output_type": "stream",
     "text": [
      "\u001b[36m\u001b[1m[ \u001b[22m\u001b[39m\u001b[36m\u001b[1mInfo: \u001b[22m\u001b[39mComputing IO-equations\n",
      "\u001b[36m\u001b[1m┌ \u001b[22m\u001b[39m\u001b[36m\u001b[1mInfo: \u001b[22m\u001b[39mComputed in 0.0298653 seconds\n",
      "\u001b[36m\u001b[1m│ \u001b[22m\u001b[39m  :ioeq_time = :ioeq_time\n",
      "\u001b[36m\u001b[1m└ \u001b[22m\u001b[39m  ioeq_time = 0.0298653\n",
      "\u001b[36m\u001b[1m[ \u001b[22m\u001b[39m\u001b[36m\u001b[1mInfo: \u001b[22m\u001b[39mComputing Wronskians\n",
      "\u001b[36m\u001b[1m┌ \u001b[22m\u001b[39m\u001b[36m\u001b[1mInfo: \u001b[22m\u001b[39mComputed in 0.0308695 seconds\n",
      "\u001b[36m\u001b[1m│ \u001b[22m\u001b[39m  :wrnsk_time = :wrnsk_time\n",
      "\u001b[36m\u001b[1m└ \u001b[22m\u001b[39m  wrnsk_time = 0.0308695\n",
      "\u001b[36m\u001b[1m[ \u001b[22m\u001b[39m\u001b[36m\u001b[1mInfo: \u001b[22m\u001b[39mDimensions of the Wronskians [69]\n",
      "\u001b[36m\u001b[1m┌ \u001b[22m\u001b[39m\u001b[36m\u001b[1mInfo: \u001b[22m\u001b[39mRanks of the Wronskians computed in 0.0003276 seconds\n",
      "\u001b[36m\u001b[1m│ \u001b[22m\u001b[39m  :rank_time = :rank_time\n",
      "\u001b[36m\u001b[1m└ \u001b[22m\u001b[39m  rank_times = 0.0003276\n",
      "\u001b[36m\u001b[1m[ \u001b[22m\u001b[39m\u001b[36m\u001b[1mInfo: \u001b[22m\u001b[39mSimplifying identifiable functions\n",
      "\u001b[36m\u001b[1m┌ \u001b[22m\u001b[39m\u001b[36m\u001b[1mInfo: \u001b[22m\u001b[39mComputing normal forms (probabilistic)\n",
      "\u001b[36m\u001b[1m│ \u001b[22m\u001b[39mVariables (7 in total): Nemo.QQMPolyRingElem[b, alpha, c, sigma, gamm, bet, delt]\n",
      "\u001b[36m\u001b[1m│ \u001b[22m\u001b[39mUp to degree: 2\n",
      "\u001b[36m\u001b[1m└ \u001b[22m\u001b[39mModulo: Finite field of characteristic 1073741827\n",
      "\u001b[36m\u001b[1m[ \u001b[22m\u001b[39m\u001b[36m\u001b[1mInfo: \u001b[22m\u001b[39mUsed specialization points: 6\n",
      "\u001b[36m\u001b[1m[ \u001b[22m\u001b[39m\u001b[36m\u001b[1mInfo: \u001b[22m\u001b[39mComputing 8 Groebner bases for block orderings. Simplification code is 1\n",
      "\u001b[36m\u001b[1m┌ \u001b[22m\u001b[39m\u001b[36m\u001b[1mInfo: \u001b[22m\u001b[39mFinal cleaning and simplification of generators. \n",
      "\u001b[36m\u001b[1m└ \u001b[22m\u001b[39mOut of 61 fractions 10 are syntactically unique.\n",
      "\u001b[36m\u001b[1m[ \u001b[22m\u001b[39m\u001b[36m\u001b[1mInfo: \u001b[22m\u001b[39mChecking inclusion with probability 0.995\n",
      "\u001b[36m\u001b[1m[ \u001b[22m\u001b[39m\u001b[36m\u001b[1mInfo: \u001b[22m\u001b[39mInclusion checked in 0.0192472 seconds. Result: true\n",
      "\u001b[36m\u001b[1m[ \u001b[22m\u001b[39m\u001b[36m\u001b[1mInfo: \u001b[22m\u001b[39mOut of 90 initial generators there are 5 indepdendent\n",
      "\u001b[36m\u001b[1m[ \u001b[22m\u001b[39m\u001b[36m\u001b[1mInfo: \u001b[22m\u001b[39mThe ranking of the new set of generators is 18\n",
      "\u001b[36m\u001b[1m[ \u001b[22m\u001b[39m\u001b[36m\u001b[1mInfo: \u001b[22m\u001b[39mSimplifying identifiable functions\n",
      "\u001b[36m\u001b[1m┌ \u001b[22m\u001b[39m\u001b[36m\u001b[1mInfo: \u001b[22m\u001b[39mComputing normal forms (probabilistic)\n",
      "\u001b[36m\u001b[1m│ \u001b[22m\u001b[39mVariables (11 in total): Nemo.QQMPolyRingElem[b, alpha, c, sigma, gamm, bet, delt, x1, x2, x3, x4]\n",
      "\u001b[36m\u001b[1m│ \u001b[22m\u001b[39mUp to degree: 2\n",
      "\u001b[36m\u001b[1m└ \u001b[22m\u001b[39mModulo: Finite field of characteristic 1073741827\n",
      "\u001b[36m\u001b[1m[ \u001b[22m\u001b[39m\u001b[36m\u001b[1mInfo: \u001b[22m\u001b[39mUsed specialization points: 10\n",
      "\u001b[36m\u001b[1m[ \u001b[22m\u001b[39m\u001b[36m\u001b[1mInfo: \u001b[22m\u001b[39mComputing 12 Groebner bases for block orderings. Simplification code is 1\n",
      "\u001b[36m\u001b[1m┌ \u001b[22m\u001b[39m\u001b[36m\u001b[1mInfo: \u001b[22m\u001b[39mFinal cleaning and simplification of generators. \n",
      "\u001b[36m\u001b[1m└ \u001b[22m\u001b[39mOut of 166 fractions 20 are syntactically unique.\n",
      "\u001b[36m\u001b[1m[ \u001b[22m\u001b[39m\u001b[36m\u001b[1mInfo: \u001b[22m\u001b[39mChecking inclusion with probability 0.995\n",
      "\u001b[36m\u001b[1m[ \u001b[22m\u001b[39m\u001b[36m\u001b[1mInfo: \u001b[22m\u001b[39mInclusion checked in 0.0120791 seconds. Result: true\n",
      "\u001b[36m\u001b[1m[ \u001b[22m\u001b[39m\u001b[36m\u001b[1mInfo: \u001b[22m\u001b[39mOut of 10 initial generators there are 9 indepdendent\n",
      "\u001b[36m\u001b[1m[ \u001b[22m\u001b[39m\u001b[36m\u001b[1mInfo: \u001b[22m\u001b[39mThe ranking of the new set of generators is 515\n",
      "\u001b[36m\u001b[1m[ \u001b[22m\u001b[39m\u001b[36m\u001b[1mInfo: \u001b[22m\u001b[39mThe search for identifiable functions concluded in 1.6566218 seconds\n"
     ]
    },
    {
     "data": {
      "text/plain": [
       "4-element Vector{NTuple{11, Sym}}:\n",
       " (x1, x2n, x3n, x4, b, alpha*x2n/x2, c, gamm*x2*x3n/(x2n*x3), delt, sigma, bet)\n",
       " (x1, x2n, x3n, x4, b, alpha*gamm*x2n/(bet*x3 - delt*x3 + gamm*x2), c, (bet*x3*x3n - delt*x3*x3n + gamm*x2*x3n)/(x2n*x3), bet, sigma, delt)\n",
       " (x1, x2n, 0, x4, b, alphan, c, 0, delt, sigma, bet)\n",
       " (x1, x2n, 0, x4, b, alphan, c, 0, bet, sigma, delt)"
      ]
     },
     "execution_count": 67,
     "metadata": {},
     "output_type": "execute_result"
    }
   ],
   "source": [
    "find_transformations(Goodwin, names_map_goodwin, true)"
   ]
  }
 ],
 "metadata": {
  "kernelspec": {
   "display_name": "Julia 1.9.3",
   "language": "julia",
   "name": "julia-1.9"
  },
  "language_info": {
   "file_extension": ".jl",
   "mimetype": "application/julia",
   "name": "julia",
   "version": "1.9.3"
  }
 },
 "nbformat": 4,
 "nbformat_minor": 5
}
