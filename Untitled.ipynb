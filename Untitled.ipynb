{
 "cells": [
  {
   "cell_type": "code",
   "execution_count": 1,
   "id": "0e23c3f2",
   "metadata": {},
   "outputs": [],
   "source": [
    "using StructuralIdentifiability"
   ]
  },
  {
   "cell_type": "code",
   "execution_count": 2,
   "id": "70a4b01e",
   "metadata": {},
   "outputs": [],
   "source": [
    "using HomotopyContinuation"
   ]
  },
  {
   "cell_type": "code",
   "execution_count": 3,
   "id": "75a5325d",
   "metadata": {},
   "outputs": [],
   "source": [
    "using AbstractAlgebra"
   ]
  },
  {
   "cell_type": "code",
   "execution_count": 4,
   "id": "80296433",
   "metadata": {},
   "outputs": [],
   "source": [
    "using SymPy"
   ]
  },
  {
   "cell_type": "code",
   "execution_count": 6,
   "id": "f37fac33",
   "metadata": {},
   "outputs": [],
   "source": [
    "using Groebner"
   ]
  },
  {
   "cell_type": "code",
   "execution_count": 5,
   "id": "251eecc9",
   "metadata": {},
   "outputs": [
    {
     "data": {
      "text/plain": [
       "nemo2hc (generic function with 1 method)"
      ]
     },
     "execution_count": 5,
     "metadata": {},
     "output_type": "execute_result"
    }
   ],
   "source": [
    "include(\"functions.jl\")"
   ]
  },
  {
   "cell_type": "code",
   "execution_count": 7,
   "id": "1bf135d7",
   "metadata": {},
   "outputs": [
    {
     "name": "stderr",
     "output_type": "stream",
     "text": [
      "\u001b[36m\u001b[1m[ \u001b[22m\u001b[39m\u001b[36m\u001b[1mInfo: \u001b[22m\u001b[39mSummary of the model:\n",
      "\u001b[36m\u001b[1m[ \u001b[22m\u001b[39m\u001b[36m\u001b[1mInfo: \u001b[22m\u001b[39mState variables: x1, x2, x3\n",
      "\u001b[36m\u001b[1m[ \u001b[22m\u001b[39m\u001b[36m\u001b[1mInfo: \u001b[22m\u001b[39mParameters: k01, k31, k21, k32, k12, k23, k03\n",
      "\u001b[36m\u001b[1m[ \u001b[22m\u001b[39m\u001b[36m\u001b[1mInfo: \u001b[22m\u001b[39mInputs: u\n",
      "\u001b[36m\u001b[1m[ \u001b[22m\u001b[39m\u001b[36m\u001b[1mInfo: \u001b[22m\u001b[39mOutputs: y1, y2\n"
     ]
    },
    {
     "data": {
      "text/plain": [
       "x1'(t) = -k01*x1(t) - k31*x1(t) - k21*x1(t) + k12*x2(t) + u(t)\n",
       "x2'(t) = k21*x1(t) - k32*x2(t) - k12*x2(t) + k23*x3(t)\n",
       "x3'(t) = k31*x1(t) + k32*x2(t) - k23*x3(t) - x3(t)*k03\n",
       "y1(t) = x2(t)\n",
       "y2(t) = x3(t)\n"
      ]
     },
     "execution_count": 7,
     "metadata": {},
     "output_type": "execute_result"
    }
   ],
   "source": [
    "three_compartments = @ODEmodel(\n",
    "    x1'(t) = - (k01 + k21 + k31)* x1(t) + k12 * x2(t) + u(t),\n",
    "    x2'(t) = k21 * x1(t) - (k12 + k32) * x2(t) + k23 * x3(t),\n",
    "    x3'(t) = k31 * x1(t) + k32 * x2(t) - (k23 + k03) * x3(t),\n",
    "    y1(t) = x2(t),\n",
    "    y2(t) = x3(t)\n",
    ")"
   ]
  },
  {
   "cell_type": "code",
   "execution_count": 20,
   "id": "3d59f72c",
   "metadata": {},
   "outputs": [
    {
     "data": {
      "text/plain": [
       "11-element Vector{String}:\n",
       " \"x1\"\n",
       " \"x2\"\n",
       " \"x3\"\n",
       " \"k01\"\n",
       " \"k03\"\n",
       " \"k12\"\n",
       " \"k21\"\n",
       " \"k23\"\n",
       " \"k31\"\n",
       " \"k32\"\n",
       " \"u\""
      ]
     },
     "execution_count": 20,
     "metadata": {},
     "output_type": "execute_result"
    }
   ],
   "source": [
    "names2 = [\"x1\", \"x2\", \"x3\", \"k01\", \"k03\", \"k12\", \"k21\", \"k23\", \"k31\", \"k32\", \"u\"]"
   ]
  },
  {
   "cell_type": "code",
   "execution_count": 9,
   "id": "a3c7c79a",
   "metadata": {},
   "outputs": [
    {
     "data": {
      "text/plain": [
       "11-element Vector{Float64}:\n",
       " 1.0\n",
       " 1.0\n",
       " 1.0\n",
       " 0.022\n",
       " 0.458\n",
       " 0.22\n",
       " 0.23\n",
       " 0.16\n",
       " 0.06\n",
       " 0.32\n",
       " 1.0"
      ]
     },
     "execution_count": 9,
     "metadata": {},
     "output_type": "execute_result"
    }
   ],
   "source": [
    "init_paper = [1,1,1, 0.022, 0.458, 0.22, 0.23, 0.16, 0.06, 0.32, 1 ]"
   ]
  },
  {
   "cell_type": "code",
   "execution_count": 22,
   "id": "46267a11",
   "metadata": {},
   "outputs": [
    {
     "name": "stderr",
     "output_type": "stream",
     "text": [
      "\u001b[36m✓ # Computing specializations..    Time: 0:00:01\u001b[39m\n",
      "\u001b[36m\u001b[1m┌ \u001b[22m\u001b[39m\u001b[36m\u001b[1mInfo: \u001b[22m\u001b[39mComputing normal forms (probabilistic)\n",
      "\u001b[36m\u001b[1m│ \u001b[22m\u001b[39mVariables (7 in total): Nemo.QQMPolyRingElem[k01, k31, k21, k32, k12, k23, k03]\n",
      "\u001b[36m\u001b[1m│ \u001b[22m\u001b[39mUp to degree: 2\n",
      "\u001b[36m\u001b[1m└ \u001b[22m\u001b[39mModulo: Finite field of characteristic 1073741827\n",
      "\u001b[36m\u001b[1m[ \u001b[22m\u001b[39m\u001b[36m\u001b[1mInfo: \u001b[22m\u001b[39mUsed specialization points: 13\n",
      "\u001b[36m\u001b[1m[ \u001b[22m\u001b[39m\u001b[36m\u001b[1mInfo: \u001b[22m\u001b[39mComputing 8 Groebner bases for block orderings. Simplification code is 1\n",
      "\u001b[36m\u001b[1m┌ \u001b[22m\u001b[39m\u001b[36m\u001b[1mInfo: \u001b[22m\u001b[39mFinal cleaning and simplification of generators. \n",
      "\u001b[36m\u001b[1m└ \u001b[22m\u001b[39mOut of 76 fractions 30 are syntactically unique.\n",
      "\u001b[36m\u001b[1m[ \u001b[22m\u001b[39m\u001b[36m\u001b[1mInfo: \u001b[22m\u001b[39mChecking inclusion with probability 0.995\n",
      "\u001b[36m\u001b[1m[ \u001b[22m\u001b[39m\u001b[36m\u001b[1mInfo: \u001b[22m\u001b[39mInclusion checked in 0.0194682 seconds. Result: true\n",
      "\u001b[36m\u001b[1m[ \u001b[22m\u001b[39m\u001b[36m\u001b[1mInfo: \u001b[22m\u001b[39mOut of 7 initial generators there are 7 indepdendent\n",
      "\u001b[36m\u001b[1m[ \u001b[22m\u001b[39m\u001b[36m\u001b[1mInfo: \u001b[22m\u001b[39mThe ranking of the new set of generators is 373398\n",
      "\u001b[36m\u001b[1m[ \u001b[22m\u001b[39m\u001b[36m\u001b[1mInfo: \u001b[22m\u001b[39mThe search for identifiable functions concluded in 3.5266599 seconds\n"
     ]
    },
    {
     "data": {
      "text/plain": [
       "3-element Vector{PathResult}:\n",
       " PathResult:\n",
       " • return_code → :success\n",
       " • solution → ComplexF64[0.18412803278480558 - 1.2829270608442539e-48im, 0.281784413932063 + 1.5608945906938423e-48im, 0.06154698111514204 + 1.2107624136717646e-48im, 0.23 + 0.0im, 0.29975718895043274 - 1.2401628254827788e-48im, 0.06 + 0.0im, 0.3527833832175568 - 2.5090578715990487e-49im]\n",
       " • accuracy → 7.1929e-17\n",
       " • residual → 2.5562e-49\n",
       " • condition_jacobian → 7437.1\n",
       " • steps → 95 / 0\n",
       " • extended_precision → false\n",
       " • path_number → 1\n",
       "\n",
       " PathResult:\n",
       " • return_code → :success\n",
       " • solution → ComplexF64[0.6838719672152089 + 5.3809861030072976e-42im, 0.8830605460214387 + 1.0403239799147442e-41im, -0.7254195793638996 - 9.416725680262771e-42im, 0.23 + 0.0im, -0.17711698477562382 - 8.250845357944523e-42im, 0.06 + 0.0im, 0.5156040509028758 + 1.9954490131985395e-42im]\n",
       " • accuracy → 4.3881e-15\n",
       " • residual → 2.2204e-16\n",
       " • condition_jacobian → 809.27\n",
       " • steps → 84 / 0\n",
       " • extended_precision → false\n",
       " • path_number → 2\n",
       "\n",
       " PathResult:\n",
       " • return_code → :success\n",
       " • solution → ComplexF64[0.021999999999986534 - 5.227332833403359e-58im, 0.45800000000002167 + 8.363732533445374e-58im, 0.22000000000001163 + 4.480571000060022e-58im, 0.23 + 0.0im, 0.15999999999998274 - 6.671072377867144e-58im, 0.06 + 0.0im, 0.31999999999999756 - 9.334522916791713e-59im]\n",
       " • accuracy → 5.8982e-17\n",
       " • residual → 5.5511e-17\n",
       " • condition_jacobian → 11030.0\n",
       " • steps → 79 / 0\n",
       " • extended_precision → false\n",
       " • path_number → 3\n"
      ]
     },
     "execution_count": 22,
     "metadata": {},
     "output_type": "execute_result"
    }
   ],
   "source": [
    "Results = find_numerical_transformations_hc(three_compartments, names2, init_paper)"
   ]
  },
  {
   "cell_type": "code",
   "execution_count": 26,
   "id": "39a6cf1b",
   "metadata": {},
   "outputs": [
    {
     "data": {
      "text/plain": [
       "7-element Vector{Float64}:\n",
       " 0.18412803278480558\n",
       " 0.281784413932063\n",
       " 0.06154698111514204\n",
       " 0.23\n",
       " 0.29975718895043274\n",
       " 0.06\n",
       " 0.3527833832175568"
      ]
     },
     "execution_count": 26,
     "metadata": {},
     "output_type": "execute_result"
    }
   ],
   "source": [
    "real(Results[1].solution)"
   ]
  },
  {
   "cell_type": "code",
   "execution_count": 46,
   "id": "0cc8ea3f",
   "metadata": {},
   "outputs": [
    {
     "name": "stderr",
     "output_type": "stream",
     "text": [
      "\u001b[36m✓ # Computing specializations..    Time: 0:00:01\u001b[39m\n",
      "\u001b[36m\u001b[1m┌ \u001b[22m\u001b[39m\u001b[36m\u001b[1mInfo: \u001b[22m\u001b[39mComputing normal forms (probabilistic)\n",
      "\u001b[36m\u001b[1m│ \u001b[22m\u001b[39mVariables (7 in total): Nemo.QQMPolyRingElem[k01, k31, k21, k32, k12, k23, k03]\n",
      "\u001b[36m\u001b[1m│ \u001b[22m\u001b[39mUp to degree: 2\n",
      "\u001b[36m\u001b[1m└ \u001b[22m\u001b[39mModulo: Finite field of characteristic 1073741827\n",
      "\u001b[36m\u001b[1m[ \u001b[22m\u001b[39m\u001b[36m\u001b[1mInfo: \u001b[22m\u001b[39mUsed specialization points: 13\n",
      "\u001b[36m\u001b[1m[ \u001b[22m\u001b[39m\u001b[36m\u001b[1mInfo: \u001b[22m\u001b[39mComputing 8 Groebner bases for block orderings. Simplification code is 1\n",
      "\u001b[36m\u001b[1m┌ \u001b[22m\u001b[39m\u001b[36m\u001b[1mInfo: \u001b[22m\u001b[39mFinal cleaning and simplification of generators. \n",
      "\u001b[36m\u001b[1m└ \u001b[22m\u001b[39mOut of 76 fractions 30 are syntactically unique.\n",
      "\u001b[36m\u001b[1m[ \u001b[22m\u001b[39m\u001b[36m\u001b[1mInfo: \u001b[22m\u001b[39mChecking inclusion with probability 0.995\n",
      "\u001b[36m\u001b[1m[ \u001b[22m\u001b[39m\u001b[36m\u001b[1mInfo: \u001b[22m\u001b[39mInclusion checked in 0.0187344 seconds. Result: true\n",
      "\u001b[36m\u001b[1m[ \u001b[22m\u001b[39m\u001b[36m\u001b[1mInfo: \u001b[22m\u001b[39mOut of 7 initial generators there are 7 indepdendent\n",
      "\u001b[36m\u001b[1m[ \u001b[22m\u001b[39m\u001b[36m\u001b[1mInfo: \u001b[22m\u001b[39mThe ranking of the new set of generators is 373398\n",
      "\u001b[36m\u001b[1m[ \u001b[22m\u001b[39m\u001b[36m\u001b[1mInfo: \u001b[22m\u001b[39mThe search for identifiable functions concluded in 3.1109261 seconds\n"
     ]
    }
   ],
   "source": [
    "init_paper = [1,1,1, 0.022, 0.458, 0.22, 0.23, 0.16, 0.06, 0.32, 1 ]\n",
    "x = []\n",
    "for i in 1:10\n",
    "    push!(x, find_numerical_transformations_hc(three_compartments, names2, init_paper) )\n",
    "    init_paper[6] += 1 \n",
    "end"
   ]
  },
  {
   "cell_type": "code",
   "execution_count": 45,
   "id": "fe106140",
   "metadata": {},
   "outputs": [
    {
     "data": {
      "text/plain": [
       "5-element Vector{Any}:\n",
       " [0.6838719672152089, 0.8830605460214387, -0.7254195793638996, 0.23, -0.17711698477562382, 0.06, 0.5156040509028758]\n",
       " [1.5808662922119225, 0.7176625194942127, -0.8132651126570009, 0.23, -0.04593923959885838, 0.06, 0.7406755405497242]\n",
       " [2.562909208041103, 0.6917259747330562, -1.0447270818082748, 0.23, -0.025368876512424043, 0.06, 0.9954607755465394]\n",
       " [0.3121381069894016, -0.5581661357547374, 3.1192605092102523, 0.23, 0.9659248662882399, 0.06, 0.3408426532668443]\n",
       " [0.3158791347045599, -0.6427598549609805, 4.136611487971029, 0.23, 1.0330164366931913, 0.06, 0.33725279559220084]"
      ]
     },
     "execution_count": 45,
     "metadata": {},
     "output_type": "execute_result"
    }
   ],
   "source": [
    "#changing k21, solution 1\n",
    "x"
   ]
  }
 ],
 "metadata": {
  "kernelspec": {
   "display_name": "Julia 1.9.3",
   "language": "julia",
   "name": "julia-1.9"
  },
  "language_info": {
   "file_extension": ".jl",
   "mimetype": "application/julia",
   "name": "julia",
   "version": "1.9.3"
  }
 },
 "nbformat": 4,
 "nbformat_minor": 5
}
